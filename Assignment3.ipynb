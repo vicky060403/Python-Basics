{
  "nbformat": 4,
  "nbformat_minor": 0,
  "metadata": {
    "colab": {
      "provenance": []
    },
    "kernelspec": {
      "name": "python3",
      "display_name": "Python 3"
    },
    "language_info": {
      "name": "python"
    }
  },
  "cells": [
    {
      "cell_type": "markdown",
      "source": [],
      "metadata": {
        "id": "q5cdilKvSbiM"
      }
    },
    {
      "cell_type": "markdown",
      "source": [
        "1. What is the difference between a function and a method in Python?\n",
        "- Function:\n",
        "    - A function is a block of reusable code that perform specific task.\n",
        "    - It is defined using \"def\" keyword and can be access globally.\n",
        "    - It is class independent and defined outside the class.\n",
        "    - You can call it directly using its name.\n",
        "    - Example:\n",
        "\n",
        "          def add(a, b):\n",
        "            return a + b\n",
        "          \n",
        "          print(add(2, 3)) # output: 5\n",
        "\n",
        "- Method:\n",
        "    - A method is similar to a function but it is associated with a class or an object.\n",
        "    - It is defined inside the class\n",
        "    - For instance methods, it takes self as the first parameter, which refers to the object itself.\n",
        "    - You call it using an object in the form object_name.method_name()\n",
        "    - Example:\n",
        "\n",
        "          class calculator:\n",
        "            def add(self, a, b):\n",
        "              return a+b\n",
        "          \n",
        "          # object\n",
        "          cal = calculator()\n",
        "          print(cal.add(3, 5)) # output: 8\n",
        "\n",
        "    \n"
      ],
      "metadata": {
        "id": "JIlMLDwXSf7w"
      }
    },
    {
      "cell_type": "markdown",
      "source": [
        "2. Explain the concept of function arguments and parameters in Python?\n",
        "- Function arguments:\n",
        "  - The arguments are the actual values you pass to a function when call. And this values assigned to the parameters in the function defination.\n",
        "  - Example:\n",
        "\n",
        "        name = 'vicky'\n",
        "        greet(name) # here name is a argument\n",
        "- Parameters:\n",
        "  - Parameters are the variable defined in function header and it acts as placeholder for the values that will be passed when the function is called.\n",
        "  - They only exist in function definition.\n",
        "  - Example:\n",
        "\n",
        "        def greet(naam):\n",
        "          print(f'Hello, {naam}')"
      ],
      "metadata": {
        "id": "AQjkRo-wSf42"
      }
    },
    {
      "cell_type": "markdown",
      "source": [
        "3. What are the different ways to define and call a function in Python?\n",
        "- The different ways to define and call a funtion in Python are:\n",
        "  - i. simple function(no parameter , no return):\n",
        "    - Defined using def without parameters or return value.\n",
        "    - Called directly by its name.\n",
        "    - Example:\n",
        "\n",
        "          def greet():\n",
        "            print(\"Hello, Python!\")\n",
        "\n",
        "          greet()  # call the simple function\n",
        "  - ii. function with parameter :\n",
        "    - It is define with parameter and called by passing arguments.\n",
        "    - Example:\n",
        "          \n",
        "          def add(a, b): # define the function with parameters\n",
        "            return a+b\n",
        "          print(add(3, 5)) # call the function with arguments and output is 8\n",
        "  - iii. function with default parameter :\n",
        "    - function is defined with parameter and may have default values\n",
        "    - we called the function by their name with arguments ,if not provided default argument in the call, defaults values are used.\n",
        "    - Example:\n",
        "\n",
        "          def cal(a, b, c = 6):\n",
        "            return a + b * c\n",
        "          print(cal(2, 3)) # output: 20\n",
        "  - iv. function with keyword arguments:\n",
        "    - Parameters are passed using key=value format.\n",
        "    - Order of arguments does not matter.\n",
        "    - Example:\n",
        "  \n",
        "          def sum(a, b, c):\n",
        "            return f'sum : {a + b + c}'\n",
        "          print(sum(b = 2, c = 3, a = 0))\n",
        "  - v. function with variable length arguments:\n",
        "    - It accept any number of postional arguments.\n",
        "    - Example:\n",
        "\n",
        "          def sum(*args):\n",
        "            sum = 0\n",
        "            for i in args:\n",
        "              sum += i\n",
        "            return sum\n",
        "\n",
        "          print(sum(1,2,3,4,5)) # output:\n",
        "  - vi. function with variable length keywords arguments:\n",
        "    - It accept any numbers of keywords arguments as a dictionary.\n",
        "    - Example:\n",
        "\n",
        "          def details(**kwargs):\n",
        "            for key, val in kwargs.items():\n",
        "              print(f\"{key} : {val}\")\n",
        "            \n",
        "          details(name='vicky', age=22, cgpa=7.62)\n",
        "  - vii. Lambda function:\n",
        "    - It is anonymous function, used for short operations. It is also called short-hand function.\n",
        "    - It is defined without def keyword\n",
        "    - Example:\n",
        "\n",
        "          square = lambda x: x**2\n",
        "          print('Square: ', square(10)) # output: 100\n",
        "  - viii. function inside class(method):\n",
        "    - function that defined inside the class and called using an object.\n",
        "    - Example:\n",
        "\n",
        "          class Cal:\n",
        "            def add(self, a, b):\n",
        "              return a + b\n",
        "          c = Cal()\n",
        "          c.add(2, 3) # output: 5"
      ],
      "metadata": {
        "id": "CO2BLGdeSf07"
      }
    },
    {
      "cell_type": "markdown",
      "source": [
        "4. What is the purpose of the `return` statement in a Python function?\n",
        "- Purpose of return statement in python are:\n",
        "  - The return statement is used in function to send a result back to the caller.\n",
        "  - Once return is executed, function ends immediately, and specified value is passed back.\n",
        "  - If no return is used, the function returns None by default.\n",
        "  - Examples:\n",
        "\n",
        "        def sum(a, b):\n",
        "          return a+b\n",
        "        print(sum(2, 3)) # output: 5\n",
        "\n",
        "        def greet(name):\n",
        "          print(f'hello, {name}')\n",
        "        std = greet('vicky')\n",
        "        print(std) # output: None\n",
        "\n"
      ],
      "metadata": {
        "id": "FWi_KAKzSfyE"
      }
    },
    {
      "cell_type": "markdown",
      "source": [
        "5. What are iterators in Python and how do they differ from iterables?\n",
        "- Iterators:\n",
        "  - Iterators are the python object or sequential data-structure that represent the stream of data and return the data one by one.\n",
        "  - For examples list, string, sets, etc are the iterators.\n",
        "  - It is implemented using two methods that is __iter__() and __next__().\n",
        "  - Creating using iter() built in function or by using genrators.\n",
        "  - Example:\n",
        "\n",
        "        num = [1,2,3,4]\n",
        "        iterator = iter(num)\n",
        "        print(next(iterator)) # output: 1\n",
        "        print(next(iterator)) # output: 2\n",
        "        print(next(iterator)) # output: 3\n",
        "        print(next(iterator)) # output: 4\n",
        "- Iterables:\n",
        "  - An iterables is the any python object that can be looped over.\n",
        "  - It implements the __iter__() method which returns an itrator.\n",
        "  - Examples are lists, strings, dictionary, etc.\n",
        "\n",
        "        nums = [1,2,3,4,5]\n",
        "        for i in nums:\n",
        "          print(i)  # here nums is iterable"
      ],
      "metadata": {
        "id": "tXZb49EESfvQ"
      }
    },
    {
      "cell_type": "markdown",
      "source": [
        "6. Explain the concept of generators in Python and how they are defined.\n",
        "- Generator functions in Python are a way to create iterators in a more concise and memory-efficient manner.\n",
        "- These functions allow you to iterate over a potentially large sequence of data without loading the entire\n",
        "sequence into memory.\n",
        "- Generator are defined using yield keyword in function instead of return statement. Each call to yield pauses the function and returns a value, resuming from where it left off on the next iteration.\n",
        "- Example:\n",
        "\n",
        "       def fibo(n):\n",
        "          a, b = 0, 1\n",
        "          for i in range(n):\n",
        "            yield a\n",
        "            a, b = b, a+b\n",
        "       for num in fibo(5):\n",
        "          print(num)  # output: 0 1 1 2 3\n",
        "\n",
        "<!-- --: Optional Point :--\n",
        "- We can also defined generator function using generator expressions(similar to list comprihension but instead of using [] we use ()).\n",
        "-     sq = (x**2 for x in range(5))\n",
        "      for i in sq:\n",
        "        print(i)    # 0 1 4 9 16 -->"
      ],
      "metadata": {
        "id": "DKwQTQmLSfsc"
      }
    },
    {
      "cell_type": "markdown",
      "source": [
        "7. What are the advantages of using generators over regular functions?\n",
        "- Regular function → returns all data at once.\n",
        "- Generator → returns data one piece at a time, saving memory and time.\n",
        "- Advantages of generators over regular functions:\n",
        "  - Memory efficient: Generators don’t create the whole list in memory. They give one value at a time when needed.\n",
        "  - Faster for large data: Since values are produced only when required, generators are faster for big or infinite data streams.\n",
        "  - Convenient with Infinite Sequences: Regular functions cannot return infinite results. But generators can keep producing values forever using yield.\n",
        "  - Cleaner Code: You don’t need to manage the state (like where you left off). yield automatically remembers the function’s state for the next call.\n",
        "  - Better Performance in Loops: For loops can directly use generators, making them useful for data pipelines (reading files, API results, etc.).\n"
      ],
      "metadata": {
        "id": "1ocBvAftSfpo"
      }
    },
    {
      "cell_type": "markdown",
      "source": [
        "8. What is a lambda function in Python and when is it typically used?\n",
        "- Lambda function is an anonymous function(a function without name) that is used to solve short operations.\n",
        "- It is defined using lambda keyword\n",
        "- It can take any number of arguments but only one expression.\n",
        "- It’s usually written in one line.\n",
        "- Example:\n",
        "\n",
        "      sq = lambda x: x**2\n",
        "      print(sq(5)) # output: 25\n",
        "- Lambda functions are used when you need a short, quick function for a short period of time, and used to solve simpler problems.\n",
        "- It especially used in functions like map(), filter(), reduce(),and sorted().\n",
        "- Examples:\n",
        "\n",
        "      num = [1,2,3,4,5]\n",
        "      sq = list(map(lambda x: x**2, num))\n",
        "      print(sq) # [1,4,9,16,25]\n",
        "\n",
        "      words = ['apple','orange','mango']\n",
        "      # sort the words on the basis of length\n",
        "      words.sort(key: lambda x: len(x))\n",
        "      print(words)  # ['apple', 'mango', 'orange']\n",
        "\n",
        "      "
      ],
      "metadata": {
        "id": "qyMmZXamSfjh"
      }
    },
    {
      "cell_type": "markdown",
      "source": [
        "9. Explain the purpose and usage of the `map()` function in Python.\n",
        "- The map() function is used to apply a function to each item in an iterable (like list, tuple, etc.) and return a new iterable (map object).\n",
        "- It helps to avoid writing explicit loops.\n",
        "- syntax: map(function, iterable) where iterable are list , tuple, dict,etc and function is the function you should apply.\n",
        "- Usages:\n",
        "  - Faster and cleaner than writing manual loops.\n",
        "  - more radable and also work on multiple iterable.\n",
        "  - It returns map objects that why we use list or tuples to convert map object into list or tuples.\n",
        "- Use cases:\n",
        "      \n",
        "      # simple function\n",
        "      def square(x):\n",
        "        return x**2\n",
        "      num = [1, 3, 4, 6]\n",
        "      sq_num = list(map(square, num))\n",
        "      print(sq_num) # [1, 9, 16, 36]\n",
        "\n",
        "      # using lambda function\n",
        "      sq_num2 = list(map(lambda x: x**2, num))\n",
        "      print(sq_num)   # [1, 9, 16, 36]\n",
        "\n",
        "      # with multiple iterables\n",
        "      num1 = [1, 4, 5]\n",
        "      num2 = [2, 9, 8]\n",
        "      sq = list(map(lambda x, y: x*y, num1, num2))\n",
        "      print(sq)   # [2, 36, 40]"
      ],
      "metadata": {
        "id": "aCDt-blWSfg2"
      }
    },
    {
      "cell_type": "markdown",
      "source": [
        "10. What is the difference between `map()`, `reduce()`, and `filter()` functions in Python?\n",
        "- map() function:\n",
        "  - The purpose are to apply a function to every element of an iterable without using loop.\n",
        "  - A new iterable with transformed values is obtained as an output.\n",
        "  - it returns map objects\n",
        "  - It is build in function\n",
        "        \n",
        "        sq_num2 = list(map(lambda x: x**2, num))\n",
        "        print(sq_num)   # [1, 9, 16, 36]\n",
        "- reduce() function:\n",
        "  - The purpose are to repeatedly apply a function to elements and reducing them to a single value.\n",
        "  - One result (not a list to convert like in map()).\n",
        "  - It requires external library functools to import reduce function.\n",
        "\n",
        "        from functools import reduce\n",
        "        num = [1,4,5,6]\n",
        "        new_num = reduce(lambda x, y: x + y, num)\n",
        "        print(new_num)   # output: 16\n",
        "- filter() function:\n",
        "  - The purpose of the filter function are to filter out the items based on the conditons.\n",
        "  - A new iterable with only filtered items.\n",
        "  - It returns filter object as output so we convert it into list or tuples using list() and tuples() functions.\n",
        "  - It is also build in function.\n",
        "\n",
        "        num = [1, 4, 9, 11, 20, 3]\n",
        "        even_num = list(filter(lambda x: x % 2 == 0, num))\n",
        "        print(result)  # output: [4, 20]"
      ],
      "metadata": {
        "id": "jrTH4XspSfd-"
      }
    },
    {
      "cell_type": "markdown",
      "source": [
        "11. Using pen & Paper write the internal mechanism for sum operation using  reduce function on this given\n",
        "list:[47,11,42,13];\n",
        "\n",
        "![assign.jpg](data:image/jpeg;base64,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)"
      ],
      "metadata": {
        "id": "HthVZTBXSfbB"
      }
    },
    {
      "cell_type": "markdown",
      "source": [
        "#Practical Questions\n"
      ],
      "metadata": {
        "id": "9K_2B3lUSeoj"
      }
    },
    {
      "cell_type": "code",
      "execution_count": null,
      "metadata": {
        "id": "ZiVIB814xM2X",
        "colab": {
          "base_uri": "https://localhost:8080/"
        },
        "outputId": "e1fcdbc6-0b35-46c8-a53e-3718f928b224"
      },
      "outputs": [
        {
          "output_type": "stream",
          "name": "stdout",
          "text": [
            "Sum of even numbers:  54\n"
          ]
        }
      ],
      "source": [
        "# 1.  Write a Python function that takes a list of numbers as input and returns the sum of all even numbers in the list\n",
        "from functools import reduce\n",
        "def even_sum(num):\n",
        "  ans = list(filter(lambda x: x % 2 == 0, num))\n",
        "  return reduce(lambda x,y: x+y, ans)\n",
        "\n",
        "num = [1, 4, 10, 6, 3, 13, 12, 22]\n",
        "print('Sum of even numbers: ',even_sum(num))"
      ]
    },
    {
      "cell_type": "code",
      "source": [
        "# 2. Create a Python function that accepts a string and returns the reverse of that string.\n",
        "def reverse_string(message):\n",
        "  new_mess = ''\n",
        "  for i in range(len(message)-1, -1, -1):\n",
        "    new_mess += message[i]\n",
        "  return new_mess\n",
        "\n",
        "print(reverse_string('HELLO-WORLD!'))"
      ],
      "metadata": {
        "colab": {
          "base_uri": "https://localhost:8080/"
        },
        "id": "kFdf9ECo52Pn",
        "outputId": "af2f19e5-3bbd-48f9-fb01-a5a8bfd5774b"
      },
      "execution_count": null,
      "outputs": [
        {
          "output_type": "stream",
          "name": "stdout",
          "text": [
            "!DLROW-OLLEH\n"
          ]
        }
      ]
    },
    {
      "cell_type": "code",
      "source": [
        "# 3. Implement a Python function that takes a list of integers and returns a new list containing the squares of each number.\n",
        "def square(num):\n",
        "  ans = list(map(lambda x: x**2, num))\n",
        "  return ans\n",
        "\n",
        "num = [1, 3, 5, 4, 6]\n",
        "print('Square of each item of num : ',square(num))"
      ],
      "metadata": {
        "colab": {
          "base_uri": "https://localhost:8080/"
        },
        "id": "TDAnUFS57wsB",
        "outputId": "240d5163-749e-4d86-efc0-e19395544a6f"
      },
      "execution_count": null,
      "outputs": [
        {
          "output_type": "stream",
          "name": "stdout",
          "text": [
            "Square of each item of num :  [1, 9, 25, 16, 36]\n"
          ]
        }
      ]
    },
    {
      "cell_type": "code",
      "source": [
        "# 4. Write a Python function that checks if a given number is prime or not from 1 to 200.\n",
        "def is_prime(n):\n",
        "  if n < 2:\n",
        "    return False\n",
        "  for i in range(2, n):\n",
        "    if n % i == 0:\n",
        "      return False\n",
        "  return True\n",
        "\n",
        "for i in range(1, 201):\n",
        "  if is_prime(i):\n",
        "    print(f'{i} is a prime no.')\n",
        "  else:\n",
        "    print(f'{i} is not prime no.')\n"
      ],
      "metadata": {
        "id": "0pXFQNaH8aFk",
        "colab": {
          "base_uri": "https://localhost:8080/"
        },
        "outputId": "0bb368b8-805f-406e-830e-a72a014534d8"
      },
      "execution_count": null,
      "outputs": [
        {
          "output_type": "stream",
          "name": "stdout",
          "text": [
            "1 is not prime no.\n",
            "2 is a prime no.\n",
            "3 is a prime no.\n",
            "4 is not prime no.\n",
            "5 is a prime no.\n",
            "6 is not prime no.\n",
            "7 is a prime no.\n",
            "8 is not prime no.\n",
            "9 is not prime no.\n",
            "10 is not prime no.\n",
            "11 is a prime no.\n",
            "12 is not prime no.\n",
            "13 is a prime no.\n",
            "14 is not prime no.\n",
            "15 is not prime no.\n",
            "16 is not prime no.\n",
            "17 is a prime no.\n",
            "18 is not prime no.\n",
            "19 is a prime no.\n",
            "20 is not prime no.\n",
            "21 is not prime no.\n",
            "22 is not prime no.\n",
            "23 is a prime no.\n",
            "24 is not prime no.\n",
            "25 is not prime no.\n",
            "26 is not prime no.\n",
            "27 is not prime no.\n",
            "28 is not prime no.\n",
            "29 is a prime no.\n",
            "30 is not prime no.\n",
            "31 is a prime no.\n",
            "32 is not prime no.\n",
            "33 is not prime no.\n",
            "34 is not prime no.\n",
            "35 is not prime no.\n",
            "36 is not prime no.\n",
            "37 is a prime no.\n",
            "38 is not prime no.\n",
            "39 is not prime no.\n",
            "40 is not prime no.\n",
            "41 is a prime no.\n",
            "42 is not prime no.\n",
            "43 is a prime no.\n",
            "44 is not prime no.\n",
            "45 is not prime no.\n",
            "46 is not prime no.\n",
            "47 is a prime no.\n",
            "48 is not prime no.\n",
            "49 is not prime no.\n",
            "50 is not prime no.\n",
            "51 is not prime no.\n",
            "52 is not prime no.\n",
            "53 is a prime no.\n",
            "54 is not prime no.\n",
            "55 is not prime no.\n",
            "56 is not prime no.\n",
            "57 is not prime no.\n",
            "58 is not prime no.\n",
            "59 is a prime no.\n",
            "60 is not prime no.\n",
            "61 is a prime no.\n",
            "62 is not prime no.\n",
            "63 is not prime no.\n",
            "64 is not prime no.\n",
            "65 is not prime no.\n",
            "66 is not prime no.\n",
            "67 is a prime no.\n",
            "68 is not prime no.\n",
            "69 is not prime no.\n",
            "70 is not prime no.\n",
            "71 is a prime no.\n",
            "72 is not prime no.\n",
            "73 is a prime no.\n",
            "74 is not prime no.\n",
            "75 is not prime no.\n",
            "76 is not prime no.\n",
            "77 is not prime no.\n",
            "78 is not prime no.\n",
            "79 is a prime no.\n",
            "80 is not prime no.\n",
            "81 is not prime no.\n",
            "82 is not prime no.\n",
            "83 is a prime no.\n",
            "84 is not prime no.\n",
            "85 is not prime no.\n",
            "86 is not prime no.\n",
            "87 is not prime no.\n",
            "88 is not prime no.\n",
            "89 is a prime no.\n",
            "90 is not prime no.\n",
            "91 is not prime no.\n",
            "92 is not prime no.\n",
            "93 is not prime no.\n",
            "94 is not prime no.\n",
            "95 is not prime no.\n",
            "96 is not prime no.\n",
            "97 is a prime no.\n",
            "98 is not prime no.\n",
            "99 is not prime no.\n",
            "100 is not prime no.\n",
            "101 is a prime no.\n",
            "102 is not prime no.\n",
            "103 is a prime no.\n",
            "104 is not prime no.\n",
            "105 is not prime no.\n",
            "106 is not prime no.\n",
            "107 is a prime no.\n",
            "108 is not prime no.\n",
            "109 is a prime no.\n",
            "110 is not prime no.\n",
            "111 is not prime no.\n",
            "112 is not prime no.\n",
            "113 is a prime no.\n",
            "114 is not prime no.\n",
            "115 is not prime no.\n",
            "116 is not prime no.\n",
            "117 is not prime no.\n",
            "118 is not prime no.\n",
            "119 is not prime no.\n",
            "120 is not prime no.\n",
            "121 is not prime no.\n",
            "122 is not prime no.\n",
            "123 is not prime no.\n",
            "124 is not prime no.\n",
            "125 is not prime no.\n",
            "126 is not prime no.\n",
            "127 is a prime no.\n",
            "128 is not prime no.\n",
            "129 is not prime no.\n",
            "130 is not prime no.\n",
            "131 is a prime no.\n",
            "132 is not prime no.\n",
            "133 is not prime no.\n",
            "134 is not prime no.\n",
            "135 is not prime no.\n",
            "136 is not prime no.\n",
            "137 is a prime no.\n",
            "138 is not prime no.\n",
            "139 is a prime no.\n",
            "140 is not prime no.\n",
            "141 is not prime no.\n",
            "142 is not prime no.\n",
            "143 is not prime no.\n",
            "144 is not prime no.\n",
            "145 is not prime no.\n",
            "146 is not prime no.\n",
            "147 is not prime no.\n",
            "148 is not prime no.\n",
            "149 is a prime no.\n",
            "150 is not prime no.\n",
            "151 is a prime no.\n",
            "152 is not prime no.\n",
            "153 is not prime no.\n",
            "154 is not prime no.\n",
            "155 is not prime no.\n",
            "156 is not prime no.\n",
            "157 is a prime no.\n",
            "158 is not prime no.\n",
            "159 is not prime no.\n",
            "160 is not prime no.\n",
            "161 is not prime no.\n",
            "162 is not prime no.\n",
            "163 is a prime no.\n",
            "164 is not prime no.\n",
            "165 is not prime no.\n",
            "166 is not prime no.\n",
            "167 is a prime no.\n",
            "168 is not prime no.\n",
            "169 is not prime no.\n",
            "170 is not prime no.\n",
            "171 is not prime no.\n",
            "172 is not prime no.\n",
            "173 is a prime no.\n",
            "174 is not prime no.\n",
            "175 is not prime no.\n",
            "176 is not prime no.\n",
            "177 is not prime no.\n",
            "178 is not prime no.\n",
            "179 is a prime no.\n",
            "180 is not prime no.\n",
            "181 is a prime no.\n",
            "182 is not prime no.\n",
            "183 is not prime no.\n",
            "184 is not prime no.\n",
            "185 is not prime no.\n",
            "186 is not prime no.\n",
            "187 is not prime no.\n",
            "188 is not prime no.\n",
            "189 is not prime no.\n",
            "190 is not prime no.\n",
            "191 is a prime no.\n",
            "192 is not prime no.\n",
            "193 is a prime no.\n",
            "194 is not prime no.\n",
            "195 is not prime no.\n",
            "196 is not prime no.\n",
            "197 is a prime no.\n",
            "198 is not prime no.\n",
            "199 is a prime no.\n",
            "200 is not prime no.\n"
          ]
        }
      ]
    },
    {
      "cell_type": "code",
      "source": [
        "# 5. Create an iterator class in Python that generates the Fibonacci sequence up to a specified number of terms.\n",
        "class Fibo:\n",
        "  def __init__(self, n): # initialize the varibles\n",
        "    self.nterms = n\n",
        "    self.count = 0\n",
        "    self.a, self.b = 0, 1\n",
        "  def __iter__(self):   # declare the iterator method __iter__()\n",
        "    return self\n",
        "  def __next__(self):     # declare the iterator method __next__()\n",
        "    if self.count >= self.nterms:\n",
        "      raise StopIteration\n",
        "    if self.count == 0:\n",
        "      self.count += 1\n",
        "      return self.a\n",
        "    elif self.count == 1:\n",
        "      self.count += 1\n",
        "      return self.b\n",
        "    else:\n",
        "      self.a, self.b = self.b, self.a + self.b\n",
        "      self.count += 1\n",
        "      return self.b\n",
        "\n",
        "fibonacci = Fibo(10)\n",
        "count = 0\n",
        "for i in fibonacci:\n",
        "  count += 1\n",
        "  print(f\"Terms {count}: {i}\")\n"
      ],
      "metadata": {
        "colab": {
          "base_uri": "https://localhost:8080/"
        },
        "id": "7SwmkwaNOln9",
        "outputId": "e67efe6b-8a6b-43cc-879e-5b198f57c5b5"
      },
      "execution_count": null,
      "outputs": [
        {
          "output_type": "stream",
          "name": "stdout",
          "text": [
            "Terms 1: 0\n",
            "Terms 2: 1\n",
            "Terms 3: 1\n",
            "Terms 4: 2\n",
            "Terms 5: 3\n",
            "Terms 6: 5\n",
            "Terms 7: 8\n",
            "Terms 8: 13\n",
            "Terms 9: 21\n",
            "Terms 10: 34\n"
          ]
        }
      ]
    },
    {
      "cell_type": "code",
      "source": [
        "# 6. Write a generator function in Python that yields the powers of 2 up to a given exponent.\n",
        "def power_of_2(exp):\n",
        "  for i in range(exp+1):\n",
        "    yield 2 ** i\n",
        "\n",
        "print(\"Power of 2 upto given exponent:\\n\")\n",
        "for i in power_of_2(8):\n",
        "  print(i, end = \" \")"
      ],
      "metadata": {
        "id": "M2C3zZVGSoQT",
        "colab": {
          "base_uri": "https://localhost:8080/"
        },
        "outputId": "f9baa5e9-9404-4681-a7d8-4671d742ed0a"
      },
      "execution_count": 9,
      "outputs": [
        {
          "output_type": "stream",
          "name": "stdout",
          "text": [
            "Power of 2 upto given exponent:\n",
            "\n",
            "1 2 4 8 16 32 64 128 256 "
          ]
        }
      ]
    },
    {
      "cell_type": "code",
      "source": [
        "# 7. Implement a generator function that reads a file line by line and yields each line as a string.\n",
        "def read_file(filename):\n",
        "  with open(filename, 'r') as f:\n",
        "    for line in f:\n",
        "      yield line.strip()\n",
        "\n",
        "with open('sample.txt', 'w') as file:\n",
        "  file.write('Hi I am vicky kumar, a 3rd year student of computer science at MMMUT.')\n",
        "  file.close()\n",
        "for line in read_file('sample.txt'):\n",
        "  print(line)"
      ],
      "metadata": {
        "colab": {
          "base_uri": "https://localhost:8080/"
        },
        "id": "75glRnsXUXZm",
        "outputId": "06314163-f74d-4602-d584-1c3daf984bc0"
      },
      "execution_count": 11,
      "outputs": [
        {
          "output_type": "stream",
          "name": "stdout",
          "text": [
            "Hi I am vicky kumar, a 3rd year student of computer science at MMMUT.\n"
          ]
        }
      ]
    },
    {
      "cell_type": "code",
      "source": [
        "# 8. Use a lambda function in Python to sort a list of tuples based on the second element of each tuple\n",
        "cordinates = [(1, 2), (4, 1), (11, 10), (2, 0), (10, -2)]\n",
        "sorted_cord = sorted(cordinates, key = lambda x: x[1])\n",
        "print(f\"Sorted cordinates: {sorted_cord}\")"
      ],
      "metadata": {
        "colab": {
          "base_uri": "https://localhost:8080/"
        },
        "id": "qHPdm97AZBhy",
        "outputId": "c2290df7-1671-4cf8-a116-957861223236"
      },
      "execution_count": 13,
      "outputs": [
        {
          "output_type": "stream",
          "name": "stdout",
          "text": [
            "Sorted cordinates: [(10, -2), (2, 0), (4, 1), (1, 2), (11, 10)]\n"
          ]
        }
      ]
    },
    {
      "cell_type": "code",
      "source": [
        "# 9. Write a Python program that uses `map()` to convert a list of temperatures from Celsius to Fahrenheit.\n",
        "temp_in_celsius = [37, 40, 45, -10, 2, -40, 100]\n",
        "temp_in_ferh = list(map(lambda x: (x * 9/5) + 32, temp_in_celsius))\n",
        "print(f\"Temperature in Celsius: {temp_in_celsius}\")\n",
        "print(f\"Temperature in Fahrenheit: {temp_in_ferh}\")"
      ],
      "metadata": {
        "colab": {
          "base_uri": "https://localhost:8080/"
        },
        "id": "Ix7jo3WSaIYt",
        "outputId": "fbaaa082-78ad-446d-a919-1b47b8aaf556"
      },
      "execution_count": 16,
      "outputs": [
        {
          "output_type": "stream",
          "name": "stdout",
          "text": [
            "Temperature in Celsius: [37, 40, 45, -10, 2, -40, 100]\n",
            "Temperature in Fahrenheit: [98.6, 104.0, 113.0, 14.0, 35.6, -40.0, 212.0]\n"
          ]
        }
      ]
    },
    {
      "cell_type": "code",
      "source": [
        "# 10. Create a Python program that uses `filter()` to remove all the vowels from a given string.\n",
        "def remove_vowel(ch):\n",
        "  # normal method\n",
        "  if 'a' in ch.lower() or 'e' in ch.lower() or 'i' in ch.lower() or 'o' in ch.lower() or 'u' in ch.lower():\n",
        "    return False\n",
        "  else:\n",
        "    return True\n",
        "  # Sort method\n",
        "  # return ch.lower() not in 'aeiou'\n",
        "\n",
        "message = 'Hello, I am vicky, a CSE 3rd year student at MMMUT.'\n",
        "mess = filter(remove_vowel, message)\n",
        "print(''.join(mess))\n"
      ],
      "metadata": {
        "colab": {
          "base_uri": "https://localhost:8080/"
        },
        "id": "5-mTn2BZbYzj",
        "outputId": "f7e85c25-f0ed-4981-973b-419d9de4cb16"
      },
      "execution_count": 20,
      "outputs": [
        {
          "output_type": "stream",
          "name": "stdout",
          "text": [
            "Hll,  m vcky,  CS 3rd yr stdnt t MMMT.\n"
          ]
        }
      ]
    },
    {
      "cell_type": "code",
      "source": [
        "# 11. Imagine an accounting routine used in a book shop. It works on a list with sublists, which look like this: Write a Python program, which returns a list with 2-tuples. Each tuple consists of the order number and the product of the price per item and the quantity. The product should be increased by 10€ if the value of the order is smaller than 100,00 €. Write a Python program using lambda and map.\n",
        "data = [\n",
        "    [34587, \"Learning Python, Mark Lutz\", 4, 40.95],\n",
        "    [98762, \"Programming Python, Mark Lutz\", 5, 56.80],\n",
        "    [77226, \"Head First Python, Paul Barry\", 3, 32.95],\n",
        "    [88112, \"Einführung in Python3, Bernd Klein\", 3, 24.99]\n",
        "]\n",
        "\n",
        "result = list(map(lambda x: (x[0], float('{:.2f}'.format(x[2] * x[3] if x[2] * x[3] >= 10000 else x[2] * x[3] + 10))), data))\n",
        "print(result)"
      ],
      "metadata": {
        "id": "0q7B3xxPeAM8",
        "outputId": "7e0355a7-2145-4e12-f13e-6bec594035b8",
        "colab": {
          "base_uri": "https://localhost:8080/"
        }
      },
      "execution_count": 24,
      "outputs": [
        {
          "output_type": "stream",
          "name": "stdout",
          "text": [
            "[(34587, 173.8), (98762, 294.0), (77226, 108.85), (88112, 84.97)]\n"
          ]
        }
      ]
    }
  ]
}