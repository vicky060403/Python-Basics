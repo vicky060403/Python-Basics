{
  "nbformat": 4,
  "nbformat_minor": 0,
  "metadata": {
    "colab": {
      "provenance": [],
      "toc_visible": true
    },
    "kernelspec": {
      "name": "python3",
      "display_name": "Python 3"
    },
    "language_info": {
      "name": "python"
    }
  },
  "cells": [
    {
      "cell_type": "markdown",
      "source": [
        "1. What are data structures, and why are they important?\n",
        "\n",
        "- Data structure are the organised way to store, manage, retrieve data efficiently. They define the layout or format in which data is stored in the memory, making it easier to perform operation like searching, sorting, inserting and deletion.\n",
        "- They are important because it providing following  functionalities:\n",
        "    \n",
        "    - bettter time and space complexities to make program efficient\n",
        "    - better organises the data\n",
        "    - useful for solving real world problemm\n",
        "    - reusability and modularity\n",
        "- Examples:\n",
        "  \n",
        "  - lists , graphs, stack, queue, dictionary"
      ],
      "metadata": {
        "id": "cJ4BMzN4xQ88"
      }
    },
    {
      "cell_type": "markdown",
      "source": [
        "2. Explain the difference between mutable and immutable data types with examples?\n",
        "- Mutable data types are those object or conatiner whose state or value can be changed after their creation is known as mutable data type.\n",
        "- list, dictionary, set etc are examples of mutable data types\n",
        "\n",
        "      num = [0, 1, 2, 3]\n",
        "      print(num) # output: [0, 1, 2, 3]\n",
        "      num[0] = 10\n",
        "      print(num) # output: [10, 1, 2, 3]\n",
        "\n",
        "- Immutable data type are those objects or container whose state or value cannot be changed after their creation is known as immutable data type.\n",
        "- tuples, strings, etc are the examples of immutables data type.\n",
        "\n",
        "      num = (1,2,3,4)\n",
        "      print(num) # (1,2,3,4)\n",
        "      num[0] = 10\n",
        "      print(num) # error: item assignment is not allowed"
      ],
      "metadata": {
        "id": "4N3vuVJv3MQc"
      }
    },
    {
      "cell_type": "markdown",
      "source": [
        "3. What are the main differences between lists and tuples in Python?\n",
        "- Lists are mutable data types, which means their elements can be added, removed, or changed after the list is created.\n",
        "- Tuples are immutable data types, meaning their elements cannot be changed once the tuple is created.\n",
        "- Tuples are used as key of dictinary while the list is not."
      ],
      "metadata": {
        "id": "jRs5UVrG7_cf"
      }
    },
    {
      "cell_type": "markdown",
      "source": [
        "4. Describe how dictionaries store data?\n",
        "- Dictionaries are a mutable data type that store data in key-value pairs\n",
        "where keys are unique and immutable type while values are mutable type.\n",
        "- Each keys represent their corresponding values in the dictionaries.\n",
        "- It is repersented by curly braces\n",
        "- Syntax:\n",
        "\n",
        "      my_dict = {key:value}"
      ],
      "metadata": {
        "id": "B0_e7tKi8DUK"
      }
    },
    {
      "cell_type": "markdown",
      "source": [
        "5. Why might you use a set instead of a list in Python?\n",
        "- A set contains only unique values, while a list can contain duplicate values. Sets allow faster access to data using membership operators like in."
      ],
      "metadata": {
        "id": "_EAsMTTI8DN5"
      }
    },
    {
      "cell_type": "markdown",
      "source": [
        "6. What is a string in Python, and how is it different from a list?\n",
        "- String is an unordered collection of sequence of characters that is used to store textual data and is immutable data type, while list is an ordered collection of items and is mutable data type.\n",
        "- String is defined using single qoutes('') or double qoutes(\"\") or triple qoutes for multiline strings\n",
        "- While list are defined using square brackets ([])\n",
        "- Syntax\n",
        "\n",
        "      name = 'vicky kumar' # string\n",
        "      marks = [1,2,3,4] # List"
      ],
      "metadata": {
        "id": "slAxJICm8DLF"
      }
    },
    {
      "cell_type": "markdown",
      "source": [
        "7. How do tuples ensure data integrity in Python?\n",
        "- Tuples in Python are immutable, meaning their contents cannot be changed after they are created. This immutability helps ensure data integrity, because it guarantees that the data stored in a tuple remains constant and protected from accidental or intentional modifications."
      ],
      "metadata": {
        "id": "bWsln4Ml8DIT"
      }
    },
    {
      "cell_type": "markdown",
      "source": [
        "8. What is a hash table, and how does it relate to dictionaries in Python?\n",
        "- A hash table is a data structure that stores data as key-value pairs. It uses the hash() function to map keys to specific memory locations for fast access.\n",
        "- A dictionary in Python is built on a hash table and allows you to access values in O(1) average time using their keys."
      ],
      "metadata": {
        "id": "ilx0FtlT8DFc"
      }
    },
    {
      "cell_type": "markdown",
      "source": [
        "9. Can lists contain different data types in Python?\n",
        "- Yes, lists in Python can contain elements of different data types (e.g., integers, strings, floats, other lists, etc.).\n",
        "- This is possible because Python lists are dynamic and flexible, allowing mixed data types within the same list."
      ],
      "metadata": {
        "id": "59NamoXo8DQo"
      }
    },
    {
      "cell_type": "markdown",
      "source": [
        "10. Explain why strings are immutable in Python?\n",
        "- Strings are immutables in python due to the following reasons that are\n",
        "    - to improve memory efficiency\n",
        "\n",
        "    - to maintain data integrity\n",
        "\n",
        "    - it is easily hashable and also used as dictionary keys"
      ],
      "metadata": {
        "id": "Yok3u7US8DCr"
      }
    },
    {
      "cell_type": "markdown",
      "source": [
        "11. What advantages do dictionaries offer over lists for certain tasks?\n",
        "- Dictionaries offers several advantages over the lists when we dealing with key-value paired data or when fast loolup is needed.\n",
        "- Key advantages are as follows:\n",
        "\n",
        "  - Fast look-ups(O(1) time comlexity) means we access value in constant time complexity.\n",
        "  - ideal for storing strutured data like person's name, age etc\n",
        "  - avoids duplicates as key is unique and immutable\n",
        "  - better data organisation means it is more readable ans self explanatory"
      ],
      "metadata": {
        "id": "ja2-o5vf8C_0"
      }
    },
    {
      "cell_type": "markdown",
      "source": [
        "12. Describe a scenario where using a tuple would be preferable over a list?\n",
        "- Using a tuple would be preferable over a list when you want to stores a fixed collection of values that should not be change.\n",
        "- Tuples are used as a dictionaries key while list is not used as it is mutable\n",
        "- Examples: The coordinates(x, y) it represent specific location on a map and it maintains data integrity"
      ],
      "metadata": {
        "id": "k9G64I6j8C0S"
      }
    },
    {
      "cell_type": "markdown",
      "source": [
        "13. How do sets handle duplicate values in Python?\n",
        "- In python sets automatically removes duplicates values and it stores only one copy of the values because it is unique and unordered collection of values.\n",
        "- Examples\n",
        "\n",
        "      my_set = {1, 2, 2, 3, 4, 4, 5}\n",
        "      print(my_set)  # Output: {1, 2, 3, 4, 5}\n"
      ],
      "metadata": {
        "id": "2ZbpVAdW8Cm5"
      }
    },
    {
      "cell_type": "markdown",
      "source": [
        "14. How does the “in” keyword work differently for lists and dictionaries?\n",
        "- The 'in' keyword work differently for lists and dictionaries are as follows\n",
        "\n",
        "    - In list, it checks the value present in list or not and it takes O(n) time.\n",
        "    \n",
        "          # examples\n",
        "          names = ['vicky','mohit','rohit']\n",
        "          if 'vicky' in names:\n",
        "            print('found')\n",
        "          else:\n",
        "            print('not found')\n",
        "    - In dictionaries, it checks the key present or not and it takes O(1) time.\n",
        "\n",
        "          # Examples\n",
        "          student = {'name': 'vicky', 'age': 22}\n",
        "          print('name' in student)     # True\n",
        "          print('vicky' in student)    # False"
      ],
      "metadata": {
        "id": "C7VClCE88CVk"
      }
    },
    {
      "cell_type": "markdown",
      "source": [
        "15. Can you modify the elements of a tuple? Explain why or why not?\n",
        "- No, you cannot modify the elements of a tuple because it is an immutable data type. Once a tuple is created, its elements cannot be changed, added, or removed.\n",
        "- The data inside the tuples is fixed and it ensures the data intgrity and allows to used tuples as a key in dictionaries."
      ],
      "metadata": {
        "id": "tEe2VZYj1w7F"
      }
    },
    {
      "cell_type": "markdown",
      "source": [
        "16. What is a nested dictionary, and give an example of its use case?\n",
        "- A nested dictionary is the dictionary inside another dictionary, it allows to store the hierarchical or grouped data in a structured way.\n",
        "- use case:\n",
        "        \n",
        "        students = {\n",
        "          \"Ram\": {\"age\": 20, \"grade\": \"A\"},\n",
        "          \"Mohan\": {\"age\": 22, \"grade\": \"B\"},\n",
        "          \"Jack\": {\"age\": 21, \"grade\": \"A\"}\n",
        "        }\n",
        "\n",
        "        print(students[\"Ram\"][\"grade\"])  # Output: A"
      ],
      "metadata": {
        "id": "G7NFlcSVcBW2"
      }
    },
    {
      "cell_type": "markdown",
      "source": [
        "17. Describe the time complexity of accessing elements in a dictionary?\n",
        "- Time complexity of accessing the elements in a dictionary is O(1) that is constant time."
      ],
      "metadata": {
        "id": "a1XfOXDFeAb5"
      }
    },
    {
      "cell_type": "markdown",
      "source": [
        "18. In what situations are lists preferred over dictionaries?\n",
        "- List are preferred over dictionaries when\n",
        "\n",
        "  - order matters: list maintains the insertion order and ideal for when sequence of element is important.\n",
        "  - index access is needed\n",
        "  - no need for key-value pairs\n",
        "  - duplicates are allowed\n",
        "  "
      ],
      "metadata": {
        "id": "C5QNjdb0Vw62"
      }
    },
    {
      "cell_type": "markdown",
      "source": [
        "19. Why are dictionaries considered unordered, and how does that affect data retrieval?\n",
        "- Dictionaries are considered unordered because they do not use indexing like lists. Instead, they use keys to access values, not positions.\n",
        "- A dictionary is built on a hash table, so the data is stored based on the hash of the key, not in a specific order.\n",
        "- You cannot access values by position or by value — only by key.\n",
        "\n",
        "- It improve the data retrival like as:\n",
        "  - You access values using keys this is fast (O(1)).\n",
        "  - You can still loop through the dictionary to access key-value pairs.\n"
      ],
      "metadata": {
        "id": "jKPIQvtHXtP_"
      }
    },
    {
      "cell_type": "markdown",
      "source": [
        "20. Explain the difference between a list and a dictionary in terms of data retrieval?\n",
        "- List takes O(n) average time to access the data while dictionary takes O(1) average time to access values.\n",
        "- Lists access the data by positions or index but dictionary access the value using keys.\n",
        "- List is an ordered collection of items while dictionary is an unordered collection of data.\n"
      ],
      "metadata": {
        "id": "eGXxiZgNc55y"
      }
    },
    {
      "cell_type": "code",
      "source": [
        "# 1. Write a code to create a string with your name and print it.\n",
        "name = 'vicky kumar'\n",
        "print(name)"
      ],
      "metadata": {
        "colab": {
          "base_uri": "https://localhost:8080/"
        },
        "id": "8UhHxg11epx4",
        "outputId": "f42ca47b-ea43-4d7e-c887-0c3ffbc355e8"
      },
      "execution_count": null,
      "outputs": [
        {
          "output_type": "stream",
          "name": "stdout",
          "text": [
            "vicky kumar\n"
          ]
        }
      ]
    },
    {
      "cell_type": "code",
      "source": [
        "# 2. Write a code to find the length of the string \"Hello World\".\n",
        "greet = 'Hello World'\n",
        "print(len(greet))"
      ],
      "metadata": {
        "colab": {
          "base_uri": "https://localhost:8080/"
        },
        "id": "JfHUEzTXezoy",
        "outputId": "d717b1e1-20a5-41c1-c2bd-7219768f83cd"
      },
      "execution_count": null,
      "outputs": [
        {
          "output_type": "stream",
          "name": "stdout",
          "text": [
            "11\n"
          ]
        }
      ]
    },
    {
      "cell_type": "code",
      "source": [
        "# 3. Write a code to slice the first 3 characters from the string \"Python Programming\".\n",
        "message = \"Python Programming\"\n",
        "print(message[0:3])\n",
        "print('Length is ',len(message[0:3]))"
      ],
      "metadata": {
        "colab": {
          "base_uri": "https://localhost:8080/"
        },
        "id": "mzqlmhi7fJLN",
        "outputId": "5fe48f1d-c95a-4a52-8711-63d037bab31f"
      },
      "execution_count": null,
      "outputs": [
        {
          "output_type": "stream",
          "name": "stdout",
          "text": [
            "Pyt\n",
            "Length is  3\n"
          ]
        }
      ]
    },
    {
      "cell_type": "code",
      "source": [
        "# 4. Write a code to convert the string \"hello\" to uppercase.\n",
        "message = \"hello\"\n",
        "upper_Case = message.upper()\n",
        "print(upper_Case)"
      ],
      "metadata": {
        "colab": {
          "base_uri": "https://localhost:8080/"
        },
        "id": "rLsNPejPfx99",
        "outputId": "832a3ebc-0ffc-40cf-de45-ea6fe12c00bf"
      },
      "execution_count": null,
      "outputs": [
        {
          "output_type": "stream",
          "name": "stdout",
          "text": [
            "HELLO\n"
          ]
        }
      ]
    },
    {
      "cell_type": "code",
      "source": [
        "# 5. Write a code to replace the word \"apple\" with \"orange\" in the string \"I like apple\".\n",
        "message = \"I like apple\"\n",
        "new_mess = message.replace('apple', 'orange')\n",
        "print(new_mess)"
      ],
      "metadata": {
        "colab": {
          "base_uri": "https://localhost:8080/"
        },
        "id": "GDyN0wD-gIUs",
        "outputId": "1b929700-45ef-4201-ace4-8122e5bcc06e"
      },
      "execution_count": null,
      "outputs": [
        {
          "output_type": "stream",
          "name": "stdout",
          "text": [
            "I like orange\n"
          ]
        }
      ]
    },
    {
      "cell_type": "code",
      "source": [
        "# 6. Write a code to create a list with numbers 1 to 5 and print it.\n",
        "num = [1, 2, 3, 4, 5]\n",
        "print(num) # [1, 2, 3, 4, 5]\n",
        "\n",
        "# 7. Write a code to append the number 10 to the list [1, 2, 3, 4].\n",
        "num2 = [1, 2, 3, 4]\n",
        "print('Before append: ',num2) # [1, 2, 3, 4]\n",
        "num2.append(10)\n",
        "print('After append: ',num2) # [1, 2, 3, 4, 10]\n",
        "\n",
        "# 8. Write a code to remove the number 3 from the list [1, 2, 3, 4, 5].\n",
        "num2.remove(3)\n",
        "print(num2) # [1, 2, 4, 10]\n",
        "\n",
        "# 9. Write a code to access the second element in the list ['a', 'b', 'c', 'd']\n",
        "ch = ['a', 'b', 'c', 'd']\n",
        "print(f\"{ch[1]} is the second element\") # b is the second element\n",
        "\n",
        "# 10. Write a code to reverse the list [10, 20, 30, 40, 50].\n",
        "num3 = [10, 20, 30, 40, 50]\n",
        "print('Before reverse: ',num3) # [10, 20, 30, 40, 50]\n",
        "num3.reverse()\n",
        "print('After reverse: ',num3)\n"
      ],
      "metadata": {
        "colab": {
          "base_uri": "https://localhost:8080/"
        },
        "id": "H0fhvsoDgsSi",
        "outputId": "caf4dba3-615b-440f-8461-bf50e4cb3c79"
      },
      "execution_count": null,
      "outputs": [
        {
          "output_type": "stream",
          "name": "stdout",
          "text": [
            "[1, 2, 3, 4, 5]\n",
            "Before append:  [1, 2, 3, 4]\n",
            "After append:  [1, 2, 3, 4, 10]\n",
            "[1, 2, 4, 10]\n",
            "b is the second element\n",
            "Before reverse:  [10, 20, 30, 40, 50]\n",
            "After reverse:  [50, 40, 30, 20, 10]\n"
          ]
        }
      ]
    },
    {
      "cell_type": "code",
      "source": [
        "# 11. Write a code to create a tuple with the elements 100, 200, 300 and print it.\n",
        "num = (100, 200, 300)\n",
        "print(num)\n",
        "\n",
        "# 12. Write a code to access the second-to-last element of the tuple ('red', 'green', 'blue', 'yellow').\n",
        "color = ('red', 'green', 'blue', 'yellow')\n",
        "new_color = color[1:]\n",
        "print(new_color)\n",
        "print()\n",
        "\n",
        "# 13. Write a code to find the minimum number in the tuple (10, 20, 5, 15).\n",
        "new_num = (10, 20, 5, 15)\n",
        "print(f\"\\nMin number in tuples: {min(new_num)}\") # 5\n",
        "\n",
        "# 14. Write a code to find the index of the element \"cat\" in the tuple ('dog', 'cat', 'rabbit').\n",
        "animal = ('dog', 'cat', 'rabbit')\n",
        "cat = animal.index('cat')\n",
        "print(f\"\\nThe index of the 'cat' is {cat}\")\n",
        "\n",
        "# 15. Write a code to create a tuple containing three different fruits and check if \"kiwi\" is in it.\n",
        "fruits = ('apple', 'banana', 'orange')\n",
        "print('kiwi' in fruits) # False\n",
        "print()\n",
        "# 16. Write a code to create a set with the elements 'a', 'b', 'c' and print it.\n",
        "ch = {'a', 'b', 'c'}\n",
        "print(f\"\\nSet of ch: {ch}\")\n",
        "\n",
        "# 17. Write a code to clear all elements from the set {1, 2, 3, 4, 5}.\n",
        "num_set = {1, 2, 3, 4, 5}\n",
        "print('\\nBefore clear: ',num_set) # {1, 2, 3, 4, 5}\n",
        "num_set.clear()\n",
        "print('\\nAfter clear: ',num_set) # empty set set()\n",
        "\n",
        "# 18. Write a code to remove the element 4 from the set {1, 2, 3, 4}.\n",
        "my_set = {1, 2, 3, 4}\n",
        "my_set.remove(4)\n",
        "print(my_set)\n",
        "\n",
        "# 19. Write a code to find the union of two sets {1, 2, 3} and {3, 4, 5}.\n",
        "set1 = {1, 2, 3}\n",
        "set2 = {3, 4, 5}\n",
        "union_set = set1.union(set2)\n",
        "print(f\"\\nunion of set1 and set2 : {union_set}\")\n",
        "\n",
        "# 20. Write a code to find the intersection of two sets {1, 2, 3} and {2, 3, 4}.\n",
        "set3 = {1, 2, 3}\n",
        "set4 = {2, 3, 4}\n",
        "intersection_set = set3.intersection(set4)\n",
        "print(f\"\\nIntersectioon of set3 and set4 : {intersection_set}\")\n",
        "\n",
        "# 21. Write a code to create a dictionary with the keys \"name\", \"age\", and \"city\", and print it.\n",
        "my_dict = {'name': 'vicky kumar', 'age': 22, 'city': 'patna'}\n",
        "print(f'\\nmy_dict = {my_dict}')\n",
        "\n",
        "# 22. Write a code to add a new key-value pair \"country\": \"USA\" to the dictionary {'name': 'John', 'age': 25}.\n",
        "my_dict2 = {'name': 'John', 'age': 25}\n",
        "my_dict2['country'] = 'USA'\n",
        "print(f\"\\nmy_dict2 = {my_dict2}\")\n",
        "\n",
        "# 23. Write a code to access the value associated with the key \"name\" in the dictionary {'name': 'Alice', 'age': 30}.\n",
        "my_dict3 = {'name': 'Alice', 'age': 30}\n",
        "print(f'\\nName : {my_dict3[\"name\"]}')\n",
        "\n",
        "# 24. Write a code to remove the key \"age\" from the dictionary {'name': 'Bob', 'age': 22, 'city': 'New York'}.\n",
        "my_dict4 = {'name': 'Bob', 'age': 22, 'city': 'New York'}\n",
        "my_dict4.pop('age')\n",
        "print(f'\\nmy_dict4 = {my_dict4}')\n"
      ],
      "metadata": {
        "colab": {
          "base_uri": "https://localhost:8080/"
        },
        "id": "UKmiskkXjc9d",
        "outputId": "5715539a-f830-49a0-8a10-54858a242ccf"
      },
      "execution_count": 6,
      "outputs": [
        {
          "output_type": "stream",
          "name": "stdout",
          "text": [
            "(100, 200, 300)\n",
            "('green', 'blue', 'yellow')\n",
            "\n",
            "\n",
            "Min number in tuples: 5\n",
            "\n",
            "The index of the 'cat' is 1\n",
            "False\n",
            "\n",
            "\n",
            "Set of ch: {'c', 'b', 'a'}\n",
            "\n",
            "Before clear:  {1, 2, 3, 4, 5}\n",
            "\n",
            "After clear:  set()\n",
            "{1, 2, 3}\n",
            "\n",
            "union of set1 and set2 : {1, 2, 3, 4, 5}\n",
            "\n",
            "Intersectioon of set3 and set4 : {2, 3}\n",
            "\n",
            "my_dict = {'name': 'vicky kumar', 'age': 22, 'city': 'patna'}\n",
            "\n",
            "my_dict2 = {'name': 'John', 'age': 25, 'country': 'USA'}\n",
            "\n",
            "Name : Alice\n",
            "\n",
            "my_dict4 = {'name': 'Bob', 'city': 'New York'}\n"
          ]
        }
      ]
    },
    {
      "cell_type": "code",
      "source": [
        "# 25. Write a code to check if the key \"city\" exists in the dictionary {'name': 'Alice', 'city': 'Paris'}.\n",
        "my_dict = {'name': 'Alice', 'city': 'Paris'}\n",
        "if 'city' in my_dict:\n",
        "  print('\\nKey found')\n",
        "else:\n",
        "  print('\\nkey not found!')\n",
        "\n",
        "# 26. Write a code to create a list, a tuple, and a dictionary, and print them all.\n",
        "my_list = [1, 2, 3, 4, 5]\n",
        "my_tuple = (10, 20, 30, 40, 50)\n",
        "my_dict = {'name': 'vicky', 'age': 22}\n",
        "print(f'\\nList: {my_list}')\n",
        "print(f'Tuple: {my_tuple}')\n",
        "print(f'Dictionary: {my_dict}\\n')"
      ],
      "metadata": {
        "colab": {
          "base_uri": "https://localhost:8080/"
        },
        "id": "ZYg-_xyekSxd",
        "outputId": "05a66d1a-1d03-4c89-955f-e2c24c30a1e7"
      },
      "execution_count": 12,
      "outputs": [
        {
          "output_type": "stream",
          "name": "stdout",
          "text": [
            "\n",
            "Key found\n",
            "\n",
            "List: [1, 2, 3, 4, 5]\n",
            "Tuple: (10, 20, 30, 40, 50)\n",
            "Dictionary: {'name': 'vicky', 'age': 22}\n",
            "\n"
          ]
        }
      ]
    },
    {
      "cell_type": "code",
      "source": [
        "# 27. Write a code to create a list of 5 random numbers between 1 and 100, sort it in ascending order, and print the result.(replaced)\n",
        "import random\n",
        "random_num = [random.randint(1, 100) for _ in range(5)]\n",
        "print(f'\\nBefore sort: {random_num}')\n",
        "random_num.sort()\n",
        "print(f'After sort: {random_num}')"
      ],
      "metadata": {
        "colab": {
          "base_uri": "https://localhost:8080/"
        },
        "id": "9d91A3pGm9gM",
        "outputId": "c3532772-005b-4406-f8e7-8f6f799dc5be"
      },
      "execution_count": 13,
      "outputs": [
        {
          "output_type": "stream",
          "name": "stdout",
          "text": [
            "\n",
            "Before sort: [78, 71, 36, 17, 64]\n",
            "After sort: [17, 36, 64, 71, 78]\n"
          ]
        }
      ]
    },
    {
      "cell_type": "code",
      "source": [
        "# 28. Write a code to create a list with strings and print the element at the third index.\n",
        "greeting = ['Good morning', 'Good afternoon', 'Good evening', 'Good night']\n",
        "print(greeting[2]) # Good evening"
      ],
      "metadata": {
        "colab": {
          "base_uri": "https://localhost:8080/"
        },
        "id": "hshw9qcHnHW0",
        "outputId": "e31b7132-73b5-47a9-e445-20501abb3ac0"
      },
      "execution_count": 14,
      "outputs": [
        {
          "output_type": "stream",
          "name": "stdout",
          "text": [
            "Good evening\n"
          ]
        }
      ]
    },
    {
      "cell_type": "code",
      "source": [
        "# 29. Write a code to combine two dictionaries into one and print the result.\n",
        "stud1 = {'name': 'vicky', 'age': 22, 'total_marks': 456}\n",
        "stud2 = {'name': 'rohan', 'age': 21, 'total_marks': 300}\n",
        "stud = {'stud1': stud1,\n",
        "        'stud2': stud2}\n",
        "print(stud)"
      ],
      "metadata": {
        "colab": {
          "base_uri": "https://localhost:8080/"
        },
        "id": "Iw-hFITrnHIZ",
        "outputId": "ad686f32-463e-44ae-ee27-99b56c4abb37"
      },
      "execution_count": 24,
      "outputs": [
        {
          "output_type": "stream",
          "name": "stdout",
          "text": [
            "{'stud1': {'name': 'vicky', 'age': 22, 'total_marks': 456}, 'stud2': {'name': 'rohan', 'age': 21, 'total_marks': 300}}\n"
          ]
        }
      ]
    },
    {
      "cell_type": "code",
      "source": [
        "# 30. Write a code to convert a list of strings into a set.\n",
        "names = ['vicky', 'rohan', 'mohit']\n",
        "name_set = set(names)\n",
        "print(name_set)"
      ],
      "metadata": {
        "colab": {
          "base_uri": "https://localhost:8080/"
        },
        "id": "AYOc9sCNnG1z",
        "outputId": "f0c93607-a616-49ed-da6e-7301fd5c618b"
      },
      "execution_count": 25,
      "outputs": [
        {
          "output_type": "stream",
          "name": "stdout",
          "text": [
            "{'vicky', 'rohan', 'mohit'}\n"
          ]
        }
      ]
    }
  ]
}