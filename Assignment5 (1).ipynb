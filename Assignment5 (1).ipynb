{
 "cells": [
  {
   "cell_type": "markdown",
   "metadata": {
    "id": "CQuc6eW_N8Op"
   },
   "source": [
    "# ***Theoratical Questions***"
   ]
  },
  {
   "cell_type": "markdown",
   "metadata": {
    "id": "vHzeRp_7OHle"
   },
   "source": [
    "1. What is the difference between interpreted and compiled languages?\n",
    "- Interpreted Languages\n",
    "  - In interpreted languages, the source code is translated and executed line by line by an interpreter at runtime.\n",
    "  - It is generally slower than compiled languages because it translates the program line by line during execution.\n",
    "  - It reports errors at runtime, which makes debugging easier.\n",
    "  - It is platform-independent, as the interpreter handles system-specific details.\n",
    "  - It does not produce any executable file.\n",
    "  - Examples: Python, Ruby, JavaScript, etc.\n",
    "\n",
    "- Compiled Languages\n",
    "  - In compiled languages, the entire source code is translated into machine code by a program called a compiler before execution.\n",
    "  - It is generally faster than interpreted languages since it runs directly as machine code.\n",
    "  - It is often platform-dependent, because the executable file is specific to the target system.\n",
    "  - It produces an executable file (e.g., .exe) after compilation.\n",
    "  - Examples: C, C++, Rust, Go, etc."
   ]
  },
  {
   "cell_type": "markdown",
   "metadata": {
    "id": "fiXMMr7jOMIS"
   },
   "source": [
    "2. What is exception handling in Python?\n",
    "- An exeception handling is a technique in programming that is used to handle runtime error so that the program doesn't crash abruptly.\n",
    "- It allows the program to continue execution when an error occurs.\n",
    "- An exception is an event that occur during the execution of a program that disrupts the normal flow for Ex. FileNotFound, DivisionByZero, etc are the exceptions.\n",
    "- In python we can handle exception handling using try-except block.\n",
    "- Example:\n",
    "\n",
    "      try:\n",
    "          # Code that may raise an exception\n",
    "          x = 10 / 0\n",
    "      except ZeroDivisionError:\n",
    "          # Code to handle the exception\n",
    "          print(\"Cannot divide by zero!\")\n",
    "      except Exception as e:\n",
    "          print(\"General error: \", e)\n",
    "      else:\n",
    "          print(\"Division successful!\")\n",
    "      finally:\n",
    "          print(\"This block always executes.\")\n"
   ]
  },
  {
   "cell_type": "markdown",
   "metadata": {
    "id": "2YX5PC_9OME3"
   },
   "source": [
    "3. What is the purpose of the finally block in exception handling?\n",
    "- The finally block in exception handling is used to define code that will always execute, regardless of whether an exception occured or not.\n",
    "- It main purpose are to clean-up the resources, guranteed execution of code, and to maintain program stability.\n",
    "- Example:\n",
    "\n",
    "      try:\n",
    "          # Code that may raise an exception\n",
    "          file = open(\"data.txt\", \"r\")\n",
    "          content = file.read()\n",
    "      except FileNotFoundError as e:\n",
    "          print(\"File not found: \",e)\n",
    "      finally:\n",
    "          # This block always executes\n",
    "          file.close()\n",
    "          print(\"File closed, finally block executed.\")\n"
   ]
  },
  {
   "cell_type": "markdown",
   "metadata": {
    "id": "rVTiSYv8OL9Z"
   },
   "source": [
    "4. What is logging in Python?\n",
    "- Logging in Python is a way to record messages from a program while it runs. These messages can help track events, debug issues, or monitor program execution. Unlike printing to the console, logging is more flexible and can be saved to files, filtered by severity, or formatted.\n",
    "- Why it is important:\n",
    "  - Helps debug programs by recording errors and important events.\n",
    "  - Provides historical records of program execution.\n",
    "  - Can differentiate between different levels of messages (info warning, error).\n",
    "  - Safer than print() statements for production code.\n",
    "- Example:\n",
    "\n",
    "      import logging\n",
    "      \n",
    "      # Configure logging\n",
    "      logging.basicConfig(level=logging.DEBUG,\n",
    "                          format='%(asctime)s - %(levelname)s - %(message)s')\n",
    "      \n",
    "      # Logging messages\n",
    "      logging.debug(\"This is a debug message\")\n",
    "      logging.info(\"Program started\")\n",
    "      logging.warning(\"This is a warning\")\n",
    "      logging.error(\"An error occurred\")\n",
    "      logging.critical(\"Critical issue!\")\n"
   ]
  },
  {
   "cell_type": "markdown",
   "metadata": {
    "id": "co6X6As0OL5-"
   },
   "source": [
    "5. What is the significance of the __del__ method in Python?\n",
    "- __del__ is a special (dunder) method in Python, also known as a destructor.\n",
    "- It is called automatically when an object is about to be destroyed (i.e., when it is no longer referenced).\n",
    "- The __del__ method is mainly used for cleanup operations such as:\n",
    "  - Closing files or network connections\n",
    "  - Releasing database connections\n",
    "  - Freeing up system or external resources before the object is deleted\n",
    "- Example:\n",
    "\n",
    "      class FileHandler:\n",
    "          def __init__(self, filename):\n",
    "              self.file = open(filename, 'w')\n",
    "              print(\"File opened.\")\n",
    "          \n",
    "          def __del__(self):\n",
    "              self.file.close()\n",
    "              print(\"File closed.\")\n",
    "      \n",
    "      handler = FileHandler(\"data.txt\")\n",
    "      del handler  # explicitly deletes the object\n"
   ]
  },
  {
   "cell_type": "markdown",
   "metadata": {
    "id": "qXk_YjbvOL2i"
   },
   "source": [
    "6. What is the difference between import and from ... import in Python?\n",
    "- import:\n",
    "  - Syntax: import module_name\n",
    "  - It imports the entire module. And you must use the module name to access it's members.\n",
    "  - Use Case: Used when you needs many functions or classes from module.\n",
    "  - Example:\n",
    "\n",
    "        import math\n",
    "        math.sqrt(225) # output: 15\n",
    "\n",
    "- from ... import:\n",
    "  - Syntax: from module_name import attributes_names\n",
    "  - It imports the only required attributes, functions or classes from a module.\n",
    "  - Use Case: When you need only a few specific items from a module.\n",
    "  - Example:\n",
    "\n",
    "        from math import sqrt\n",
    "        sqrt(25) # output: 5"
   ]
  },
  {
   "cell_type": "markdown",
   "metadata": {
    "id": "4VDreWq1OLzQ"
   },
   "source": [
    "7. How can you handle multiple exceptions in Python?\n",
    "- We can handle multiple exceptions in following way:\n",
    "  - 1. Using Multiple except Blocks:\n",
    "    - You can write separate except blocks for different exceptions.\n",
    "    - Example:\n",
    "\n",
    "          try:\n",
    "              a = int(input(\"Enter a number: \"))\n",
    "              10/a\n",
    "          except ZeroDivisionError: # if 10/0\n",
    "              print(\"Division by zero is not allowed!\")\n",
    "          except ValueError: # if 10/\"0\"\n",
    "              print(\"Invalid number, Please enter valid number!\")\n",
    "  - 2. Handling Multiple Exceptions in a Single Block:\n",
    "    - If multiple exceptions should be handled the same way, you can group them using a tuple.\n",
    "    - Example:\n",
    "\n",
    "          try:\n",
    "              a = int(input(\"Enter a number: \"))\n",
    "              10/a\n",
    "          except (ZeroDivisionError, ValueError): # if 10/0\n",
    "              print(\"Error: invalid input or division by zero\")\n",
    "  - 3. Using a Generic Exception Handler:\n",
    "    - You can catch all exceptions using the built-in Exception class.\n",
    "    - Example:\n",
    "\n",
    "          try:\n",
    "              a = int(input(\"Enter a number: \"))\n",
    "              10 / a\n",
    "          except Exception as e:\n",
    "              print(\"An error occurred:\", e)\n",
    "  - 4. Using else and finally with Multiple Exceptions:\n",
    "    - You can combine else and finally blocks for cleaner handling.\n",
    "    - Example:\n",
    "\n",
    "          try:\n",
    "              a = int(input(\"Enter a number: \"))\n",
    "              b = 10/a\n",
    "          except ZeroDivisionError:\n",
    "              print(\"Division by zero is not allowed!\")\n",
    "          except Exception as e:\n",
    "              print(\"Error: \", e)\n",
    "          else:\n",
    "              print(\"Division successful.\", b)\n",
    "          finally:\n",
    "              print(\"Execution completed.\")\n",
    "    - This is the best practice for exception handling.\n",
    "    \n"
   ]
  },
  {
   "cell_type": "markdown",
   "metadata": {
    "id": "2xtOqjdaOLwG"
   },
   "source": [
    "8. What is the purpose of the with statement when handling files in Python?\n",
    "- The **with** statement in Python is used to manage resources efficiently — especially files. It ensures that a file is automatically closed once the block of code inside the with statement is executed, even if an error occurs.\n",
    "- Advantages of Using **with** :\n",
    "  - Automatic resource management — no need to manually close files.\n",
    "  - Cleaner and shorter code.\n",
    "  - Avoids file leaks (especially in case of exceptions).\n",
    "  - Follows best practice for file handling in Python.\n",
    "- Example:\n",
    "\n",
    "      with open(\"data.txt\", \"w\") as file:\n",
    "          file.write(\"Hi I'm vicky, nice to meet you\")\n",
    "      # File is automatically closed here\n"
   ]
  },
  {
   "cell_type": "markdown",
   "metadata": {
    "id": "g9PfzxRROLsq"
   },
   "source": [
    "9. What is the difference between multithreading and multiprocessing?\n",
    "- Multithreading:\n",
    "  - Multithreading is a programming and execution model that allows multiple threads (smaller units of a process) to execute concurrently within the same process.\n",
    "  - A thread is the smallest unit of a process that can be independently scheduled and executed by the operating system.\n",
    "\n",
    "  - In multithreading, multiple threads share the **same memory space within a single process**. Threads are lighter weight than processes and share resources more easily.\n",
    "  - Used for I/O-bound tasks (e.g., file I/O, network calls, waiting for user input).\n",
    "  - Parallelism is Limited by the Global Interpreter Lock (GIL) — only one thread executes Python code at a time.That's why it is true concurrently.\n",
    "  - Low memory usage, since threads share data.\n",
    "  - A crash in one thread can affect the entire process.\n",
    "  - Communication is easier, since threads share same memory.\n",
    "  - Example:\n",
    "\n",
    "        import threading\n",
    "        import requests\n",
    "        urls = [\n",
    "            \"https://example.com\",\n",
    "            \"https://www.python.org\",\n",
    "            \"https://www.geeksforgeeks.org\",\n",
    "        ]\n",
    "\n",
    "        def download(url):\n",
    "            response = requests.get(url)\n",
    "            print(f\"Downloaded {url} - {len(response.text)} bytes\")\n",
    "\n",
    "        threads = []\n",
    "        for url in urls:\n",
    "            t = threading.Thread(target=download, args=(url,))\n",
    "            t.start()\n",
    "            threads.append(t)\n",
    "\n",
    "        for t in threads:\n",
    "            t.join()\n",
    "\n",
    "        print(\"All downloads completed!\")\n",
    "- Multiprocessing:\n",
    "  - Multiprocessing is a programming and execution model that involves the concurrent execution of multiple processes.\n",
    "  - A process is an independent program that runs in its own memory space and has its own resources.\n",
    "  - In multiprocessing, each process has its own memory space and resources. And processes are independent of each other.\n",
    "  - It allows for true parallelism, enabling multiple processes to run simultaneously on multiple CPU cores. This leads to improved performance and faster execution of tasks.\n",
    "  - Higher memory usage, since each process has its own memory.\n",
    "  - Communication is Harder — requires inter-process communication (IPC).\n",
    "  - A crash in one process does not affect others.\n",
    "  - Example:\n",
    "\n",
    "        import multiprocessing\n",
    "        import math\n",
    "        def is_prime(n):\n",
    "            if n <= 1:\n",
    "                return False\n",
    "            for i in range(2, int(math.sqrt(n)) + 1):\n",
    "                if n % i == 0:\n",
    "                    return False\n",
    "            return True\n",
    "\n",
    "        numbers = [112272535095293, 112582705942171, 115280095190773]\n",
    "\n",
    "        if __name__ == \"__main__\":\n",
    "            with multiprocessing.Pool() as pool:\n",
    "                results = pool.map(is_prime, numbers)\n",
    "            print(results)\n"
   ]
  },
  {
   "cell_type": "markdown",
   "metadata": {
    "id": "bghf3w-XOLpi"
   },
   "source": [
    "10. What are the advantages of using logging in a program?\n",
    "- Logging is an essential tool for monitoring, debugging, and maintaining applications.\n",
    "- Advantages of using logging:\n",
    "  - 1. *Debugging and Error Tracking*: Logs help identify where and why an error occurred, even after the program has stopped running.\n",
    "  - 2. *Persistent Record*: Unlike print(), log messages are stored in files for future analysis. This is helpful for long-running systems and production apps.\n",
    "  - 3. **Different Severity Levels**: The logging module supports levels like ***DEBUG, INFO, WARNING, ERROR, and CRITICAL***, allowing you to control what gets logged.\n",
    "  - 4. **Better than print()**: print() is for temporary debugging, while logging provides structured, configurable, and permanent tracking.\n",
    "  - 5. **Easier Maintenance**: Logs help developers understand the program’s behavior without reproducing bugs manually.\n",
    "  - 6. **Helps in Monitoring and Auditing**: Logs are used to monitor system health, performance, and security-related activities (e.g., login attempts, API calls).\n",
    "  - 7. Supports Large Applications: Logging makes it easier to trace errors across modules in complex or distributed systems.\n",
    "- Example:\n",
    "\n",
    "      import logging\n",
    "      \n",
    "      # Configure logging\n",
    "      logging.basicConfig(filename='app.log', level=logging.INFO)\n",
    "      \n",
    "      logging.info(\"Application started\")\n",
    "      try:\n",
    "          result = 10 / 0\n",
    "      except ZeroDivisionError:\n",
    "          logging.error(\"Division by zero error occurred\", exc_info=True)\n"
   ]
  },
  {
   "cell_type": "markdown",
   "metadata": {
    "id": "5mh76ya7OLmK"
   },
   "source": [
    "11. What is memory management in Python?\n",
    "- Memory management in Python refers to the process of allocating and deallocating memory to objects in a Python program efficiently.\n",
    "- Python automatically handles memory for variables, objects, and data structures so that developers don’t need to manually allocate or free memory.\n",
    "- Advantages of Python’s Memory Management\n",
    "  - Automatic memory handling reduces programmer errors like dangling pointers or memory leaks.\n",
    "  - Optimizes performance by reusing memory.\n",
    "  - Simplifies application development since manual memory management is not needed."
   ]
  },
  {
   "cell_type": "markdown",
   "metadata": {
    "id": "O2cp-OPBOLi-"
   },
   "source": [
    "12. What are the basic steps involved in exception handling in Python?\n",
    "- Steps involved in exception handling in python:\n",
    "  - 1. Place risky code inside a try block:\n",
    "    - The code that might raise an exception is written inside the try block.\n",
    "    - Python will monitor this block for errors.\n",
    "  - 2. Handle the error using one or more except blocks:\n",
    "    - If an exception occurs, Python immediately jumps to the matching except block.\n",
    "    - Each except block handles a specific type of error.\n",
    "  - 3. Use the else block (optional):\n",
    "    - The else block runs only if no exception occurs in the try block.\n",
    "  - 4. Use the finally block (optional):\n",
    "    - The finally block runs always, whether an exception occurred or not.\n",
    "    - Commonly used to release resources (close files, database connections, etc.).\n",
    "- Example:\n",
    "\n",
    "      try:\n",
    "          x = int(input(\"Enter a number: \"))\n",
    "          result = 10 / x\n",
    "      except ZeroDivisionError:\n",
    "          print(\"Error: Cannot divide by zero.\")\n",
    "      except ValueError:\n",
    "          print(\"Error: Please enter a valid number.\")\n",
    "      else:\n",
    "          print(\"Result:\", result)\n",
    "      finally:\n",
    "          print(\"Program finished.\")\n"
   ]
  },
  {
   "cell_type": "markdown",
   "metadata": {
    "id": "JkRAf5JNOLgD"
   },
   "source": [
    "13. Why is memory management important in Python?\n",
    "- Memory management is a crucial part of Python’s runtime system because it ensures that programs use memory efficiently, avoid leaks, and run smoothly.\n",
    "- 1. Efficient Use of Memory:\n",
    "  - Memory is a limited resource.\n",
    "  - Proper memory management ensures that Python allocates and releases memory only when needed, preventing waste.\n",
    "  - Helps applications run faster and smoother without consuming unnecessary system resources.\n",
    "- 2. Prevents Memory Leaks:\n",
    "  - A memory leak occurs when memory is allocated but never released.\n",
    "  - Python’s automatic garbage collector reclaims unused memory, preventing leaks and keeping programs stable.\n",
    "- 3. Improves Program Performance:\n",
    "  - Efficient memory handling means Python can reuse freed-up space for new objects.\n",
    "  - This reduces the load on the system and improves overall execution speed.\n",
    "- 4. Simplifies Development:\n",
    "  - Python’s automatic memory management (via reference counting and garbage collection) removes the need for manual allocation and deallocation (unlike in C/C++).\n",
    "  - Developers can focus on writing logic instead of managing memory manually.\n",
    "- 5. Prevents Crashes and Errors:\n",
    "  - Poor memory handling can lead to issues like “out of memory” errors or program crashes.\n",
    "  - Python’s built-in system ensures that memory is safely handled, even if exceptions occur."
   ]
  },
  {
   "cell_type": "markdown",
   "metadata": {
    "id": "pS_i-42MOLc6"
   },
   "source": [
    "14. What is the role of try and except in exception handling?\n",
    "- 1. try Block -> Detects Exceptions\n",
    "  - The try block contains code that might raise an exception during execution.\n",
    "  - Python monitors the code inside the try block.\n",
    "  - If no error occurs → the except block is skipped.\n",
    "  - If an error occurs → Python immediately jumps to the matching except block.\n",
    "- 2. except Block -> Handles Exceptions:\n",
    "  - The except block defines how to handle a specific type of error.\n",
    "  - You can have multiple except blocks to handle different exceptions separately.\n",
    "- Example:\n",
    "\n",
    "      try:\n",
    "          num = int(input(\"Enter a number: \"))\n",
    "          print(10 / num)\n",
    "      except ZeroDivisionError:\n",
    "          print(\"Cannot divide by zero.\")\n",
    "      except ValueError:\n",
    "          print(\"Please enter a valid number.\")\n"
   ]
  },
  {
   "cell_type": "markdown",
   "metadata": {
    "id": "u9uBSe0VOLaC"
   },
   "source": [
    "15. How does Python's garbage collection system work?\n",
    "- Python's garbage collection system work as follow:\n",
    "  - 1. Automatic Memory Management:\n",
    "    - Python allocates memory when you create objects (like lists, strings, etc.).\n",
    "    - When objects are no longer needed, Python’s garbage collector automatically frees that memory — no manual deletion required.\n",
    "  - 2. Reference Counting (Primary Mechanism):\n",
    "    - Every object in Python keeps track of how many references point to it.\n",
    "    - This count is stored in an internal counter (ob_refcnt).\n",
    "    - When the reference count drops to zero, the memory for that object is immediately reclaimed.\n",
    "    - Example:\n",
    "\n",
    "          import sys\n",
    "          x = [1, 2, 3]\n",
    "          print(sys.getrefcount(x))  # Shows how many references point to x\n",
    "\n",
    "  - 3. Problem: Circular References:\n",
    "    - Sometimes, two or more objects reference each other, creating a cycle —\n",
    "    - their reference counts never reach zero, even if they are unused.\n",
    "    - Example:\n",
    "\n",
    "          class A:\n",
    "              def __init__(self):\n",
    "                  self.other = None\n",
    "\n",
    "          a1 = A()\n",
    "          a2 = A()\n",
    "          a1.other = a2\n",
    "          a2.other = a1  # circular reference\n",
    "  - 4. Garbage Collector for Cyclic References:\n",
    "    - Python’s gc module handles this.\n",
    "    - It periodically scans for circular references that are no longer reachable from the main program.\n",
    "    - When found, it deletes them safely.\n",
    "  - 5. Generational Garbage Collection:\n",
    "    - Python divides objects into three generations based on their age (how many GC cycles they’ve survived):\n",
    "    - Generation 0: Newly created objects (collected most frequently)\n",
    "    - Generation 1: Survived one collection\n",
    "    - Generation 2: Survived multiple collections (collected least often).\n",
    "    - Example:\n",
    "\n",
    "          import gc\n",
    "          gc.collect()  # Manually triggers garbage collection\n",
    "\n",
    "  - 6. Developer Control:\n",
    "    - You can interact with the garbage collector using the gc module:\n",
    "    - Example:\n",
    "\n",
    "          import gc\n",
    "          gc.enable()      # Turn GC on (default)\n",
    "          gc.disable()     # Turn GC off\n",
    "          gc.collect()     # Force garbage collection\n",
    "          print(gc.get_stats())  # View collection stats\n"
   ]
  },
  {
   "cell_type": "markdown",
   "metadata": {
    "id": "6DuL_jxMOLWm"
   },
   "source": [
    "16. What is the purpose of the else block in exception handling?\n",
    "\n",
    "- The else block in Python’s exception handling is used to define code that should run only if no exception occurs in the try block.\n",
    "- Example:\n",
    "\n",
    "      try:\n",
    "          num = int(input(\"Enter a number: \"))\n",
    "          result = 10 / num\n",
    "      except ZeroDivisionError:\n",
    "          print(\"Cannot divide by zero!\")\n",
    "      except ValueError:\n",
    "          print(\"Invalid input! Please enter a number.\")\n",
    "      else:\n",
    "          print(f\"The result is {result}\")\n"
   ]
  },
  {
   "cell_type": "markdown",
   "metadata": {
    "id": "htgN-ZjhOLTU"
   },
   "source": [
    "17. What are the common logging levels in Python?\n",
    "- The common logging levels in Python are DEBUG, INFO, WARNING, ERROR, and CRITICAL.\n",
    "- They help you record messages with varying importance — useful for monitoring, debugging, and troubleshooting applications.\n",
    "- Example:\n",
    "\n",
    "      import logging\n",
    "      \n",
    "      logging.basicConfig(level=logging.DEBUG)\n",
    "      \n",
    "      logging.debug(\"This is a debug message\")\n",
    "      logging.info(\"Program started successfully\")\n",
    "      logging.warning(\"Low disk space\")\n",
    "      logging.error(\"File not found\")\n",
    "      logging.critical(\"System crash imminent\")\n"
   ]
  },
  {
   "cell_type": "markdown",
   "metadata": {
    "id": "q2yW2aXNOLQP"
   },
   "source": [
    "18. What is the difference between os.fork() and multiprocessing in Python?\n",
    "- Both os.fork() and the multiprocessing module are used to create new processes, but they differ in portability, ease of use, and level of abstraction.\n",
    "- 1. os.fork():\n",
    "  - Definition: A low-level system call that creates a child process by duplicating the current process (available only on Unix/Linux systems).\n",
    "  - How it works:\n",
    "    - When os.fork() is called, the parent process is cloned.\n",
    "    - Both parent and child continue execution from the same point, but they have different process IDs.\n",
    "  - Example:\n",
    "\n",
    "        import os\n",
    "\n",
    "        pid = os.fork()\n",
    "        if pid == 0:\n",
    "            print(\"This is the child process\")\n",
    "        else:\n",
    "            print(\"This is the parent process\")\n",
    "- 2. multiprocessing Module:\n",
    "  - Definition: A high-level Python module that allows you to create and manage multiple processes easily — portable across Windows, macOS, and Linux.\n",
    "  - How it works:\n",
    "    - Each process runs independently with its own memory space.\n",
    "    - Provides tools like Process, Pool, Queue, and Pipe for easier communication and management.\n",
    "  - Example:\n",
    "\n",
    "        from multiprocessing import Process\n",
    "        \n",
    "        def worker():\n",
    "            print(\"This is a worker process\")\n",
    "        \n",
    "        if __name__ == \"__main__\":\n",
    "            p = Process(target=worker)\n",
    "            p.start()\n",
    "            p.join()\n",
    "        "
   ]
  },
  {
   "cell_type": "markdown",
   "metadata": {
    "id": "6IK93j_dOLNQ"
   },
   "source": [
    "19. What is the importance of closing a file in Python?\n",
    "- Closing a file ensures that system resources are freed and data integrity is maintained.\n",
    "- Closing a file is important because it:\n",
    "  - Releases system resources\n",
    "  - Ensures all data is written (flushes the buffer)\n",
    "  - Prevents file corruption\n",
    "  - Avoids “too many open files” errors\n",
    "\n",
    "- Best practice: Always use a with statement for file operations — it automatically handles closing, even if an error occurs."
   ]
  },
  {
   "cell_type": "markdown",
   "metadata": {
    "id": "WQhTx3KaOLKe"
   },
   "source": [
    "20. What is the difference between file.read() and file.readline() in Python?\n",
    "- file.read():\n",
    "  - Reads the entire file content (or specified number of bytes) as a single string.\n",
    "  - It moves the file pointer to the end of the file (or after the read bytes).\n",
    "  - Useful when you want to read the whole file at once.\n",
    "  - Example:\n",
    "\n",
    "        with open(\"example.txt\", \"r\") as f:\n",
    "          data = f.read()\n",
    "          print(data)\n",
    "\n",
    "- file.readline():\n",
    "  - Reads one line at a time from the file (up to the newline character \\n).\n",
    "  - Each time you call it, it reads the next line.\n",
    "  - Useful for processing large files line by line (saves memory).\n",
    "  - Example:\n",
    "\n",
    "        with open(\"example.txt\", \"r\") as f:\n",
    "          line1 = f.readline()\n",
    "          line2 = f.readline()\n",
    "          print(line1)\n",
    "          print(line2)\n"
   ]
  },
  {
   "cell_type": "markdown",
   "metadata": {
    "id": "lMsGW4jkOLHX"
   },
   "source": [
    "21. What is the logging module in Python used for?\n",
    "- The logging module in Python is used to record (log) messages about what’s happening inside a program — such as errors, warnings, and general information — while the program is running.\n",
    "- It helps developers debug, monitor, and maintain applications more effectively.\n",
    "- Purpose of the logging Module:\n",
    "  - To track events that happen during a program’s execution.\n",
    "  - To record messages of different severity levels (like errors, warnings, or debug info).\n",
    "  - To store logs in files or display them on the console for future analysis.\n",
    "  - To replace print() statements in production code — providing more control and flexibility."
   ]
  },
  {
   "cell_type": "markdown",
   "metadata": {
    "id": "6kqc0tsfOLER"
   },
   "source": [
    "22. What is the os module in Python used for in file handling?\n",
    "- The ***os module*** in Python provides a way to interact with the operating system, including file and directory operations.\n",
    "- It allows you to perform tasks that go beyond basic reading/writing, like creating, renaming, or deleting files and directories.\n",
    "- Advantages of Using os in File Handling:\n",
    "  - Platform-independent file and directory operations.\n",
    "  - Can handle tasks beyond simple reading/writing.\n",
    "  - Useful for automation scripts, system administration, and batch processing.\n",
    "  - Works with both absolute and relative paths.\n",
    "- Example:\n",
    "\n",
    "      import os\n",
    "      \n",
    "      # Current working directory\n",
    "      print(\"Current directory:\", os.getcwd())\n",
    "      \n",
    "      # Create a new folder\n",
    "      os.mkdir(\"MyFolder\")\n",
    "      \n",
    "      # List files in current directory\n",
    "      print(\"Files:\", os.listdir(\".\"))\n",
    "      \n",
    "      # Rename a file\n",
    "      os.rename(\"old.txt\", \"new.txt\")\n",
    "      \n",
    "      # Delete a file\n",
    "      os.remove(\"new.txt\")\n",
    "      \n",
    "      # Delete a folder\n",
    "      os.rmdir(\"MyFolder\")\n",
    "\n",
    "  "
   ]
  },
  {
   "cell_type": "markdown",
   "metadata": {
    "id": "HkIkHbFhOLBK"
   },
   "source": [
    "23. What are the challenges associated with memory management in Python?\n",
    "- Although Python provides automatic memory management through reference counting and garbage collection, there are still some challenges and limitations developers should be aware of.\n",
    "- Challenges:\n",
    "  - 1. Circular References\n",
    "    - Python uses reference counting to free memory.\n",
    "    - If two or more objects reference each other (a cycle), their reference counts never reach zero.\n",
    "    - While the garbage collector can detect cycles, it may not immediately free memory, causing temporary memory bloat.\n",
    "    - Example:\n",
    "\n",
    "          class Node:\n",
    "              def __init__(self):\n",
    "                  self.ref = None\n",
    "          a = Node()\n",
    "          b = Node()\n",
    "          a.ref = b\n",
    "          b.ref = a  # Circular reference\n",
    "  - 2. Memory Leaks in Long-Running Programs\n",
    "    - If objects are kept referenced unintentionally, they cannot be garbage collected.\n",
    "    - Over time, this can lead to increased memory usage and performance degradation.\n",
    "    - Example: Caching large data structures without cleanup.\n",
    "  - 3. Inefficient Use of Memory\n",
    "    - Python objects have overhead (metadata, reference counters, dynamic typing).\n",
    "    - Small objects or large collections can consume more memory than expected.\n",
    "  - 4. Unpredictable Garbage Collection\n",
    "    - The garbage collector runs periodically, not instantly.\n",
    "    - This can cause unpredictable memory usage spikes in memory-intensive applications.\n",
    "  - 5. Interfacing with C Extensions\n",
    "    - When using C extensions or libraries like NumPy, Python’s garbage collector may not track memory allocated in C.\n",
    "    - Developers need to manage this memory manually to prevent leaks.\n",
    "  - 6. Multithreading Issues\n",
    "    - In multithreaded programs, reference counting is thread-safe, but complex cycles across threads may delay garbage collection, causing higher memory usage temporarily.\n",
    "  \n"
   ]
  },
  {
   "cell_type": "markdown",
   "metadata": {
    "id": "retnA9JEOK-I"
   },
   "source": [
    "24. How do you raise an exception manually in Python?\n",
    "- In Python, you can raise an exception manually using the ***raise keyword***. This is useful when you want to enforce certain conditions or signal errors in your code.\n",
    "- Syntax: raise ExceptionType(\"Error message\")\n",
    "- Example:\n",
    "\n",
    "      x = -5\n",
    "\n",
    "      if x < 0:\n",
    "          raise ValueError(\"x cannot be negative\")\n",
    "- raise can be used to trigger built-in or custom exceptions."
   ]
  },
  {
   "cell_type": "markdown",
   "metadata": {
    "id": "Xt7otxShOK6_"
   },
   "source": [
    "25. Why is it important to use multithreading in certain applications?\n",
    "- Multithreading allows a program to execute multiple threads concurrently within the same process. It is particularly important in applications that are I/O-bound or require responsiveness.\n",
    "- Multithreading allows a program to run multiple tasks at the same time, which is useful for:\n",
    "  - Improved responsiveness – Keeps GUIs or interactive apps responsive.\n",
    "  - Efficient I/O – While one thread waits for I/O, others can run.\n",
    "  - Background tasks – Logging, monitoring, or auto-saving without blocking main tasks.\n",
    "  - Resource sharing – Threads share memory, making data sharing easier.\n",
    "  - Note: Best for I/O-bound tasks; for CPU-heavy tasks, use multiprocessing instead."
   ]
  },
  {
   "cell_type": "markdown",
   "metadata": {
    "id": "98ZVgTAWOJOV"
   },
   "source": [
    "# **`Practical Questions`**"
   ]
  },
  {
   "cell_type": "code",
   "execution_count": 15,
   "metadata": {
    "id": "cM73fKlV4iXq"
   },
   "outputs": [],
   "source": [
    "# 1. How can you open a file for writing in Python and write a string to it?\n",
    "# Best practice\n",
    "with open(\"data.txt\", 'w') as f:\n",
    "  f.write(\"Hi, I'm Vicky Kumar, a BTECH 3rd year computer science student at MMMUT collage Gorakhpur. I have completed my intermediate from Kendriya Vidyalaya Danapur Cantt which is affiliated to CBSE with aggregate 83% marks.\")"
   ]
  },
  {
   "cell_type": "code",
   "execution_count": 16,
   "metadata": {
    "colab": {
     "base_uri": "https://localhost:8080/"
    },
    "id": "kKPV-TV75nZ2",
    "outputId": "3e77e981-2870-449c-c9cc-e6cfa67921b9"
   },
   "outputs": [
    {
     "name": "stdout",
     "output_type": "stream",
     "text": [
      "\t\tFileName: data.txt\n",
      "\n",
      "Hi, I'm Vicky Kumar, a BTECH 3rd year computer science student at MMMUT collage Gorakhpur\n",
      " I have completed my intermediate from Kendriya Vidyalaya Danapur Cantt which is affiliated to CBSE with aggregate 83% marks\n",
      "\n"
     ]
    }
   ],
   "source": [
    "# 2. Write a Python program to read the contents of a file and print each line.\n",
    "\n",
    "with open(\"data.txt\", 'r') as f:\n",
    "  content = f.read()\n",
    "  print(\"\\t\\tFileName: data.txt\\n\")\n",
    "  for line in content.split('.'):\n",
    "    print(line)"
   ]
  },
  {
   "cell_type": "code",
   "execution_count": 17,
   "metadata": {
    "colab": {
     "base_uri": "https://localhost:8080/"
    },
    "id": "2Y8Vr-u17xq8",
    "outputId": "10506e91-6185-4b4b-c3fb-66a5063b1df5"
   },
   "outputs": [
    {
     "name": "stdout",
     "output_type": "stream",
     "text": [
      "File doesn't exist!\n",
      "Execution Completed.\n"
     ]
    }
   ],
   "source": [
    "# 3. How would you handle a case where the file doesn't exist while trying to open it for reading?\n",
    "\n",
    "# if file doesn't exist then it throw an error so we use try-except block\n",
    "try:\n",
    "  with open('text.txt','r') as f:\n",
    "    content = f.read()\n",
    "except FileNotFoundError:\n",
    "  print(\"File doesn't exist!\")\n",
    "else:\n",
    "  print(\"Content of File: \\n\", content)\n",
    "finally:\n",
    "  print(\"Execution Completed.\")"
   ]
  },
  {
   "cell_type": "code",
   "execution_count": 18,
   "metadata": {},
   "outputs": [
    {
     "name": "stdout",
     "output_type": "stream",
     "text": [
      "File copied successfully!\n",
      "Execution Completed.\n"
     ]
    }
   ],
   "source": [
    "# 4. Write a Python script that reads from one file and writes its content to another file.\n",
    "\n",
    "try:\n",
    "  with open(\"data.txt\", 'r') as source_file, open(\"copy.txt\", 'w') as dest_file:\n",
    "    content = source_file.read()\n",
    "    dest_file.write(content)\n",
    "except FileNotFoundError:\n",
    "  print(\"Source file not Exist!\")\n",
    "else:\n",
    "  print(\"File copied successfully!\")\n",
    "finally:\n",
    "  print(\"Execution Completed.\")\n"
   ]
  },
  {
   "cell_type": "code",
   "execution_count": 19,
   "metadata": {
    "colab": {
     "base_uri": "https://localhost:8080/"
    },
    "id": "S0fvIVdF-1R7",
    "outputId": "06e62a30-4eb9-47d6-dbe9-6b7d4561dfb0"
   },
   "outputs": [
    {
     "name": "stdin",
     "output_type": "stream",
     "text": [
      "Enter a 1st number:  0\n",
      "Enter a 2nd number:  2\n"
     ]
    },
    {
     "name": "stdout",
     "output_type": "stream",
     "text": [
      "Division by zero is not allowed!\n",
      "Execution Completed.\n"
     ]
    }
   ],
   "source": [
    "# 5. How would you catch and handle division by zero error in Python?\n",
    "try:\n",
    "  a = int(input(\"Enter a 1st number: \"))\n",
    "  b = int(input(\"Enter a 2nd number: \"))\n",
    "  ans = b / a\n",
    "except ZeroDivisionError:\n",
    "  print(\"Division by zero is not allowed!\")\n",
    "except ValueError:\n",
    "  print(\"Invalid input! Please enter a valid number.\")\n",
    "else:\n",
    "  print(\"Result : \", ans)\n",
    "finally:\n",
    "  print(\"Execution Completed.\")"
   ]
  },
  {
   "cell_type": "code",
   "execution_count": 20,
   "metadata": {
    "colab": {
     "base_uri": "https://localhost:8080/"
    },
    "id": "_EJ7iEfyAIXJ",
    "outputId": "8c56b3d7-18e4-4546-ef8b-4b0987d414ab"
   },
   "outputs": [
    {
     "name": "stdin",
     "output_type": "stream",
     "text": [
      "Enter a 1st number:  25\n",
      "Enter a 2nd number:  0\n"
     ]
    },
    {
     "name": "stdout",
     "output_type": "stream",
     "text": [
      "Result :  0.0\n",
      "Execution Completed.\n"
     ]
    }
   ],
   "source": [
    "# 6. Write a Python program that logs an error message to a log file when a division by zero exception occurs.\n",
    "2\n",
    "import logging as lg\n",
    "# configure logging to write to a file\n",
    "lg.basicConfig(filename='error.log', level=lg.ERROR, format = '%(asctime)s - %(levelname)s - %(message)s')\n",
    "\n",
    "try:\n",
    "  a = int(input(\"Enter a 1st number: \"))\n",
    "  b = int(input(\"Enter a 2nd number: \"))\n",
    "  ans = b / a\n",
    "except ZeroDivisionError as e:\n",
    "  lg.error(\"Division by zero error occurred\", exc_info=True)\n",
    "else:\n",
    "  print(\"Result : \", ans)\n",
    "finally:\n",
    "  print(\"Execution Completed.\")"
   ]
  },
  {
   "cell_type": "code",
   "execution_count": 21,
   "metadata": {
    "colab": {
     "base_uri": "https://localhost:8080/"
    },
    "id": "bFhbs-nwCVBC",
    "outputId": "204d4cdb-210f-4f10-fb0f-d9bc428a5b6f"
   },
   "outputs": [],
   "source": [
    "# 7. How do you log information at different levels (INFO, ERROR, WARNING) in Python using the logging module?\n",
    "\n",
    "import logging\n",
    "\n",
    "# Configure logging\n",
    "logging.basicConfig(filename=\"app.log\",\n",
    "                    level=logging.DEBUG,  # Minimum level to log\n",
    "                    format=\"%(asctime)s - %(levelname)s - %(message)s\")\n",
    "\n",
    "# Logging at different levels\n",
    "logging.info(\"This is an info message\")        # General information\n",
    "logging.warning(\"This is a warning message\")   # Something unexpected but not critical\n",
    "logging.error(\"This is an error message\")      # An error occurred\n",
    "logging.debug(\"This is a debug message\")       # Detailed debug info\n",
    "logging.critical(\"This is a critical message\") # Severe issue, program might fail\n"
   ]
  },
  {
   "cell_type": "code",
   "execution_count": 22,
   "metadata": {
    "id": "TmD-RCZXtj2d"
   },
   "outputs": [
    {
     "name": "stdout",
     "output_type": "stream",
     "text": [
      "File doesn't exist!\n",
      "Execution Completed.\n"
     ]
    }
   ],
   "source": [
    "# 8. Write a program to handle a file opening error using exception handling?\n",
    "try:\n",
    "  with open('text.txt','r') as f:\n",
    "    content = f.read()\n",
    "except FileNotFoundError:\n",
    "  print(\"File doesn't exist!\")\n",
    "else:\n",
    "  print(\"Content of File: \\n\", content)\n",
    "finally:\n",
    "  print(\"Execution Completed.\")"
   ]
  },
  {
   "cell_type": "code",
   "execution_count": 23,
   "metadata": {
    "id": "9_D7uT_T0OZ6"
   },
   "outputs": [
    {
     "name": "stdout",
     "output_type": "stream",
     "text": [
      "Content of File data.txt\n",
      "[\"Hi, I'm Vicky Kumar, a BTECH 3rd year computer science student at MMMUT collage Gorakhpur. I have completed my intermediate from Kendriya Vidyalaya Danapur Cantt which is affiliated to CBSE with aggregate 83% marks.\"]\n",
      "Execution Completed.\n"
     ]
    }
   ],
   "source": [
    "# 9. How can you read a file line by line and store its content in a list in Python?\n",
    "try:\n",
    "  with open(\"data.txt\", \"r\") as f:\n",
    "    content = f.readlines()\n",
    "    print(\"Content of File data.txt\")\n",
    "except FileNotFoundError:\n",
    "  print(\"File not found!\")\n",
    "else:\n",
    "  print(content)\n",
    "finally:\n",
    "  print(\"Execution Completed.\")"
   ]
  },
  {
   "cell_type": "code",
   "execution_count": 24,
   "metadata": {},
   "outputs": [],
   "source": [
    "# 10. How can you append data to an existing file in Python?\n",
    "with open(\"data.txt\", 'a') as f:\n",
    "    f.write(\"I have completed my high school from the same school with aggregate 86% marks.\")\n",
    "\n"
   ]
  },
  {
   "cell_type": "code",
   "execution_count": 25,
   "metadata": {},
   "outputs": [
    {
     "name": "stdout",
     "output_type": "stream",
     "text": [
      "Key not found!\n"
     ]
    }
   ],
   "source": [
    "# 11. Write a Python program that uses a try-except block to handle an error when attempting to access a dictionary key that doesn't exist?\n",
    "try:\n",
    "    student = {\n",
    "        'name': 'vicky',\n",
    "        'marks(/500)': 428\n",
    "    }\n",
    "    item = student['phone_no']\n",
    "except KeyError:\n",
    "    print(\"Key not found!\")\n",
    "except Exception as e:\n",
    "    print(\"Error: \", e)"
   ]
  },
  {
   "cell_type": "code",
   "execution_count": 26,
   "metadata": {},
   "outputs": [
    {
     "name": "stdin",
     "output_type": "stream",
     "text": [
      "Enter a number:  25\n",
      "Enter another number:  25\n"
     ]
    },
    {
     "name": "stdout",
     "output_type": "stream",
     "text": [
      "Result: 1.0\n"
     ]
    }
   ],
   "source": [
    "# 12. Write a program that demonstrates using multiple except blocks to handle different types of exceptions.\n",
    "try:\n",
    "    num1 = int(input(\"Enter a number: \"))\n",
    "    num2 = int(input(\"Enter another number: \"))\n",
    "    result = num1 / num2\n",
    "    print(\"Result:\", result)\n",
    "    \n",
    "except ZeroDivisionError:\n",
    "    print(\"Error: Cannot divide by zero!\")\n",
    "\n",
    "except ValueError:\n",
    "    print(\"Error: Invalid input! Please enter numbers only.\")\n",
    "\n",
    "except Exception as e:\n",
    "    print(f\"An unexpected error occurred: {e}\")\n"
   ]
  },
  {
   "cell_type": "code",
   "execution_count": 27,
   "metadata": {},
   "outputs": [
    {
     "name": "stdout",
     "output_type": "stream",
     "text": [
      "Hi, I'm Vicky Kumar, a BTECH 3rd year computer science student at MMMUT collage Gorakhpur. I have completed my intermediate from Kendriya Vidyalaya Danapur Cantt which is affiliated to CBSE with aggregate 83% marks.I have completed my high school from the same school with aggregate 86% marks.\n"
     ]
    }
   ],
   "source": [
    "# 13. How would you check if a file exists before attempting to read it in Python?\n",
    "import os\n",
    "\n",
    "if os.path.exists('data.txt'):\n",
    "    with open(\"data.txt\", 'r') as f:\n",
    "        content = f.readlines()\n",
    "        for line in content:\n",
    "            print(line)\n",
    "else:\n",
    "    print(\"File not exist!\")"
   ]
  },
  {
   "cell_type": "code",
   "execution_count": 28,
   "metadata": {},
   "outputs": [
    {
     "name": "stdin",
     "output_type": "stream",
     "text": [
      "Enter a number:  225\n",
      "Enter another number:  25\n"
     ]
    },
    {
     "name": "stdout",
     "output_type": "stream",
     "text": [
      "Result: 9.0\n"
     ]
    }
   ],
   "source": [
    "# 14. Write a program that uses the logging module to log both informational and error messages.\n",
    "import logging\n",
    "\n",
    "# Configure the logging system\n",
    "logging.basicConfig(\n",
    "    filename='app.log',          # Log file name\n",
    "    level=logging.INFO,          # Minimum log level to capture\n",
    "    format='%(asctime)s - %(levelname)s - %(message)s'\n",
    ")\n",
    "\n",
    "# Log an informational message\n",
    "logging.info(\"Application started.\")\n",
    "\n",
    "try:\n",
    "    \n",
    "    num1 = int(input(\"Enter a number: \"))\n",
    "    num2 = int(input(\"Enter another number: \"))\n",
    "    result = num1 / num2\n",
    "    print(\"Result:\", result)\n",
    "    logging.info(f\"Division successful({num1} / {num2}): {result}\")\n",
    "\n",
    "except ZeroDivisionError:\n",
    "    logging.error(\"Attempted to divide by zero.\")\n",
    "    print(\"Error: Cannot divide by zero!\")\n",
    "\n",
    "except ValueError:\n",
    "    logging.error(\"Invalid input; expected a number.\")\n",
    "    print(\"Error: Please enter valid numbers.\")\n",
    "\n",
    "except Exception as e:\n",
    "    logging.error(f\"Unexpected error: {e}\")\n",
    "    print(\"An unexpected error occurred.\")\n",
    "\n",
    "finally:\n",
    "    logging.info(\"Application ended.\")\n"
   ]
  },
  {
   "cell_type": "code",
   "execution_count": 29,
   "metadata": {},
   "outputs": [
    {
     "name": "stdin",
     "output_type": "stream",
     "text": [
      "Enter the file name:  text.txt\n"
     ]
    },
    {
     "name": "stdout",
     "output_type": "stream",
     "text": [
      "Error: The file 'text.txt' does not exist.\n"
     ]
    }
   ],
   "source": [
    "# 15. Write a Python program that prints the content of a file and handles the case when the file is empty.\n",
    "def read_file(filename):\n",
    "    try:\n",
    "        with open(filename, 'r') as file:\n",
    "            content = file.read()\n",
    "            if content.strip() == '':\n",
    "                print(\"The file is empty.\")\n",
    "            else:\n",
    "                print(\"File content:\\n\", content)\n",
    "\n",
    "    except FileNotFoundError:\n",
    "        print(f\"Error: The file '{filename}' does not exist.\")\n",
    "    except Exception as e:\n",
    "        print(f\"An unexpected error occurred: {e}\")\n",
    "\n",
    "\n",
    "file_name = input(\"Enter the file name: \")\n",
    "read_file(file_name)\n"
   ]
  },
  {
   "cell_type": "code",
   "execution_count": 30,
   "metadata": {},
   "outputs": [
    {
     "name": "stdout",
     "output_type": "stream",
     "text": [
      "The memory_profiler extension is already loaded. To reload it, use:\n",
      "  %reload_ext memory_profiler\n",
      "peak memory: 96.72 MiB, increment: 1.67 MiB\n"
     ]
    }
   ],
   "source": [
    "# 16. Demonstrate how to use memory profiling to check the memory usage of a small program.\n",
    "# Load memory_profiler extension\n",
    "%load_ext memory_profiler\n",
    "\n",
    "# Use %memit for memory usage of a function call\n",
    "def create_list():\n",
    "    data = [i * 2 for i in range(100000)]  # Use memory\n",
    "    return data\n",
    "\n",
    "# Profile memory usage of the function\n",
    "%memit create_list()"
   ]
  },
  {
   "cell_type": "code",
   "execution_count": 31,
   "metadata": {},
   "outputs": [
    {
     "name": "stdout",
     "output_type": "stream",
     "text": [
      "Numbers written to 'numbers.txt'\n"
     ]
    }
   ],
   "source": [
    "# 17. Write a Python program to create and write a list of numbers to a file, one number per line.\n",
    "num = [1, 2, 3, 4, 5, 6, 7, 8, 9, 10]\n",
    "\n",
    "with open('numbers.txt', 'w') as file:\n",
    "    for i in num:\n",
    "        file.write(str(i) + '\\n')\n",
    "\n",
    "print(\"Numbers written to 'numbers.txt'\")\n"
   ]
  },
  {
   "cell_type": "code",
   "execution_count": 32,
   "metadata": {},
   "outputs": [],
   "source": [
    "# 18. How would you implement a basic logging setup that logs to a file with rotation after 1MB?\n",
    "import logging\n",
    "from logging.handlers import RotatingFileHandler\n",
    "\n",
    "# Create logger\n",
    "logger = logging.getLogger('my_logger')\n",
    "logger.setLevel(logging.DEBUG)  # Log all levels DEBUG and above\n",
    "\n",
    "# Create a rotating file handler\n",
    "handler = RotatingFileHandler(\n",
    "    'app.log',      # Log file name\n",
    "    maxBytes=1_000_000,  # 1 MB\n",
    "    backupCount=3        # Keep up to 3 backup files (app.log.1, app.log.2, ...)\n",
    ")\n",
    "\n",
    "# Create formatter and add it to the handler\n",
    "formatter = logging.Formatter('%(asctime)s - %(levelname)s - %(message)s')\n",
    "handler.setFormatter(formatter)\n",
    "\n",
    "# Add handler to the logger\n",
    "logger.addHandler(handler)\n",
    "\n",
    "# Example logs\n",
    "logger.info(\"This is an info message.\")\n",
    "logger.error(\"This is an error message.\")\n"
   ]
  },
  {
   "cell_type": "code",
   "execution_count": 33,
   "metadata": {},
   "outputs": [
    {
     "name": "stdout",
     "output_type": "stream",
     "text": [
      "Error: List index out of range.\n"
     ]
    }
   ],
   "source": [
    "# 19. Write a program that handles both IndexError and KeyError using a try-except block.\n",
    "data = {\n",
    "    'names': ['Alice', 'Bob', 'Charlie'],\n",
    "    'marks': [90, 80, 89]\n",
    "}\n",
    "\n",
    "try:\n",
    "    # accessing an index that might be out of range\n",
    "    print(data['names'][3])\n",
    "    \n",
    "    print(data['ages']) # accessing the key that might not exist.\n",
    "    \n",
    "except IndexError:\n",
    "    print(\"Error: List index out of range.\")\n",
    "    \n",
    "except KeyError:\n",
    "    print(\"Error: Key not found in dictionary.\")\n"
   ]
  },
  {
   "cell_type": "code",
   "execution_count": 34,
   "metadata": {},
   "outputs": [
    {
     "name": "stdout",
     "output_type": "stream",
     "text": [
      "1\n",
      "2\n",
      "3\n",
      "4\n",
      "5\n",
      "6\n",
      "7\n",
      "8\n",
      "9\n",
      "10\n",
      "\n"
     ]
    }
   ],
   "source": [
    "# 20. How would you open a file and read its contents using a context manager in Python?\n",
    "with open(\"numbers.txt\", \"r\") as f:\n",
    "    contents = f.read()\n",
    "    print(contents)\n"
   ]
  },
  {
   "cell_type": "code",
   "execution_count": 38,
   "metadata": {},
   "outputs": [
    {
     "name": "stdin",
     "output_type": "stream",
     "text": [
      "Enter the file name:  data.txt\n",
      "Enter the word to count:  aggregate\n"
     ]
    },
    {
     "name": "stdout",
     "output_type": "stream",
     "text": [
      "The word 'aggregate' occurs 2 times in 'data.txt'.\n"
     ]
    }
   ],
   "source": [
    "# 21. Write a Python program that reads a file and prints the number of occurrences of a specific word.\n",
    "filename = input(\"Enter the file name: \")\n",
    "word = input(\"Enter the word to count: \")\n",
    "count = 0\n",
    "\n",
    "with open(filename, 'r') as file:\n",
    "    for line in file:\n",
    "        words = line.split()\n",
    "        for w in words:\n",
    "            if w == word:\n",
    "                count += 1\n",
    "\n",
    "print(f\"The word '{word}' occurs {count} times in '{filename}'.\")\n"
   ]
  },
  {
   "cell_type": "code",
   "execution_count": 39,
   "metadata": {},
   "outputs": [
    {
     "name": "stdout",
     "output_type": "stream",
     "text": [
      "File is not empty:\n",
      " Hi, I'm Vicky Kumar, a BTECH 3rd year computer science student at MMMUT collage Gorakhpur. I have completed my intermediate from Kendriya Vidyalaya Danapur Cantt which is affiliated to CBSE with aggregate 83% marks.I have completed my high school from the same school with aggregate 86% marks.\n"
     ]
    }
   ],
   "source": [
    "# 22. How can you check if a file is empty before attempting to read its contents?\n",
    "import os\n",
    "\n",
    "file_path = 'data.txt'\n",
    "if os.path.getsize(file_path) != 0:\n",
    "    with open('data.txt', 'r') as f:\n",
    "        content = f.read()\n",
    "    print(\"File is not empty:\\n\", content)\n",
    "else:\n",
    "    print(\"File is empty\")\n"
   ]
  },
  {
   "cell_type": "code",
   "execution_count": 40,
   "metadata": {},
   "outputs": [
    {
     "name": "stdout",
     "output_type": "stream",
     "text": [
      "An error occurred. Check file_errors.log for details.\n"
     ]
    }
   ],
   "source": [
    "# 23. Write a Python program that writes to a log file when an error occurs during file handling.\n",
    "import logging\n",
    "\n",
    "logging.basicConfig(\n",
    "    filename='file_errors.log',\n",
    "    level=logging.ERROR,\n",
    "    format='%(asctime)s - %(levelname)s - %(message)s'\n",
    ")\n",
    "\n",
    "file_name = 'my_file.txt'\n",
    "try:\n",
    "    with open(file_name, 'r') as f:\n",
    "        contents = f.read()\n",
    "        print(contents)\n",
    "except Exception as e:\n",
    "    logging.error(\"Error while handling file '%s': %s\", file_name, e)\n",
    "    print(\"An error occurred. Check file_errors.log for details.\")\n"
   ]
  }
 ],
 "metadata": {
  "colab": {
   "provenance": []
  },
  "kernelspec": {
   "display_name": "Python 3 (ipykernel)",
   "language": "python",
   "name": "python3"
  },
  "language_info": {
   "codemirror_mode": {
    "name": "ipython",
    "version": 3
   },
   "file_extension": ".py",
   "mimetype": "text/x-python",
   "name": "python",
   "nbconvert_exporter": "python",
   "pygments_lexer": "ipython3",
   "version": "3.13.5"
  }
 },
 "nbformat": 4,
 "nbformat_minor": 4
}
