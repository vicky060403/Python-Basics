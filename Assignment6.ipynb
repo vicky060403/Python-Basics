{
  "nbformat": 4,
  "nbformat_minor": 0,
  "metadata": {
    "colab": {
      "provenance": []
    },
    "kernelspec": {
      "name": "python3",
      "display_name": "Python 3"
    },
    "language_info": {
      "name": "python"
    }
  },
  "cells": [
    {
      "cell_type": "markdown",
      "source": [
        "1. What is NumPy, and why is it widely used in Python?\n",
        "- Numpy (Numerical Python) is a powerful open-source python library that primarily used for numerical and scientific computing.\n",
        "- It provides supports for large, multi-dimensional array and matrices, along with a wide range of mathematical, logical and statistical functons to operates on these arrays efficiently.\n",
        "- The NumPy array is an ndarray object, a highly optimized array type designed for fast numerical operations.\n",
        "- NumPy arrays are homogeneous, meaning all elements must be of the same data type.\n",
        "- Its core features include fast array processing, broadcasting, vectorized operations, and linear algebra capabilities, enabling high-performance computations.\n",
        "- NumPy is written in Python, with critical parts implemented in C and C++ for speed, making it significantly faster than native Python lists.\n",
        "- It can efficiently handle large datasets, which is crucial for fields like Data Science, Machine Learning, and Artificial Intelligence.\n",
        "\n",
        "- Syntax: ***import numpy as np***"
      ],
      "metadata": {
        "id": "D1C40rmm_Y3j"
      }
    },
    {
      "cell_type": "markdown",
      "source": [
        "2. How does broadcasting work in NumPy?\n",
        "- Broadcasting in NumPy is a powerful mechanism that allows operations on arrays of different shapes without explicitly reshaping or replicating data. It “stretches” the smaller array along the dimensions so that the operation can be applied element-wise.\n",
        "- How Broadcasting Works:\n",
        "  - Compare shapes of the arrays from trailing dimensions (rightmost).\n",
        "  - Rules for compatibility:\n",
        "    - If the dimensions are equal, they are compatible.\n",
        "    - If one of the dimensions is 1, it is stretched to match the other dimension.\n",
        "    - If neither is equal nor 1, broadcasting fails.\n",
        "  - Arrays are virtually expanded, not copied in memory, so it’s memory-efficient.\n",
        "- Example:\n",
        "\n",
        "      import numpy as np\n",
        "\n",
        "      a = np.array([[1, 2, 3], [4, 5, 6]]) # shape: (2,3) and ndim: 2\n",
        "      b = np.array([10, 20, 30]) # shape: (1,3) and ndim: 1\n",
        "      # so broadcasting happen in this case\n",
        "      print(a + b)\n"
      ],
      "metadata": {
        "id": "kGdSoCk3FCFk"
      }
    },
    {
      "cell_type": "markdown",
      "source": [
        "3. What is a Pandas DataFrame?\n",
        "- A Pandas DataFrame is one of the core data structures in the Pandas library, which is widely used for data manipulation and analysis in Python.\n",
        "- A DataFrame is a 2-dimensional, size-mutable, tabular data structure with labeled axes (rows and columns).\n",
        "- This is used to store data in the form of row and column like in Mysql databases, excel.\n",
        "- You can perform vectorized operations, which are faster than iterating through Python lists.\n",
        "- Dataframe stores a hetrogeneous data means Each column can store different data types (integers, floats, strings, etc.)."
      ],
      "metadata": {
        "id": "FtqjOGs_FCCH"
      }
    },
    {
      "cell_type": "markdown",
      "source": [
        "4. Explain the use of the groupby() method in Pandas.\n",
        "- The groupby() method in Pandas is a powerful tool for splitting data into groups based on some criteria and then applying aggregate functions or transformations on each group separately.\n",
        "- It is especially useful for data analysis and summarization.\n",
        "- How groupby() Works:\n",
        "  - The operation involves three steps, often called the split-apply-combine strategy:\n",
        "\n",
        "    - Split: Divide the DataFrame into groups based on a column or multiple columns.\n",
        "    - Apply: Apply an aggregation, transformation, or filtering function to each group.\n",
        "    - Combine: Combine the results into a new DataFrame or Series.\n",
        "- Syntax: df.groupby('column_name').aggregate_function()\n",
        "\n",
        "- Example:\n",
        "\n",
        "      import pandas as pd\n",
        "      \n",
        "      data = {\n",
        "          'Department': ['HR', 'IT', 'HR', 'IT', 'Finance'],\n",
        "          'Employee': ['Alice', 'Bob', 'Charlie', 'David', 'Eva'],\n",
        "          'Salary': [50000, 60000, 55000, 65000, 70000]\n",
        "      }\n",
        "      \n",
        "      df = pd.DataFrame(data)\n",
        "      \n",
        "      # Group by Department and calculate average salary\n",
        "      grouped = df.groupby('Department')['Salary'].mean()\n",
        "      print(grouped)\n"
      ],
      "metadata": {
        "id": "7FfWWguNFB_N"
      }
    },
    {
      "cell_type": "markdown",
      "source": [
        "5. Why is Seaborn preferred for statistical visualizations?\n",
        "- Seaborn is preferred for statistical visualizations because of these key reasons:\n",
        "  - Built on Matplotlib: It extends Matplotlib by providing a higher-level, more user-friendly interface tailored for complex statistical plots.\n",
        "  - Simplified Syntax: Allows creation of sophisticated statistical visualizations with minimal code compared to Matplotlib, making it accessible and faster to develop.\n",
        "  - Pre-built Statistical Plots: Provides specialized plots like violin plots, heatmaps, box plots, and categorical plots that are not native to Matplotlib, facilitating deeper data insights.\n",
        "  - Integration with Pandas: Seamlessly works with Pandas DataFrames, enabling direct visualization of structured data without extra preprocessing.\n",
        "  - Beautiful Default Styles: Comes with attractive built-in themes and color palettes that enhance visual appeal without requiring manual customization.\n",
        "  - Handles Overlapping and Complex Data: Reduces clutter and overlapping through smarter plotting defaults, which improves readability of visualizations.\n",
        "  - Faster Exploratory Data Analysis: Speeds up data exploration by enabling quick creation of informative, aesthetically pleasing statistical graphics.\n",
        "  - Good Balance Between Customizability and Ease of Use: While easier than Matplotlib, it still allows customization for detailed plots if needed."
      ],
      "metadata": {
        "id": "n9hN_1qNFB8F"
      }
    },
    {
      "cell_type": "markdown",
      "source": [
        "6. What are the differences between NumPy arrays and Python lists?\n",
        "  - Data Type:\n",
        "    - NumPy arrays store homogeneous data (all elements of the same type), which optimizes memory and computation.\n",
        "    - Python lists can store heterogeneous data (elements of different types), providing flexibility.\n",
        "\n",
        "  - Storage and Memory:\n",
        "    - NumPy arrays store data contiguous in memory, which leads to less memory usage and better cache performance.\n",
        "    - Python lists store references to objects scattered in memory, leading to more overhead and higher memory consumption.\n",
        "\n",
        "  - Performance:\n",
        "    - NumPy arrays are implemented in C/C++ for fast numerical and element-wise operations.\n",
        "    - Python lists have overhead from dynamically typing each element, making them slower for numerical calculations.\n",
        "\n",
        "  - Functionality:\n",
        "    - NumPy offers a rich set of mathematical and vectorized functions for scientific computing.\n",
        "    - Lists support general operations but lack advanced numerical methods or broadcasting features.\n",
        "\n",
        "  - Dimensionality:\n",
        "    - NumPy supports multi-dimensional arrays (matrices, tensors) natively.\n",
        "    - Lists can be nested to mimic multi-dimensional structures but are less efficient and lack native support.\n",
        "    \n",
        "  - Use Cases:\n",
        "    - NumPy is preferred in data science, machine learning, and scientific computing where performance and mathematical operations are critical.\n",
        "    - Python lists are suited for general-purpose programming where flexibility and heterogeneity are required."
      ],
      "metadata": {
        "id": "O95H2Nl0FB5J"
      }
    },
    {
      "cell_type": "markdown",
      "source": [
        "7. What is a heatmap, and when should it be used?\n",
        "- A heatmap is a graphical representation of data where values are represented as colors. It is widely used in data analysis and visualization to show patterns, correlations, or magnitude across two dimensions.\n",
        "- When to Use a Heatmap\n",
        "  - To visualize correlations between variables in a dataset.\n",
        "  - To detect patterns or trends in data.\n",
        "  - To highlight high and low values in a table of numbers.\n",
        "  - In machine learning, for confusion matrices to check classification performance.\n",
        "  - In finance, biology, or social sciences, to analyze complex datasets visually.\n",
        "- Example:\n",
        "\n",
        "      import seaborn as sns\n",
        "      import pandas as pd\n",
        "      \n",
        "      # Sample DataFrame\n",
        "      data = pd.DataFrame({\n",
        "          \"A\": [1, 2, 3, 4],\n",
        "          \"B\": [4, 3, 2, 1],\n",
        "          \"C\": [2, 3, 4, 5]\n",
        "      })\n",
        "      \n",
        "      # Compute correlation\n",
        "      corr = data.corr()\n",
        "      \n",
        "      # Plot heatmap\n",
        "      sns.heatmap(corr, annot=True, cmap=\"coolwarm\")\n"
      ],
      "metadata": {
        "id": "FrjWZ6qTFB2W"
      }
    },
    {
      "cell_type": "markdown",
      "source": [
        "8. What does the term “vectorized operation” mean in NumPy?\n",
        "- In NumPy, **a vectorized operation refers to performing element-wise operations on entire arrays or large chunks of data at once**, without using explicit Python loops.\n",
        "- Makes code cleaner, concise, and readable.And provides significant speed improvements, especially for large datasets.\n",
        "- Examples:\n",
        "\n",
        "      import numpy as np\n",
        "\n",
        "      a = np.array([1, 2, 3, 4, 5])\n",
        "      b = np.array([10, 12, 15, 25, 55])\n",
        "      # vectorized operation\n",
        "      c = a + b # it perform index wise addition of elements\n",
        "      print(c) # output: [11, 14, 18, 29, 60]\n",
        "\n",
        "      d = a * b\n",
        "      print(d) # output: [10, 24, 45, 100, 275]"
      ],
      "metadata": {
        "id": "KU0zXQRJFBze"
      }
    },
    {
      "cell_type": "markdown",
      "source": [
        "9. How does Matplotlib differ from Plotly?\n",
        "- Matplotlib and Plotly are two popular Python visualization libraries, but they differ significantly in features and use cases:\n",
        "  - Plot Type:\n",
        "    - Matplotlib primarily creates static plots (images) that are ideal for print and academic publications.\n",
        "    - Plotly specializes in creating interactive visualizations, allowing zooming, panning, hovering, and clickable elements directly in the web browser.\n",
        "  \n",
        "  - Customization and Control:\n",
        "    - Matplotlib offers comprehensive, fine-grained control over every plot element, making it highly customizable but with a relatively steep learning curve.\n",
        "    - Plotly provides easier-to-use, modern syntax with attractive default styles and interactivity, though very detailed customization may require deeper knowledge of its API.\n",
        "  \n",
        "  - Interactivity:\n",
        "    - Matplotlib plots are static by default and require additional tooling (e.g., mpld3, widgets) for interactivity.\n",
        "    - Plotly plots are interactive out of the box, supporting dynamic dashboards and web apps (e.g., Dash framework).\n",
        "\n",
        "  - Performance:\n",
        "    - Matplotlib generally performs well with large static datasets and complex multi-plot figures.\n",
        "    - Plotly sometimes struggles with performance and rendering in-browser for very large datasets due to its heavy use of JavaScript.\n",
        "\n",
        "  - Use Cases:\n",
        "    - Matplotlib suits scientific, static, and publication-quality visualizations requiring precision.\n",
        "    - Plotly excels in exploratory data analysis, presentations, and web-based dashboards requiring user engagement and interactivity."
      ],
      "metadata": {
        "id": "Pyagt-7MFBwn"
      }
    },
    {
      "cell_type": "markdown",
      "source": [
        "10. What is the significance of hierarchical indexing in Pandas?\n",
        "- ***Hierarchical indexing*** also known as ***MultiIndexing*** is a feature in Pandas that allows you to use multiple index levels (or keys) for rows and/or columns.\n",
        "- This helps represent higher-dimensional data (2D, 3D, etc.) in a 2D DataFrame.\n",
        "- Significance of Hierarchical Indexing:\n",
        "  - It organizes multidimensional data means - it allows to store data with multiple categories in a compact and readable form.\n",
        "  - It enables multi-level selection means - you can access data at any level easily.\n",
        "  - It supports aggregation by level means - you can perform aggregation operations at different hierarchy levels\n",
        "  - It works well with Grouped and Pivoted Data.\n",
        "- Example:\n",
        "\n",
        "      import pandas as pd\n",
        "      \n",
        "      data = {\n",
        "          'Sales': [200, 250, 300, 400],\n",
        "          'Profit': [50, 60, 70, 90]\n",
        "      }\n",
        "      \n",
        "      index = pd.MultiIndex.from_tuples(\n",
        "          [('North', 'Q1'), ('North', 'Q2'), ('South', 'Q1'), ('South', 'Q2')],\n",
        "          names=['Region', 'Quarter']\n",
        "      )\n",
        "      \n",
        "      df = pd.DataFrame(data, index=index)\n",
        "      print(df)\n"
      ],
      "metadata": {
        "id": "KaKZxzIsFBth"
      }
    },
    {
      "cell_type": "markdown",
      "source": [
        "11. What is the role of Seaborn’s pairplot() function?\n",
        "- ***seaborn.pairplot()*** is a function used to visualize relationships between multiple variables in a dataset — all at once.\n",
        "- It creates a grid of plots:\n",
        "  - Scatter plots for relationships between pairs of numerical variables\n",
        "  - Histograms (or KDE plots) along the diagonal to show individual variable distributions\n",
        "\n",
        "- Syntax:\n",
        "\n",
        "      import seaborn as sns # importing seaborn library\n",
        "      import pandas as pd   # importing pandas library\n",
        "\n",
        "      # Load dataset for ex. - iris dataset\n",
        "      df = sns.load_dataset('iris')\n",
        "\n",
        "      # Create pairplot\n",
        "      sns.pairplot(df)\n",
        "- Example:\n",
        "\n",
        "      import seaborn as sns\n",
        "      import matplotlib.pyplot as plt\n",
        "\n",
        "      # Load the built-in Iris dataset\n",
        "      df = sns.load_dataset('iris')\n",
        "\n",
        "      print(df.head())\n",
        "\n",
        "      # Create the pairplot\n",
        "      sns.pairplot(df, hue='species', diag_kind='kde', palette='coolwarm')\n",
        "\n",
        "      plt.show()\n"
      ],
      "metadata": {
        "id": "yF3K5Hq6FBqb"
      }
    },
    {
      "cell_type": "markdown",
      "source": [
        "12. What is the purpose of the describe() function in Pandas?\n",
        "- The ***describe()*** function in Pandas is used to generate descriptive statistics that summarize the central tendency, dispersion, and shape of a dataset’s distribution.\n",
        "- Example:\n",
        "\n",
        "      import pandas as pd\n",
        "      \n",
        "      data = {\n",
        "          'Age': [22, 25, 29, 35, 40, 45],\n",
        "          'Salary': [25000, 30000, 35000, 40000, 50000, 60000]\n",
        "      }\n",
        "      \n",
        "      df = pd.DataFrame(data)\n",
        "      \n",
        "      print(df.describe())\n"
      ],
      "metadata": {
        "id": "iZAx_M7AFBnf"
      }
    },
    {
      "cell_type": "markdown",
      "source": [
        "13. Why is handling missing data important in Pandas?\n",
        "- Missing data (represented as NaN or None in Pandas) refers to incomplete or unavailable values in a dataset.\n",
        "- Why handling missing data is important:\n",
        "  - **Ensures Accurate Analysis**: Missing values can distort statistical results like mean, correlation, or regression models.\n",
        "  - **Prevents Errors**: Many operations (e.g., mathematical or ML algorithms) cannot handle NaN values, causing runtime errors.\n",
        "  - **Maintains Data Integrity**: Cleaning missing data helps make datasets consistent and reliable for analysis.\n",
        "  - **Improves Model Performance**: In machine learning, missing values can lead to biased or inaccurate predictions.\n",
        "- Methods used to remove missing data:\n",
        "  - dropna() : Removes rows or columns with missing values.\n",
        "  - fillna() : Replaces missing values with a given value like mean, median,etc.\n",
        "  - isnull().sum(): It is used to count NaN values in a column.\n",
        "  "
      ],
      "metadata": {
        "id": "0FbOkBLrFBkZ"
      }
    },
    {
      "cell_type": "markdown",
      "source": [
        "14. What are the benefits of using Plotly for data visualization?\n",
        "- Plotly is a Python library used to create interactive, web-based visualizations.\n",
        "- It works well for data analysis, dashboards, and machine learning projects.\n",
        "- Benefits of using Plotly:\n",
        "  - Interactivity: Unlike Matplotlib or Seaborn, Plotly graphs are interactive — you can zoom, hover, pan, and click points to see details.\n",
        "  - Web-Based Visuals: Plotly charts are rendered in the browser using JavaScript, making them perfect for dashboards and web apps.\n",
        "  - Beautiful & Professional Charts: Produces high-quality publication-ready visualizations with minimal code.\n",
        "  - Supports Multiple Chart Types: Includes scatter, line, bar, 3D plots, maps, heatmaps, boxplots, pie charts, and more — all interactive.\n",
        "  - Easy Integration: Works smoothly with Pandas, NumPy, Dash, and Jupyter Notebooks.\n",
        "  - Built-in Hover & Tooltip Info: Displays detailed data points automatically when hovering — no extra code needed.\n",
        "  - 3D and Geo-Spatial Plots: You can easily create 3D scatter plots, surface plots, and map visualizations."
      ],
      "metadata": {
        "id": "N7iEV1wLFBhT"
      }
    },
    {
      "cell_type": "markdown",
      "source": [
        "15. How does NumPy handle multidimensional arrays?\n",
        "- NumPy uses a powerful data structure called an ndarray (N-dimensional array) to store and manipulate multidimensional data efficiently.\n",
        "- How NumPy Handles These Arrays Internally:\n",
        "  - ***Homogeneous Data***:\tAll elements in a NumPy array are of the same data type, making operations fast.\n",
        "  - ***Shape & Rank***:\tThe number of dimensions is called the rank, and the size of each dimension is given by shape.\n",
        "  - ***Efficient Storage***:\tData is stored in contiguous memory blocks, allowing fast access and computation.\n",
        "  - ***Broadcasting***:\tNumPy automatically expands arrays of smaller dimensions to perform element-wise operations efficiently.\n",
        "  - ***Vectorized Operations***:\tOperations like addition, multiplication, or dot products happen on the entire array without loops.\n",
        "- Example:\n",
        "\n",
        "      import numpy as np\n",
        "      \n",
        "      # 1D array\n",
        "      a = np.array([1, 2, 3, 4])\n",
        "      print(\"1D Array:\\n\", a)\n",
        "      print(\"Shape:\", a.shape)\n",
        "      \n",
        "      # 2D array (matrix)\n",
        "      b = np.array([[1, 2, 3], [4, 5, 6]])\n",
        "      print(\"\\n2D Array:\\n\", b)\n",
        "      print(\"Shape:\", b.shape)\n",
        "      \n",
        "      # 3D array\n",
        "      c = np.array([[[1, 2], [3, 4]], [[5, 6], [7, 8]]])\n",
        "      print(\"\\n3D Array:\\n\", c)\n",
        "      print(\"Shape:\", c.shape)\n"
      ],
      "metadata": {
        "id": "svhgtHZwFBeX"
      }
    },
    {
      "cell_type": "markdown",
      "source": [
        "16. What is the role of Bokeh in data visualization?\n",
        "- Bokeh is a Python library used for creating interactive, web-based visualizations that can handle large or streaming datasets efficiently.\n",
        "- Advantages or roles of Bokah:\n",
        "  - Interactive Visualizations:\tEnables zooming, panning, hovering, and selecting points — directly in the browser.\n",
        "  - Web Integration:\tEasily integrates with HTML, JavaScript, and Flask/Django apps.\n",
        "  - Dashboard Building:\tCan create real-time interactive dashboards (similar to Plotly Dash).\n",
        "  - Large Dataset Handling:\tOptimized to handle large streaming data using its server capabilities.\n",
        "  - Multiple Output Options:\tPlots can be displayed in Jupyter Notebooks, web browsers, or exported as HTML files.\n",
        "  - Linked Plots:\tMultiple plots can be linked together — e.g., selecting a region in one updates others.\n",
        "  - Server & Streaming Support:\tBokeh Server allows real-time data updates (great for live dashboards).\n",
        "\n",
        "- Example:\n",
        "\n",
        "      from bokeh.plotting import figure, show\n",
        "\n",
        "      # Create a new plot\n",
        "      p = figure(title=\"Simple Bokeh Line Plot\",\n",
        "                 x_axis_label='X-Axis',\n",
        "                 y_axis_label='Y-Axis')\n",
        "\n",
        "      # Add line glyph\n",
        "      p.line([1, 2, 3, 4, 5], [6, 7, 6, 4, 5], line_width=2, color='green')\n",
        "\n",
        "      show(p)\n"
      ],
      "metadata": {
        "id": "GLsG7NZDFBbW"
      }
    },
    {
      "cell_type": "markdown",
      "source": [
        "17. Explain the difference between apply() and map() in Pandas?\n",
        "- 1. map() Function:\n",
        "  - Used only with Pandas Series (i.e., a single column).\n",
        "  - It applies a function, dictionary, or Series to transform the elements of that Series one by one.\n",
        "  - Example:\n",
        "\n",
        "        import pandas as pd\n",
        "        s = pd.Series([1, 2, 3, 4, 5])\n",
        "\n",
        "        # Using map() with a function\n",
        "        result = s.map(lambda x: x ** 2)\n",
        "        print(result)\n",
        "- 2. apply() Function:\n",
        "  - Can be used with both Series and DataFrame.\n",
        "  - Applies a function along an axis (rows or columns)\n",
        "  - Useful for complex operations involving multiple columns or aggregations.\n",
        "  - Example:\n",
        "\n",
        "        import pandas as pd\n",
        "        \n",
        "        df = pd.DataFrame({\n",
        "            'A': [1, 2, 3],\n",
        "            'B': [4, 5, 6]\n",
        "        })\n",
        "        \n",
        "        # Using apply() across columns\n",
        "        result = df.apply(lambda x: x.max() - x.min())\n",
        "        print(result)\n",
        "\n"
      ],
      "metadata": {
        "id": "fQTXypuyFBYT"
      }
    },
    {
      "cell_type": "markdown",
      "source": [
        "18. What are some advanced features of NumPy?\n",
        "- NumPy isn’t just about arrays — it provides powerful tools for numerical computation, matrix operations, broadcasting, memory optimization, and integration with C/C++ code.\n",
        "- The most important advanced features:\n",
        "  - 1. Broadcasting: Allows NumPy to perform arithmetic operations on arrays of different shapes without making unnecessary copies.\n",
        "  - 2. Vectorization: Replaces slow Python loops with fast, compiled C operations under the hood.\n",
        "  - 3. Advanced Indexing and Slicing: NumPy allows fancy indexing using boolean masks, integer arrays, or conditions.\n",
        "  - 4. Linear Algebra Operations: NumPy includes built-in methods for matrix multiplication, determinants, eigenvalues, etc.\n",
        "  - 5. Random Module: Provides powerful tools for generating random numbers and distributions (used in ML for data shuffling, initialization, etc.).\n",
        "  - 6. Masked Arrays: Used to handle missing or invalid data gracefully."
      ],
      "metadata": {
        "id": "qaXu2giFFBVa"
      }
    },
    {
      "cell_type": "markdown",
      "source": [
        "19. How does Pandas simplify time series analysis?\n",
        "- Pandas is widely used in time series analysis because it provides specialized tools and data structures to handle dates, times, and temporal data efficiently.\n",
        "- Datetime Data Types:\n",
        "  - Pandas provides datetime64 and Timedelta types.\n",
        "  - You can convert strings to datetime easily\n",
        "  - Example:\n",
        "\n",
        "        import pandas as pd\n",
        "\n",
        "        dates = pd.to_datetime(['2025-01-01', '2025-01-02', '2025-01-03'])\n",
        "        print(dates)\n",
        "- DateTimeIndex:\n",
        "  - Pandas allows indexing by dates, which simplifies slicing and filtering time ranges:\n",
        "  - Example:\n",
        "\n",
        "        data = pd.Series([100, 200, 300], index=pd.to_datetime(['2025-01-01', '2025-01-02', '2025-01-03']))\n",
        "        print(data['2025-01-02'])\n",
        "- Resampling and Frequency Conversion:\n",
        "  - Resample data to daily, monthly, or yearly frequency:\n",
        "  \n",
        "        ts = pd.Series([1,2,3,4,5], index=pd.date_range('2025-01-01', periods=5, freq='D'))\n",
        "        print(ts.resample('2D').sum())\n",
        "- Rolling and Moving Windows:\n",
        "  - Compute moving averages, rolling sums, and other statistics:\n",
        "\n",
        "        ts.rolling(window=2).mean()\n",
        "- Easy Plotting:\n",
        "  - Pandas integrates with Matplotlib/Seaborn for quick time series plots:\n",
        "  \n",
        "        ts.plot()\n",
        "\n",
        "\n",
        "\n",
        "\n"
      ],
      "metadata": {
        "id": "a-Oun_36FBSt"
      }
    },
    {
      "cell_type": "markdown",
      "source": [
        "20. What is the role of a pivot table in Pandas?\n",
        "- A pivot table in Pandas is a way to summarize, aggregate, and reorganize data in a tabular format.\n",
        "- Role of a pivot table:\n",
        "  - Summarizes Data: Quickly compute totals, averages, counts across groups.\n",
        "  - Data Aggregation: Helps in group-by operations with multiple aggregation functions.\n",
        "  - Easy Comparison: Makes it easy to compare metrics across categories.\n",
        "  - Reshaping Data: Converts long-format data to wide-format for better visualization or reporting.\n",
        "  - Integration with Visualization: Works well with Matplotlib or Seaborn to create heatmaps, bar charts, etc.\n",
        "- Example:\n",
        "\n",
        "      import pandas as pd\n",
        "\n",
        "      data = {\n",
        "          'Region': ['North', 'North', 'South', 'South', 'East', 'East'],\n",
        "          'Product': ['A', 'B', 'A', 'B', 'A', 'B'],\n",
        "          'Sales': [100, 150, 200, 250, 300, 350]\n",
        "      }\n",
        "\n",
        "      df = pd.DataFrame(data)\n",
        "\n",
        "      # Create pivot table\n",
        "      pivot = df.pivot_table(values='Sales', index='Region', columns='Product', aggfunc='sum')\n",
        "      print(pivot)\n"
      ],
      "metadata": {
        "id": "3FkX3sneFBP4"
      }
    },
    {
      "cell_type": "markdown",
      "source": [
        "21. Why is NumPy’s array slicing faster than Python’s list slicing?\n",
        "- Numpy array slicing are faster than Python slicing because:\n",
        "  - Contiguous Memory Storage:\n",
        "    - NumPy arrays store elements in a contiguous block of memory (C-style array), while Python lists store references/pointers to objects scattered in memory.\n",
        "    - This allows NumPy to access and manipulate slices directly in memory without looping over each element.\n",
        "  - Vectorized Operations:\n",
        "    - Slicing in NumPy does not create a new copy by default; it creates a view of the original array.\n",
        "    - Operations on slices are vectorized in C, bypassing Python’s slower loops.\n",
        "  - Python Lists are Slower:\n",
        "    - Python lists contain heterogeneous elements, each stored as a pointer to a Python object.\n",
        "    - Slicing creates a new list, copying each element individually in Python — slower and memory-intensive."
      ],
      "metadata": {
        "id": "hkaaPs5lFBM6"
      }
    },
    {
      "cell_type": "markdown",
      "source": [
        "22. What are some common use cases for Seaborn?\n",
        "- Exploratory Data Analysis (EDA):\n",
        "  - Quickly visualize distributions, relationships, and patterns in data.\n",
        "  - Common functions: distplot, histplot, boxplot, violinplot, pairplot.\n",
        "- Visualizing Distributions:\n",
        "  - Seaborn makes it easy to see how variables are distributed.\n",
        "  - Useful for numeric data analysis.\n",
        "  - Functions: histplot(), kdeplot(), boxplot(), violinplot().\n",
        "- Relationship Analysis:\n",
        "  - Examine correlations or trends between variables.\n",
        "  - Functions: scatterplot(), lmplot(), regplot(), heatmap().\n",
        "- Categorical Data Visualization:\n",
        "  - Compare groups or categories easily.\n",
        "  - Functions: countplot(), barplot(), boxplot(), violinplot().\n",
        "- Statistical Visualizations:\n",
        "  - Seaborn is designed for statistics-heavy plots.\n",
        "  - Functions: lmplot(), regplot(), boxenplot(), violinplot()."
      ],
      "metadata": {
        "id": "1TXzOB1LFBKI"
      }
    },
    {
      "cell_type": "markdown",
      "source": [
        "\n",
        "                         Practical Questions"
      ],
      "metadata": {
        "id": "F_zk5WeKFAeA"
      }
    },
    {
      "cell_type": "code",
      "source": [
        "# 1. How do you create a 2D NumPy array and calculate the sum of each row?\n",
        "import numpy as np\n",
        "\n",
        "arr = np.array([[1,2,3], [10, 12, 9]])\n",
        "arr_sum = np.sum(arr, axis = 1) # row wise sum of elements\n",
        "arr_sum"
      ],
      "metadata": {
        "colab": {
          "base_uri": "https://localhost:8080/"
        },
        "id": "qBRFrnpDaXkY",
        "outputId": "209fd71e-6f91-4d6a-966e-ea0d117b5c7d"
      },
      "execution_count": null,
      "outputs": [
        {
          "output_type": "execute_result",
          "data": {
            "text/plain": [
              "array([ 6, 31])"
            ]
          },
          "metadata": {},
          "execution_count": 1
        }
      ]
    },
    {
      "cell_type": "code",
      "source": [
        "# 2. Write a Pandas script to find the mean of a specific column in a DataFrame.\n",
        "import pandas as pd\n",
        "\n",
        "data = {\n",
        "    'Name': ['Vicky', 'Riya', 'Aman', 'Priya'],\n",
        "    'Age': [23, 21, 25, 22],\n",
        "    'Marks': [85, 90, 88, 92]\n",
        "}\n",
        "\n",
        "df = pd.DataFrame(data)\n",
        "avg_marks = df['Marks'].mean()\n",
        "print(\"Average marks of class: \", avg_marks)\n"
      ],
      "metadata": {
        "colab": {
          "base_uri": "https://localhost:8080/"
        },
        "id": "U7wSzKD6j05g",
        "outputId": "6fca17ac-de50-44e5-ccbe-6dda1cfed164"
      },
      "execution_count": null,
      "outputs": [
        {
          "output_type": "stream",
          "name": "stdout",
          "text": [
            "Average marks of class:  88.75\n"
          ]
        }
      ]
    },
    {
      "cell_type": "code",
      "source": [
        "# 3. Create a scatter plot using Matplotlib.\n",
        "import matplotlib.pyplot as plt\n",
        "\n",
        "x = df['Marks']\n",
        "y = df['Age']\n",
        "plt.scatter(x, y, color = \"blue\", marker = '^', label = \"student\")\n",
        "plt.title(\"Scatter Plot Between Marks and Age\")\n",
        "plt.xlabel(\"Marks\")\n",
        "plt.ylabel('Age')\n",
        "plt.legend()\n",
        "plt.show()\n"
      ],
      "metadata": {
        "colab": {
          "base_uri": "https://localhost:8080/",
          "height": 472
        },
        "id": "EjPa4fRfj7hc",
        "outputId": "46b01be3-d06c-47e8-a5e3-eca4dac6d4e3"
      },
      "execution_count": null,
      "outputs": [
        {
          "output_type": "display_data",
          "data": {
            "text/plain": [
              "<Figure size 640x480 with 1 Axes>"
            ],
            "image/png": "[encoded data removed]"
          },
          "metadata": {}
        }
      ]
    },
    {
      "cell_type": "code",
      "source": [
        "# 4. How do you calculate the correlation matrix using Seaborn and visualize it with a heatmap.\n",
        "import pandas as pd\n",
        "import seaborn as sns\n",
        "import matplotlib.pyplot as plt\n",
        "\n",
        "data = {\n",
        "    'Age': [18, 19, 20, 21, 22, 20, 23, 24, 25, 19, 21, 22, 23, 24, 25, 20, 19, 22, 23, 24],\n",
        "    'Marks': [78, 85, 82, 90, 88, 79, 92, 95, 94, 81, 87, 89, 90, 93, 91, 84, 80, 86, 89, 92],\n",
        "    'Hours_Studied': [3, 4, 4, 6, 5, 3, 7, 8, 8, 4, 5, 6, 7, 7, 8, 4, 3, 5, 6, 7],\n",
        "    'Attendance_%': [75, 80, 82, 90, 88, 78, 95, 97, 96, 81, 85, 89, 90, 93, 91, 83, 79, 87, 88, 92],\n",
        "    'Sleep_Hours': [6, 7, 6, 5, 5, 7, 4, 4, 4, 6, 5, 5, 4, 4, 4, 6, 7, 5, 5, 4]\n",
        "}\n",
        "\n",
        "df = pd.DataFrame(data)\n",
        "# Compute correlation matrix\n",
        "corr_matrix = df.corr()\n",
        "\n",
        "print(\"Correlation Matrix:\")\n",
        "print(corr_matrix)\n",
        "\n",
        "# Visualize with a heatmap\n",
        "plt.figure(figsize=(8, 6))\n",
        "sns.heatmap(corr_matrix, annot=True, cmap='coolwarm', linewidths=0.5, fmt=\".2f\")\n",
        "\n",
        "plt.title(\"Correlation Matrix Heatmap (Students Data)\")\n",
        "plt.show()\n"
      ],
      "metadata": {
        "colab": {
          "base_uri": "https://localhost:8080/",
          "height": 752
        },
        "id": "FNQ69hOYqJ4x",
        "outputId": "44ea4336-da7a-40c7-b202-0d873ed491bf"
      },
      "execution_count": null,
      "outputs": [
        {
          "output_type": "stream",
          "name": "stdout",
          "text": [
            "Correlation Matrix:\n",
            "                    Age     Marks  Hours_Studied  Attendance_%  Sleep_Hours\n",
            "Age            1.000000  0.907858       0.944937      0.918971    -0.899160\n",
            "Marks          0.907858  1.000000       0.959184      0.974063    -0.893073\n",
            "Hours_Studied  0.944937  0.959184       1.000000      0.955408    -0.934403\n",
            "Attendance_%   0.918971  0.974063       0.955408      1.000000    -0.912532\n",
            "Sleep_Hours   -0.899160 -0.893073      -0.934403     -0.912532     1.000000\n"
          ]
        },
        {
          "output_type": "display_data",
          "data": {
            "text/plain": [
              "<Figure size 800x600 with 2 Axes>"
            ],
            "image/png": "[encoded data removed]"
          },
          "metadata": {}
        }
      ]
    },
    {
      "cell_type": "code",
      "source": [
        "# 5. Generate a bar plot using Plotly.\n",
        "import plotly.express as px\n",
        "import pandas as pd\n",
        "\n",
        "data = {\n",
        "    'Student': ['Vicky', 'Riya', 'Aman', 'Priya', 'Kiran', 'Utkarsh', 'Himanshu'],\n",
        "    'Marks': [85, 90, 88, 92, 87, 70, 90]\n",
        "}\n",
        "\n",
        "df = pd.DataFrame(data)\n",
        "\n",
        "# Create bar plot\n",
        "fig = px.bar(df, x='Student', y='Marks',\n",
        "             color='Marks',            # Color bars based on value\n",
        "             text='Marks',             # Show value on top of bars\n",
        "             title='Marks of Students')\n",
        "\n",
        "# Customize layout\n",
        "fig.update_traces(textposition='outside')  # Show values outside bars\n",
        "fig.update_layout(yaxis_title='Marks', xaxis_title='Student')\n",
        "\n",
        "fig.show()\n"
      ],
      "metadata": {
        "colab": {
          "base_uri": "https://localhost:8080/",
          "height": 542
        },
        "id": "iUx8gJzukARc",
        "outputId": "05fae78c-c5d6-4449-8a1e-b0ae9787d9cf"
      },
      "execution_count": null,
      "outputs": [
        {
          "output_type": "display_data",
          "data": {
            "text/html": [
              "<html>\n",
              "<head><meta charset=\"utf-8\" /></head>\n",
              "<body>\n",
              "    <div>            <script src=\"https://cdnjs.cloudflare.com/ajax/libs/mathjax/2.7.5/MathJax.js?config=TeX-AMS-MML_SVG\"></script><script type=\"text/javascript\">if (window.MathJax && window.MathJax.Hub && window.MathJax.Hub.Config) {window.MathJax.Hub.Config({SVG: {font: \"STIX-Web\"}});}</script>                <script type=\"text/javascript\">window.PlotlyConfig = {MathJaxConfig: 'local'};</script>\n",
              "        <script charset=\"utf-8\" src=\"https://cdn.plot.ly/plotly-2.35.2.min.js\"></script>                <div id=\"42d17be9-e3f2-4f90-b4e5-f3e1930d8590\" class=\"plotly-graph-div\" style=\"height:525px; width:100%;\"></div>            <script type=\"text/javascript\">                                    window.PLOTLYENV=window.PLOTLYENV || {};                                    if (document.getElementById(\"42d17be9-e3f2-4f90-b4e5-f3e1930d8590\")) {                    Plotly.newPlot(                        \"42d17be9-e3f2-4f90-b4e5-f3e1930d8590\",                        [{\"alignmentgroup\":\"True\",\"hovertemplate\":\"Student=%{x}\\u003cbr\\u003eMarks=%{marker.color}\\u003cextra\\u003e\\u003c\\u002fextra\\u003e\",\"legendgroup\":\"\",\"marker\":{\"color\":[85,90,88,92,87,70,90],\"coloraxis\":\"coloraxis\",\"pattern\":{\"shape\":\"\"}},\"name\":\"\",\"offsetgroup\":\"\",\"orientation\":\"v\",\"showlegend\":false,\"text\":[85.0,90.0,88.0,92.0,87.0,70.0,90.0],\"textposition\":\"outside\",\"x\":[\"Vicky\",\"Riya\",\"Aman\",\"Priya\",\"Kiran\",\"Utkarsh\",\"Himanshu\"],\"xaxis\":\"x\",\"y\":[85,90,88,92,87,70,90],\"yaxis\":\"y\",\"type\":\"bar\"}],                        {\"template\":{\"data\":{\"histogram2dcontour\":[{\"type\":\"histogram2dcontour\",\"colorbar\":{\"outlinewidth\":0,\"ticks\":\"\"},\"colorscale\":[[0.0,\"#0d0887\"],[0.1111111111111111,\"#46039f\"],[0.2222222222222222,\"#7201a8\"],[0.3333333333333333,\"#9c179e\"],[0.4444444444444444,\"#bd3786\"],[0.5555555555555556,\"#d8576b\"],[0.6666666666666666,\"#ed7953\"],[0.7777777777777778,\"#fb9f3a\"],[0.8888888888888888,\"#fdca26\"],[1.0,\"#f0f921\"]]}],\"choropleth\":[{\"type\":\"choropleth\",\"colorbar\":{\"outlinewidth\":0,\"ticks\":\"\"}}],\"histogram2d\":[{\"type\":\"histogram2d\",\"colorbar\":{\"outlinewidth\":0,\"ticks\":\"\"},\"colorscale\":[[0.0,\"#0d0887\"],[0.1111111111111111,\"#46039f\"],[0.2222222222222222,\"#7201a8\"],[0.3333333333333333,\"#9c179e\"],[0.4444444444444444,\"#bd3786\"],[0.5555555555555556,\"#d8576b\"],[0.6666666666666666,\"#ed7953\"],[0.7777777777777778,\"#fb9f3a\"],[0.8888888888888888,\"#fdca26\"],[1.0,\"#f0f921\"]]}],\"heatmap\":[{\"type\":\"heatmap\",\"colorbar\":{\"outlinewidth\":0,\"ticks\":\"\"},\"colorscale\":[[0.0,\"#0d0887\"],[0.1111111111111111,\"#46039f\"],[0.2222222222222222,\"#7201a8\"],[0.3333333333333333,\"#9c179e\"],[0.4444444444444444,\"#bd3786\"],[0.5555555555555556,\"#d8576b\"],[0.6666666666666666,\"#ed7953\"],[0.7777777777777778,\"#fb9f3a\"],[0.8888888888888888,\"#fdca26\"],[1.0,\"#f0f921\"]]}],\"heatmapgl\":[{\"type\":\"heatmapgl\",\"colorbar\":{\"outlinewidth\":0,\"ticks\":\"\"},\"colorscale\":[[0.0,\"#0d0887\"],[0.1111111111111111,\"#46039f\"],[0.2222222222222222,\"#7201a8\"],[0.3333333333333333,\"#9c179e\"],[0.4444444444444444,\"#bd3786\"],[0.5555555555555556,\"#d8576b\"],[0.6666666666666666,\"#ed7953\"],[0.7777777777777778,\"#fb9f3a\"],[0.8888888888888888,\"#fdca26\"],[1.0,\"#f0f921\"]]}],\"contourcarpet\":[{\"type\":\"contourcarpet\",\"colorbar\":{\"outlinewidth\":0,\"ticks\":\"\"}}],\"contour\":[{\"type\":\"contour\",\"colorbar\":{\"outlinewidth\":0,\"ticks\":\"\"},\"colorscale\":[[0.0,\"#0d0887\"],[0.1111111111111111,\"#46039f\"],[0.2222222222222222,\"#7201a8\"],[0.3333333333333333,\"#9c179e\"],[0.4444444444444444,\"#bd3786\"],[0.5555555555555556,\"#d8576b\"],[0.6666666666666666,\"#ed7953\"],[0.7777777777777778,\"#fb9f3a\"],[0.8888888888888888,\"#fdca26\"],[1.0,\"#f0f921\"]]}],\"surface\":[{\"type\":\"surface\",\"colorbar\":{\"outlinewidth\":0,\"ticks\":\"\"},\"colorscale\":[[0.0,\"#0d0887\"],[0.1111111111111111,\"#46039f\"],[0.2222222222222222,\"#7201a8\"],[0.3333333333333333,\"#9c179e\"],[0.4444444444444444,\"#bd3786\"],[0.5555555555555556,\"#d8576b\"],[0.6666666666666666,\"#ed7953\"],[0.7777777777777778,\"#fb9f3a\"],[0.8888888888888888,\"#fdca26\"],[1.0,\"#f0f921\"]]}],\"mesh3d\":[{\"type\":\"mesh3d\",\"colorbar\":{\"outlinewidth\":0,\"ticks\":\"\"}}],\"scatter\":[{\"fillpattern\":{\"fillmode\":\"overlay\",\"size\":10,\"solidity\":0.2},\"type\":\"scatter\"}],\"parcoords\":[{\"type\":\"parcoords\",\"line\":{\"colorbar\":{\"outlinewidth\":0,\"ticks\":\"\"}}}],\"scatterpolargl\":[{\"type\":\"scatterpolargl\",\"marker\":{\"colorbar\":{\"outlinewidth\":0,\"ticks\":\"\"}}}],\"bar\":[{\"error_x\":{\"color\":\"#2a3f5f\"},\"error_y\":{\"color\":\"#2a3f5f\"},\"marker\":{\"line\":{\"color\":\"#E5ECF6\",\"width\":0.5},\"pattern\":{\"fillmode\":\"overlay\",\"size\":10,\"solidity\":0.2}},\"type\":\"bar\"}],\"scattergeo\":[{\"type\":\"scattergeo\",\"marker\":{\"colorbar\":{\"outlinewidth\":0,\"ticks\":\"\"}}}],\"scatterpolar\":[{\"type\":\"scatterpolar\",\"marker\":{\"colorbar\":{\"outlinewidth\":0,\"ticks\":\"\"}}}],\"histogram\":[{\"marker\":{\"pattern\":{\"fillmode\":\"overlay\",\"size\":10,\"solidity\":0.2}},\"type\":\"histogram\"}],\"scattergl\":[{\"type\":\"scattergl\",\"marker\":{\"colorbar\":{\"outlinewidth\":0,\"ticks\":\"\"}}}],\"scatter3d\":[{\"type\":\"scatter3d\",\"line\":{\"colorbar\":{\"outlinewidth\":0,\"ticks\":\"\"}},\"marker\":{\"colorbar\":{\"outlinewidth\":0,\"ticks\":\"\"}}}],\"scattermapbox\":[{\"type\":\"scattermapbox\",\"marker\":{\"colorbar\":{\"outlinewidth\":0,\"ticks\":\"\"}}}],\"scatterternary\":[{\"type\":\"scatterternary\",\"marker\":{\"colorbar\":{\"outlinewidth\":0,\"ticks\":\"\"}}}],\"scattercarpet\":[{\"type\":\"scattercarpet\",\"marker\":{\"colorbar\":{\"outlinewidth\":0,\"ticks\":\"\"}}}],\"carpet\":[{\"aaxis\":{\"endlinecolor\":\"#2a3f5f\",\"gridcolor\":\"white\",\"linecolor\":\"white\",\"minorgridcolor\":\"white\",\"startlinecolor\":\"#2a3f5f\"},\"baxis\":{\"endlinecolor\":\"#2a3f5f\",\"gridcolor\":\"white\",\"linecolor\":\"white\",\"minorgridcolor\":\"white\",\"startlinecolor\":\"#2a3f5f\"},\"type\":\"carpet\"}],\"table\":[{\"cells\":{\"fill\":{\"color\":\"#EBF0F8\"},\"line\":{\"color\":\"white\"}},\"header\":{\"fill\":{\"color\":\"#C8D4E3\"},\"line\":{\"color\":\"white\"}},\"type\":\"table\"}],\"barpolar\":[{\"marker\":{\"line\":{\"color\":\"#E5ECF6\",\"width\":0.5},\"pattern\":{\"fillmode\":\"overlay\",\"size\":10,\"solidity\":0.2}},\"type\":\"barpolar\"}],\"pie\":[{\"automargin\":true,\"type\":\"pie\"}]},\"layout\":{\"autotypenumbers\":\"strict\",\"colorway\":[\"#636efa\",\"#EF553B\",\"#00cc96\",\"#ab63fa\",\"#FFA15A\",\"#19d3f3\",\"#FF6692\",\"#B6E880\",\"#FF97FF\",\"#FECB52\"],\"font\":{\"color\":\"#2a3f5f\"},\"hovermode\":\"closest\",\"hoverlabel\":{\"align\":\"left\"},\"paper_bgcolor\":\"white\",\"plot_bgcolor\":\"#E5ECF6\",\"polar\":{\"bgcolor\":\"#E5ECF6\",\"angularaxis\":{\"gridcolor\":\"white\",\"linecolor\":\"white\",\"ticks\":\"\"},\"radialaxis\":{\"gridcolor\":\"white\",\"linecolor\":\"white\",\"ticks\":\"\"}},\"ternary\":{\"bgcolor\":\"#E5ECF6\",\"aaxis\":{\"gridcolor\":\"white\",\"linecolor\":\"white\",\"ticks\":\"\"},\"baxis\":{\"gridcolor\":\"white\",\"linecolor\":\"white\",\"ticks\":\"\"},\"caxis\":{\"gridcolor\":\"white\",\"linecolor\":\"white\",\"ticks\":\"\"}},\"coloraxis\":{\"colorbar\":{\"outlinewidth\":0,\"ticks\":\"\"}},\"colorscale\":{\"sequential\":[[0.0,\"#0d0887\"],[0.1111111111111111,\"#46039f\"],[0.2222222222222222,\"#7201a8\"],[0.3333333333333333,\"#9c179e\"],[0.4444444444444444,\"#bd3786\"],[0.5555555555555556,\"#d8576b\"],[0.6666666666666666,\"#ed7953\"],[0.7777777777777778,\"#fb9f3a\"],[0.8888888888888888,\"#fdca26\"],[1.0,\"#f0f921\"]],\"sequentialminus\":[[0.0,\"#0d0887\"],[0.1111111111111111,\"#46039f\"],[0.2222222222222222,\"#7201a8\"],[0.3333333333333333,\"#9c179e\"],[0.4444444444444444,\"#bd3786\"],[0.5555555555555556,\"#d8576b\"],[0.6666666666666666,\"#ed7953\"],[0.7777777777777778,\"#fb9f3a\"],[0.8888888888888888,\"#fdca26\"],[1.0,\"#f0f921\"]],\"diverging\":[[0,\"#8e0152\"],[0.1,\"#c51b7d\"],[0.2,\"#de77ae\"],[0.3,\"#f1b6da\"],[0.4,\"#fde0ef\"],[0.5,\"#f7f7f7\"],[0.6,\"#e6f5d0\"],[0.7,\"#b8e186\"],[0.8,\"#7fbc41\"],[0.9,\"#4d9221\"],[1,\"#276419\"]]},\"xaxis\":{\"gridcolor\":\"white\",\"linecolor\":\"white\",\"ticks\":\"\",\"title\":{\"standoff\":15},\"zerolinecolor\":\"white\",\"automargin\":true,\"zerolinewidth\":2},\"yaxis\":{\"gridcolor\":\"white\",\"linecolor\":\"white\",\"ticks\":\"\",\"title\":{\"standoff\":15},\"zerolinecolor\":\"white\",\"automargin\":true,\"zerolinewidth\":2},\"scene\":{\"xaxis\":{\"backgroundcolor\":\"#E5ECF6\",\"gridcolor\":\"white\",\"linecolor\":\"white\",\"showbackground\":true,\"ticks\":\"\",\"zerolinecolor\":\"white\",\"gridwidth\":2},\"yaxis\":{\"backgroundcolor\":\"#E5ECF6\",\"gridcolor\":\"white\",\"linecolor\":\"white\",\"showbackground\":true,\"ticks\":\"\",\"zerolinecolor\":\"white\",\"gridwidth\":2},\"zaxis\":{\"backgroundcolor\":\"#E5ECF6\",\"gridcolor\":\"white\",\"linecolor\":\"white\",\"showbackground\":true,\"ticks\":\"\",\"zerolinecolor\":\"white\",\"gridwidth\":2}},\"shapedefaults\":{\"line\":{\"color\":\"#2a3f5f\"}},\"annotationdefaults\":{\"arrowcolor\":\"#2a3f5f\",\"arrowhead\":0,\"arrowwidth\":1},\"geo\":{\"bgcolor\":\"white\",\"landcolor\":\"#E5ECF6\",\"subunitcolor\":\"white\",\"showland\":true,\"showlakes\":true,\"lakecolor\":\"white\"},\"title\":{\"x\":0.05},\"mapbox\":{\"style\":\"light\"}}},\"xaxis\":{\"anchor\":\"y\",\"domain\":[0.0,1.0],\"title\":{\"text\":\"Student\"}},\"yaxis\":{\"anchor\":\"x\",\"domain\":[0.0,1.0],\"title\":{\"text\":\"Marks\"}},\"coloraxis\":{\"colorbar\":{\"title\":{\"text\":\"Marks\"}},\"colorscale\":[[0.0,\"#0d0887\"],[0.1111111111111111,\"#46039f\"],[0.2222222222222222,\"#7201a8\"],[0.3333333333333333,\"#9c179e\"],[0.4444444444444444,\"#bd3786\"],[0.5555555555555556,\"#d8576b\"],[0.6666666666666666,\"#ed7953\"],[0.7777777777777778,\"#fb9f3a\"],[0.8888888888888888,\"#fdca26\"],[1.0,\"#f0f921\"]]},\"legend\":{\"tracegroupgap\":0},\"title\":{\"text\":\"Marks of Students\"},\"barmode\":\"relative\"},                        {\"responsive\": true}                    ).then(function(){\n",
              "                            \n",
              "var gd = document.getElementById('42d17be9-e3f2-4f90-b4e5-f3e1930d8590');\n",
              "var x = new MutationObserver(function (mutations, observer) {{\n",
              "        var display = window.getComputedStyle(gd).display;\n",
              "        if (!display || display === 'none') {{\n",
              "            console.log([gd, 'removed!']);\n",
              "            Plotly.purge(gd);\n",
              "            observer.disconnect();\n",
              "        }}\n",
              "}});\n",
              "\n",
              "// Listen for the removal of the full notebook cells\n",
              "var notebookContainer = gd.closest('#notebook-container');\n",
              "if (notebookContainer) {{\n",
              "    x.observe(notebookContainer, {childList: true});\n",
              "}}\n",
              "\n",
              "// Listen for the clearing of the current output cell\n",
              "var outputEl = gd.closest('.output');\n",
              "if (outputEl) {{\n",
              "    x.observe(outputEl, {childList: true});\n",
              "}}\n",
              "\n",
              "                        })                };                            </script>        </div>\n",
              "</body>\n",
              "</html>"
            ]
          },
          "metadata": {}
        }
      ]
    },
    {
      "cell_type": "code",
      "source": [
        "# 6. Create a DataFrame and add a new column based on an existing column.\n",
        "import pandas as pd\n",
        "\n",
        "data = {\n",
        "    'Name': ['Vicky', 'Utkarsh', 'Ashutosh', 'Himanshu', 'Devesh', 'Sonu'],\n",
        "    'Marks': [92, 89, 85, 80, 90, 70]\n",
        "}\n",
        "\n",
        "df = pd.DataFrame(data)\n",
        "# Original data\n",
        "print(\"Original Data: \\n\", df)\n",
        "# function for assigning the grade.\n",
        "def assign_grade(marks):\n",
        "  if marks >= 90:\n",
        "    return \"A\"\n",
        "  elif marks >=80 and marks < 90:\n",
        "    return \"B\"\n",
        "  elif marks >= 70 and marks < 80:\n",
        "    return 'C'\n",
        "  else:\n",
        "    return 'E'\n",
        "# Create new column and add grades according to marks\n",
        "df['Grades'] = df['Marks'].apply(assign_grade)\n",
        "# Updated data\n",
        "print(\"\\nData with Grades: \\n\", df)\n"
      ],
      "metadata": {
        "colab": {
          "base_uri": "https://localhost:8080/"
        },
        "id": "zuFWi78bkJMb",
        "outputId": "f7914540-90a2-4f8a-e937-3f7c36d13f56"
      },
      "execution_count": null,
      "outputs": [
        {
          "output_type": "stream",
          "name": "stdout",
          "text": [
            "Original Data: \n",
            "        Name  Marks\n",
            "0     Vicky     92\n",
            "1   Utkarsh     89\n",
            "2  Ashutosh     85\n",
            "3  Himanshu     80\n",
            "4    Devesh     90\n",
            "5      Sonu     70\n",
            "\n",
            "Data with Grades: \n",
            "        Name  Marks Grades\n",
            "0     Vicky     92      A\n",
            "1   Utkarsh     89      B\n",
            "2  Ashutosh     85      B\n",
            "3  Himanshu     80      B\n",
            "4    Devesh     90      A\n",
            "5      Sonu     70      C\n"
          ]
        }
      ]
    },
    {
      "cell_type": "code",
      "source": [
        "# 7. Write a program to perform element-wise multiplication of two NumPy arrays.\n",
        "import numpy as np\n",
        "\n",
        "arr1 = np.array([1, 2, 3, 4, 5])\n",
        "arr2 = np.array([12, 14, 25, 20, 15])\n",
        "\n",
        "# Element wise multiplication using vectorized operation\n",
        "arr3 = arr1 * arr2\n",
        "print(\"Element Wise Multiplication Of Two Numpy Array: \", arr3)"
      ],
      "metadata": {
        "colab": {
          "base_uri": "https://localhost:8080/"
        },
        "id": "wEmubY-3kofk",
        "outputId": "63da11af-d866-4da8-a790-f0bfdf4b51a5"
      },
      "execution_count": null,
      "outputs": [
        {
          "output_type": "stream",
          "name": "stdout",
          "text": [
            "Element Wise Multiplication Of Two Numpy Array:  [12 28 75 80 75]\n"
          ]
        }
      ]
    },
    {
      "cell_type": "code",
      "source": [
        "# 8. Create a line plot with multiple lines using Matplotlib.\n",
        "import matplotlib.pyplot as plt\n",
        "\n",
        "# Data of Monthly sales for three products\n",
        "months = ['Jan', 'Feb', 'Mar', 'Apr', 'May', 'Jun', 'Jul', 'Aug', 'Sep', 'Oct', 'Nov', 'Dec']\n",
        "sales_A = [120, 135, 150, 145, 160, 170, 180, 175, 165, 155, 150, 160]\n",
        "sales_B = [100, 110, 120, 125, 130, 135, 140, 145, 150, 155, 160, 165]\n",
        "sales_C = [80, 85, 90, 95, 100, 105, 110, 115, 120, 125, 130, 135]\n",
        "\n",
        "# Plotting the sales data\n",
        "plt.plot(months, sales_A, label='Product A', marker='o', linestyle='-', color='b')\n",
        "plt.plot(months, sales_B, label='Product B', marker='s', linestyle='-', color='g')\n",
        "plt.plot(months, sales_C, label='Product C', marker='^', linestyle='-', color='r')\n",
        "\n",
        "plt.title('Monthly Sales Comparison')\n",
        "plt.xlabel('Month')\n",
        "plt.ylabel('Sales Units')\n",
        "\n",
        "# Adding a legend to show label as Product A, Product B, Product C.\n",
        "plt.legend()\n",
        "\n",
        "plt.xticks(rotation=45)  # Rotate month labels for better readability\n",
        "plt.tight_layout()  # Adjust layout to prevent clipping\n",
        "plt.show()\n"
      ],
      "metadata": {
        "colab": {
          "base_uri": "https://localhost:8080/",
          "height": 487
        },
        "id": "pdY-jfNSw_u0",
        "outputId": "b2b0e277-f8df-4ef7-e3d0-f0212d66a19a"
      },
      "execution_count": null,
      "outputs": [
        {
          "output_type": "display_data",
          "data": {
            "text/plain": [
              "<Figure size 640x480 with 1 Axes>"
            ],
            "image/png": "[encoded data removed]"
          },
          "metadata": {}
        }
      ]
    },
    {
      "cell_type": "code",
      "source": [
        "# 9. Generate a Pandas DataFrame and filter rows where a column value is greater than a threshold.\n",
        "import pandas as pd\n",
        "\n",
        "data = {\n",
        "    'Student': ['Vicky', 'Riya', 'Aman', 'Priya', 'Kiran', 'Neha', 'Rahul', 'Ankit', 'Sanya', 'Rohit', 'Tina', 'Sameer', 'Alok', 'Meera', 'Isha'],\n",
        "    'Marks': [85, 90, 88, 92, 80, 76, 95, 89, 84, 91, 87, 78, 82, 93, 86],\n",
        "    'Age': [23, 21, 25, 22, 24, 20, 26, 23, 21, 24, 22, 25, 23, 24, 22]\n",
        "}\n",
        "\n",
        "df = pd.DataFrame(data)\n",
        "print(\"Original data\\n\", df)\n",
        "\n",
        "# filter out the marks greater than 80\n",
        "filter_marks = df[df['Marks'] > 80]\n",
        "# filter age\n",
        "filter_age = df[df['Age'] > df['Age'].mean()]\n",
        "print('\\n\\tMarks greater than 80:\\n\\n', filter_marks)\n",
        "print('\\n\\tAge greater than mean age:\\n\\n', filter_age)"
      ],
      "metadata": {
        "colab": {
          "base_uri": "https://localhost:8080/"
        },
        "id": "9lXESc2pkx_N",
        "outputId": "6f688b52-9abe-45c3-efd7-fd0e0702d8e5"
      },
      "execution_count": null,
      "outputs": [
        {
          "output_type": "stream",
          "name": "stdout",
          "text": [
            "Original data\n",
            "    Student  Marks  Age\n",
            "0    Vicky     85   23\n",
            "1     Riya     90   21\n",
            "2     Aman     88   25\n",
            "3    Priya     92   22\n",
            "4    Kiran     80   24\n",
            "5     Neha     76   20\n",
            "6    Rahul     95   26\n",
            "7    Ankit     89   23\n",
            "8    Sanya     84   21\n",
            "9    Rohit     91   24\n",
            "10    Tina     87   22\n",
            "11  Sameer     78   25\n",
            "12    Alok     82   23\n",
            "13   Meera     93   24\n",
            "14    Isha     86   22\n",
            "\n",
            "\tMarks greater than 80:\n",
            "\n",
            "    Student  Marks  Age\n",
            "0    Vicky     85   23\n",
            "1     Riya     90   21\n",
            "2     Aman     88   25\n",
            "3    Priya     92   22\n",
            "6    Rahul     95   26\n",
            "7    Ankit     89   23\n",
            "8    Sanya     84   21\n",
            "9    Rohit     91   24\n",
            "10    Tina     87   22\n",
            "12    Alok     82   23\n",
            "13   Meera     93   24\n",
            "14    Isha     86   22\n",
            "\n",
            "\tAge greater than mean age:\n",
            "\n",
            "    Student  Marks  Age\n",
            "2     Aman     88   25\n",
            "4    Kiran     80   24\n",
            "6    Rahul     95   26\n",
            "9    Rohit     91   24\n",
            "11  Sameer     78   25\n",
            "13   Meera     93   24\n"
          ]
        }
      ]
    },
    {
      "cell_type": "code",
      "source": [
        "# 10. Create a histogram using Seaborn to visualize a distribution.\n",
        "import pandas as pd\n",
        "import seaborn as sns\n",
        "import matplotlib.pyplot as plt\n",
        "\n",
        "data = {\n",
        "    'Student': ['Vicky', 'Riya', 'Aman', 'Priya', 'Kiran', 'Neha', 'Rahul', 'Ankit', 'Sanya', 'Rohit'],\n",
        "    'Marks': [85, 90, 88, 92, 80, 76, 95, 89, 84, 91]\n",
        "}\n",
        "\n",
        "df = pd.DataFrame(data)\n",
        "\n",
        "plt.figure(figsize=(8, 5))\n",
        "sns.histplot(df['Marks'], bins=5, kde=True, color='skyblue')\n",
        "\n",
        "plt.title(\"Distribution of Marks\")\n",
        "plt.xlabel(\"Marks\")\n",
        "plt.ylabel(\"Frequency\")\n",
        "\n",
        "plt.show()\n"
      ],
      "metadata": {
        "colab": {
          "base_uri": "https://localhost:8080/",
          "height": 487
        },
        "id": "C764U8JkxJoa",
        "outputId": "1491493f-b441-4bc7-f5f8-516917f9076d"
      },
      "execution_count": null,
      "outputs": [
        {
          "output_type": "display_data",
          "data": {
            "text/plain": [
              "<Figure size 800x500 with 1 Axes>"
            ],
            "image/png": "[encoded data removed]"
          },
          "metadata": {}
        }
      ]
    },
    {
      "cell_type": "code",
      "source": [
        "# 11. Perform matrix multiplication using NumPy.\n",
        "import numpy as np\n",
        "\n",
        "matrix1 = np.array([\n",
        "    [1, 2, 3],\n",
        "    [4, 5, 6],\n",
        "    [7, 8, 9]\n",
        "    ])\n",
        "\n",
        "matrix2 = np.array([\n",
        "    [2, 4, 6],\n",
        "    [3, 5, 7],\n",
        "    [8, 10, 12]\n",
        "])\n",
        "\n",
        "# matrix multiplication\n",
        "matrix = matrix1 @ matrix2 # Row to Column multiplication\n",
        "print(\"Matrix Multiplication\\n\", matrix)"
      ],
      "metadata": {
        "colab": {
          "base_uri": "https://localhost:8080/"
        },
        "id": "DV4vyscCxNVS",
        "outputId": "7c30d35f-09e5-43aa-8276-242f486b1cef"
      },
      "execution_count": null,
      "outputs": [
        {
          "output_type": "stream",
          "name": "stdout",
          "text": [
            "Matrix Multiplication\n",
            " [[ 32  44  56]\n",
            " [ 71 101 131]\n",
            " [110 158 206]]\n"
          ]
        }
      ]
    },
    {
      "cell_type": "code",
      "source": [
        "# 12. Use Pandas to load a CSV file and display its first 5 rows.\n",
        "import pandas as pd\n",
        "\n",
        "df = pd.read_csv('heart.csv', delimiter=',')\n",
        "df.head()\n"
      ],
      "metadata": {
        "colab": {
          "base_uri": "https://localhost:8080/",
          "height": 206
        },
        "id": "QOFzhR7HxPKz",
        "outputId": "f0af5cab-38de-42c1-d8aa-2e44a7dc3190"
      },
      "execution_count": null,
      "outputs": [
        {
          "output_type": "execute_result",
          "data": {
            "text/plain": [
              "   age  sex  cp  trestbps  chol  fbs  restecg  thalach  exang  oldpeak  slope  \\\n",
              "0   52    1   0       125   212    0        1      168      0      1.0      2   \n",
              "1   53    1   0       140   203    1        0      155      1      3.1      0   \n",
              "2   70    1   0       145   174    0        1      125      1      2.6      0   \n",
              "3   61    1   0       148   203    0        1      161      0      0.0      2   \n",
              "4   62    0   0       138   294    1        1      106      0      1.9      1   \n",
              "\n",
              "   ca  thal  target  \n",
              "0   2     3       0  \n",
              "1   0     3       0  \n",
              "2   0     3       0  \n",
              "3   1     3       0  \n",
              "4   3     2       0  "
            ],
            "text/html": [
              "\n",
              "  <div id=\"df-9cd050aa-863e-4762-b4f6-6ea7c8a666f6\" class=\"colab-df-container\">\n",
              "    <div>\n",
              "<style scoped>\n",
              "    .dataframe tbody tr th:only-of-type {\n",
              "        vertical-align: middle;\n",
              "    }\n",
              "\n",
              "    .dataframe tbody tr th {\n",
              "        vertical-align: top;\n",
              "    }\n",
              "\n",
              "    .dataframe thead th {\n",
              "        text-align: right;\n",
              "    }\n",
              "</style>\n",
              "<table border=\"1\" class=\"dataframe\">\n",
              "  <thead>\n",
              "    <tr style=\"text-align: right;\">\n",
              "      <th></th>\n",
              "      <th>age</th>\n",
              "      <th>sex</th>\n",
              "      <th>cp</th>\n",
              "      <th>trestbps</th>\n",
              "      <th>chol</th>\n",
              "      <th>fbs</th>\n",
              "      <th>restecg</th>\n",
              "      <th>thalach</th>\n",
              "      <th>exang</th>\n",
              "      <th>oldpeak</th>\n",
              "      <th>slope</th>\n",
              "      <th>ca</th>\n",
              "      <th>thal</th>\n",
              "      <th>target</th>\n",
              "    </tr>\n",
              "  </thead>\n",
              "  <tbody>\n",
              "    <tr>\n",
              "      <th>0</th>\n",
              "      <td>52</td>\n",
              "      <td>1</td>\n",
              "      <td>0</td>\n",
              "      <td>125</td>\n",
              "      <td>212</td>\n",
              "      <td>0</td>\n",
              "      <td>1</td>\n",
              "      <td>168</td>\n",
              "      <td>0</td>\n",
              "      <td>1.0</td>\n",
              "      <td>2</td>\n",
              "      <td>2</td>\n",
              "      <td>3</td>\n",
              "      <td>0</td>\n",
              "    </tr>\n",
              "    <tr>\n",
              "      <th>1</th>\n",
              "      <td>53</td>\n",
              "      <td>1</td>\n",
              "      <td>0</td>\n",
              "      <td>140</td>\n",
              "      <td>203</td>\n",
              "      <td>1</td>\n",
              "      <td>0</td>\n",
              "      <td>155</td>\n",
              "      <td>1</td>\n",
              "      <td>3.1</td>\n",
              "      <td>0</td>\n",
              "      <td>0</td>\n",
              "      <td>3</td>\n",
              "      <td>0</td>\n",
              "    </tr>\n",
              "    <tr>\n",
              "      <th>2</th>\n",
              "      <td>70</td>\n",
              "      <td>1</td>\n",
              "      <td>0</td>\n",
              "      <td>145</td>\n",
              "      <td>174</td>\n",
              "      <td>0</td>\n",
              "      <td>1</td>\n",
              "      <td>125</td>\n",
              "      <td>1</td>\n",
              "      <td>2.6</td>\n",
              "      <td>0</td>\n",
              "      <td>0</td>\n",
              "      <td>3</td>\n",
              "      <td>0</td>\n",
              "    </tr>\n",
              "    <tr>\n",
              "      <th>3</th>\n",
              "      <td>61</td>\n",
              "      <td>1</td>\n",
              "      <td>0</td>\n",
              "      <td>148</td>\n",
              "      <td>203</td>\n",
              "      <td>0</td>\n",
              "      <td>1</td>\n",
              "      <td>161</td>\n",
              "      <td>0</td>\n",
              "      <td>0.0</td>\n",
              "      <td>2</td>\n",
              "      <td>1</td>\n",
              "      <td>3</td>\n",
              "      <td>0</td>\n",
              "    </tr>\n",
              "    <tr>\n",
              "      <th>4</th>\n",
              "      <td>62</td>\n",
              "      <td>0</td>\n",
              "      <td>0</td>\n",
              "      <td>138</td>\n",
              "      <td>294</td>\n",
              "      <td>1</td>\n",
              "      <td>1</td>\n",
              "      <td>106</td>\n",
              "      <td>0</td>\n",
              "      <td>1.9</td>\n",
              "      <td>1</td>\n",
              "      <td>3</td>\n",
              "      <td>2</td>\n",
              "      <td>0</td>\n",
              "    </tr>\n",
              "  </tbody>\n",
              "</table>\n",
              "</div>\n",
              "    <div class=\"colab-df-buttons\">\n",
              "\n",
              "  <div class=\"colab-df-container\">\n",
              "    <button class=\"colab-df-convert\" onclick=\"convertToInteractive('df-9cd050aa-863e-4762-b4f6-6ea7c8a666f6')\"\n",
              "            title=\"Convert this dataframe to an interactive table.\"\n",
              "            style=\"display:none;\">\n",
              "\n",
              "  <svg xmlns=\"http://www.w3.org/2000/svg\" height=\"24px\" viewBox=\"0 -960 960 960\">\n",
              "    <path d=\"M120-120v-720h720v720H120Zm60-500h600v-160H180v160Zm220 220h160v-160H400v160Zm0 220h160v-160H400v160ZM180-400h160v-160H180v160Zm440 0h160v-160H620v160ZM180-180h160v-160H180v160Zm440 0h160v-160H620v160Z\"/>\n",
              "  </svg>\n",
              "    </button>\n",
              "\n",
              "  <style>\n",
              "    .colab-df-container {\n",
              "      display:flex;\n",
              "      gap: 12px;\n",
              "    }\n",
              "\n",
              "    .colab-df-convert {\n",
              "      background-color: #E8F0FE;\n",
              "      border: none;\n",
              "      border-radius: 50%;\n",
              "      cursor: pointer;\n",
              "      display: none;\n",
              "      fill: #1967D2;\n",
              "      height: 32px;\n",
              "      padding: 0 0 0 0;\n",
              "      width: 32px;\n",
              "    }\n",
              "\n",
              "    .colab-df-convert:hover {\n",
              "      background-color: #E2EBFA;\n",
              "      box-shadow: 0px 1px 2px rgba(60, 64, 67, 0.3), 0px 1px 3px 1px rgba(60, 64, 67, 0.15);\n",
              "      fill: #174EA6;\n",
              "    }\n",
              "\n",
              "    .colab-df-buttons div {\n",
              "      margin-bottom: 4px;\n",
              "    }\n",
              "\n",
              "    [theme=dark] .colab-df-convert {\n",
              "      background-color: #3B4455;\n",
              "      fill: #D2E3FC;\n",
              "    }\n",
              "\n",
              "    [theme=dark] .colab-df-convert:hover {\n",
              "      background-color: #434B5C;\n",
              "      box-shadow: 0px 1px 3px 1px rgba(0, 0, 0, 0.15);\n",
              "      filter: drop-shadow(0px 1px 2px rgba(0, 0, 0, 0.3));\n",
              "      fill: #FFFFFF;\n",
              "    }\n",
              "  </style>\n",
              "\n",
              "    <script>\n",
              "      const buttonEl =\n",
              "        document.querySelector('#df-9cd050aa-863e-4762-b4f6-6ea7c8a666f6 button.colab-df-convert');\n",
              "      buttonEl.style.display =\n",
              "        google.colab.kernel.accessAllowed ? 'block' : 'none';\n",
              "\n",
              "      async function convertToInteractive(key) {\n",
              "        const element = document.querySelector('#df-9cd050aa-863e-4762-b4f6-6ea7c8a666f6');\n",
              "        const dataTable =\n",
              "          await google.colab.kernel.invokeFunction('convertToInteractive',\n",
              "                                                    [key], {});\n",
              "        if (!dataTable) return;\n",
              "\n",
              "        const docLinkHtml = 'Like what you see? Visit the ' +\n",
              "          '<a target=\"_blank\" href=https://colab.research.google.com/notebooks/data_table.ipynb>data table notebook</a>'\n",
              "          + ' to learn more about interactive tables.';\n",
              "        element.innerHTML = '';\n",
              "        dataTable['output_type'] = 'display_data';\n",
              "        await google.colab.output.renderOutput(dataTable, element);\n",
              "        const docLink = document.createElement('div');\n",
              "        docLink.innerHTML = docLinkHtml;\n",
              "        element.appendChild(docLink);\n",
              "      }\n",
              "    </script>\n",
              "  </div>\n",
              "\n",
              "\n",
              "    <div id=\"df-c7cc74a8-487f-4808-8e4c-71de82e1cc48\">\n",
              "      <button class=\"colab-df-quickchart\" onclick=\"quickchart('df-c7cc74a8-487f-4808-8e4c-71de82e1cc48')\"\n",
              "                title=\"Suggest charts\"\n",
              "                style=\"display:none;\">\n",
              "\n",
              "<svg xmlns=\"http://www.w3.org/2000/svg\" height=\"24px\"viewBox=\"0 0 24 24\"\n",
              "     width=\"24px\">\n",
              "    <g>\n",
              "        <path d=\"M19 3H5c-1.1 0-2 .9-2 2v14c0 1.1.9 2 2 2h14c1.1 0 2-.9 2-2V5c0-1.1-.9-2-2-2zM9 17H7v-7h2v7zm4 0h-2V7h2v10zm4 0h-2v-4h2v4z\"/>\n",
              "    </g>\n",
              "</svg>\n",
              "      </button>\n",
              "\n",
              "<style>\n",
              "  .colab-df-quickchart {\n",
              "      --bg-color: #E8F0FE;\n",
              "      --fill-color: #1967D2;\n",
              "      --hover-bg-color: #E2EBFA;\n",
              "      --hover-fill-color: #174EA6;\n",
              "      --disabled-fill-color: #AAA;\n",
              "      --disabled-bg-color: #DDD;\n",
              "  }\n",
              "\n",
              "  [theme=dark] .colab-df-quickchart {\n",
              "      --bg-color: #3B4455;\n",
              "      --fill-color: #D2E3FC;\n",
              "      --hover-bg-color: #434B5C;\n",
              "      --hover-fill-color: #FFFFFF;\n",
              "      --disabled-bg-color: #3B4455;\n",
              "      --disabled-fill-color: #666;\n",
              "  }\n",
              "\n",
              "  .colab-df-quickchart {\n",
              "    background-color: var(--bg-color);\n",
              "    border: none;\n",
              "    border-radius: 50%;\n",
              "    cursor: pointer;\n",
              "    display: none;\n",
              "    fill: var(--fill-color);\n",
              "    height: 32px;\n",
              "    padding: 0;\n",
              "    width: 32px;\n",
              "  }\n",
              "\n",
              "  .colab-df-quickchart:hover {\n",
              "    background-color: var(--hover-bg-color);\n",
              "    box-shadow: 0 1px 2px rgba(60, 64, 67, 0.3), 0 1px 3px 1px rgba(60, 64, 67, 0.15);\n",
              "    fill: var(--button-hover-fill-color);\n",
              "  }\n",
              "\n",
              "  .colab-df-quickchart-complete:disabled,\n",
              "  .colab-df-quickchart-complete:disabled:hover {\n",
              "    background-color: var(--disabled-bg-color);\n",
              "    fill: var(--disabled-fill-color);\n",
              "    box-shadow: none;\n",
              "  }\n",
              "\n",
              "  .colab-df-spinner {\n",
              "    border: 2px solid var(--fill-color);\n",
              "    border-color: transparent;\n",
              "    border-bottom-color: var(--fill-color);\n",
              "    animation:\n",
              "      spin 1s steps(1) infinite;\n",
              "  }\n",
              "\n",
              "  @keyframes spin {\n",
              "    0% {\n",
              "      border-color: transparent;\n",
              "      border-bottom-color: var(--fill-color);\n",
              "      border-left-color: var(--fill-color);\n",
              "    }\n",
              "    20% {\n",
              "      border-color: transparent;\n",
              "      border-left-color: var(--fill-color);\n",
              "      border-top-color: var(--fill-color);\n",
              "    }\n",
              "    30% {\n",
              "      border-color: transparent;\n",
              "      border-left-color: var(--fill-color);\n",
              "      border-top-color: var(--fill-color);\n",
              "      border-right-color: var(--fill-color);\n",
              "    }\n",
              "    40% {\n",
              "      border-color: transparent;\n",
              "      border-right-color: var(--fill-color);\n",
              "      border-top-color: var(--fill-color);\n",
              "    }\n",
              "    60% {\n",
              "      border-color: transparent;\n",
              "      border-right-color: var(--fill-color);\n",
              "    }\n",
              "    80% {\n",
              "      border-color: transparent;\n",
              "      border-right-color: var(--fill-color);\n",
              "      border-bottom-color: var(--fill-color);\n",
              "    }\n",
              "    90% {\n",
              "      border-color: transparent;\n",
              "      border-bottom-color: var(--fill-color);\n",
              "    }\n",
              "  }\n",
              "</style>\n",
              "\n",
              "      <script>\n",
              "        async function quickchart(key) {\n",
              "          const quickchartButtonEl =\n",
              "            document.querySelector('#' + key + ' button');\n",
              "          quickchartButtonEl.disabled = true;  // To prevent multiple clicks.\n",
              "          quickchartButtonEl.classList.add('colab-df-spinner');\n",
              "          try {\n",
              "            const charts = await google.colab.kernel.invokeFunction(\n",
              "                'suggestCharts', [key], {});\n",
              "          } catch (error) {\n",
              "            console.error('Error during call to suggestCharts:', error);\n",
              "          }\n",
              "          quickchartButtonEl.classList.remove('colab-df-spinner');\n",
              "          quickchartButtonEl.classList.add('colab-df-quickchart-complete');\n",
              "        }\n",
              "        (() => {\n",
              "          let quickchartButtonEl =\n",
              "            document.querySelector('#df-c7cc74a8-487f-4808-8e4c-71de82e1cc48 button');\n",
              "          quickchartButtonEl.style.display =\n",
              "            google.colab.kernel.accessAllowed ? 'block' : 'none';\n",
              "        })();\n",
              "      </script>\n",
              "    </div>\n",
              "\n",
              "    </div>\n",
              "  </div>\n"
            ],
            "application/vnd.google.colaboratory.intrinsic+json": {
              "type": "dataframe",
              "variable_name": "df",
              "summary": "{\n  \"name\": \"df\",\n  \"rows\": 1025,\n  \"fields\": [\n    {\n      \"column\": \"age\",\n      \"properties\": {\n        \"dtype\": \"number\",\n        \"std\": 9,\n        \"min\": 29,\n        \"max\": 77,\n        \"num_unique_values\": 41,\n        \"samples\": [\n          65,\n          50,\n          54\n        ],\n        \"semantic_type\": \"\",\n        \"description\": \"\"\n      }\n    },\n    {\n      \"column\": \"sex\",\n      \"properties\": {\n        \"dtype\": \"number\",\n        \"std\": 0,\n        \"min\": 0,\n        \"max\": 1,\n        \"num_unique_values\": 2,\n        \"samples\": [\n          0,\n          1\n        ],\n        \"semantic_type\": \"\",\n        \"description\": \"\"\n      }\n    },\n    {\n      \"column\": \"cp\",\n      \"properties\": {\n        \"dtype\": \"number\",\n        \"std\": 1,\n        \"min\": 0,\n        \"max\": 3,\n        \"num_unique_values\": 4,\n        \"samples\": [\n          1,\n          3\n        ],\n        \"semantic_type\": \"\",\n        \"description\": \"\"\n      }\n    },\n    {\n      \"column\": \"trestbps\",\n      \"properties\": {\n        \"dtype\": \"number\",\n        \"std\": 17,\n        \"min\": 94,\n        \"max\": 200,\n        \"num_unique_values\": 49,\n        \"samples\": [\n          128,\n          172\n        ],\n        \"semantic_type\": \"\",\n        \"description\": \"\"\n      }\n    },\n    {\n      \"column\": \"chol\",\n      \"properties\": {\n        \"dtype\": \"number\",\n        \"std\": 51,\n        \"min\": 126,\n        \"max\": 564,\n        \"num_unique_values\": 152,\n        \"samples\": [\n          267,\n          262\n        ],\n        \"semantic_type\": \"\",\n        \"description\": \"\"\n      }\n    },\n    {\n      \"column\": \"fbs\",\n      \"properties\": {\n        \"dtype\": \"number\",\n        \"std\": 0,\n        \"min\": 0,\n        \"max\": 1,\n        \"num_unique_values\": 2,\n        \"samples\": [\n          1,\n          0\n        ],\n        \"semantic_type\": \"\",\n        \"description\": \"\"\n      }\n    },\n    {\n      \"column\": \"restecg\",\n      \"properties\": {\n        \"dtype\": \"number\",\n        \"std\": 0,\n        \"min\": 0,\n        \"max\": 2,\n        \"num_unique_values\": 3,\n        \"samples\": [\n          1,\n          0\n        ],\n        \"semantic_type\": \"\",\n        \"description\": \"\"\n      }\n    },\n    {\n      \"column\": \"thalach\",\n      \"properties\": {\n        \"dtype\": \"number\",\n        \"std\": 23,\n        \"min\": 71,\n        \"max\": 202,\n        \"num_unique_values\": 91,\n        \"samples\": [\n          180,\n          152\n        ],\n        \"semantic_type\": \"\",\n        \"description\": \"\"\n      }\n    },\n    {\n      \"column\": \"exang\",\n      \"properties\": {\n        \"dtype\": \"number\",\n        \"std\": 0,\n        \"min\": 0,\n        \"max\": 1,\n        \"num_unique_values\": 2,\n        \"samples\": [\n          1,\n          0\n        ],\n        \"semantic_type\": \"\",\n        \"description\": \"\"\n      }\n    },\n    {\n      \"column\": \"oldpeak\",\n      \"properties\": {\n        \"dtype\": \"number\",\n        \"std\": 1.175053255150173,\n        \"min\": 0.0,\n        \"max\": 6.2,\n        \"num_unique_values\": 40,\n        \"samples\": [\n          2.8,\n          0.4\n        ],\n        \"semantic_type\": \"\",\n        \"description\": \"\"\n      }\n    },\n    {\n      \"column\": \"slope\",\n      \"properties\": {\n        \"dtype\": \"number\",\n        \"std\": 0,\n        \"min\": 0,\n        \"max\": 2,\n        \"num_unique_values\": 3,\n        \"samples\": [\n          2,\n          0\n        ],\n        \"semantic_type\": \"\",\n        \"description\": \"\"\n      }\n    },\n    {\n      \"column\": \"ca\",\n      \"properties\": {\n        \"dtype\": \"number\",\n        \"std\": 1,\n        \"min\": 0,\n        \"max\": 4,\n        \"num_unique_values\": 5,\n        \"samples\": [\n          0,\n          4\n        ],\n        \"semantic_type\": \"\",\n        \"description\": \"\"\n      }\n    },\n    {\n      \"column\": \"thal\",\n      \"properties\": {\n        \"dtype\": \"number\",\n        \"std\": 0,\n        \"min\": 0,\n        \"max\": 3,\n        \"num_unique_values\": 4,\n        \"samples\": [\n          2,\n          0\n        ],\n        \"semantic_type\": \"\",\n        \"description\": \"\"\n      }\n    },\n    {\n      \"column\": \"target\",\n      \"properties\": {\n        \"dtype\": \"number\",\n        \"std\": 0,\n        \"min\": 0,\n        \"max\": 1,\n        \"num_unique_values\": 2,\n        \"samples\": [\n          1,\n          0\n        ],\n        \"semantic_type\": \"\",\n        \"description\": \"\"\n      }\n    }\n  ]\n}"
            }
          },
          "metadata": {},
          "execution_count": 57
        }
      ]
    },
    {
      "cell_type": "code",
      "source": [
        "# 13. Create a 3D scatter plot using Plotly.\n",
        "import plotly.express as px\n",
        "import pandas as pd\n",
        "\n",
        "data = {\n",
        "    'Age': [23, 21, 25, 22, 24, 26, 23, 22],\n",
        "    'Marks': [85, 90, 88, 92, 80, 95, 89, 87],\n",
        "    'Hours_Studied': [5, 6, 7, 6, 4, 8, 7, 5],\n",
        "    'Student': ['Vicky', 'Riya', 'Aman', 'Priya', 'Kiran', 'Neha', 'Rahul', 'Ankit']\n",
        "}\n",
        "\n",
        "df = pd.DataFrame(data)\n",
        "\n",
        "# Create 3D scatter plot\n",
        "fig = px.scatter_3d(\n",
        "    df,\n",
        "    x='Age',\n",
        "    y='Marks',\n",
        "    z='Hours_Studied',\n",
        "    color='Student',\n",
        "    size='Marks',\n",
        "    hover_name='Student',\n",
        "    title='3D Scatter Plot: Age vs Marks vs Hours Studied'\n",
        ")\n",
        "\n",
        "# Customize grid lines (make them darker)\n",
        "fig.update_layout(\n",
        "    scene=dict(\n",
        "        xaxis=dict(showgrid=True, gridcolor='black', gridwidth=3),\n",
        "        yaxis=dict(showgrid=True, gridcolor='black', gridwidth=3),\n",
        "        zaxis=dict(showgrid=True, gridcolor='black', gridwidth=3)\n",
        "    )\n",
        ")\n",
        "\n",
        "fig.show()\n"
      ],
      "metadata": {
        "colab": {
          "base_uri": "https://localhost:8080/",
          "height": 542
        },
        "id": "AnZ_9Xr6xSVV",
        "outputId": "51fdf4a6-b286-4243-93d2-81e73f1ce3e9"
      },
      "execution_count": null,
      "outputs": [
        {
          "output_type": "display_data",
          "data": {
            "text/html": [
              "<html>\n",
              "<head><meta charset=\"utf-8\" /></head>\n",
              "<body>\n",
              "    <div>            <script src=\"https://cdnjs.cloudflare.com/ajax/libs/mathjax/2.7.5/MathJax.js?config=TeX-AMS-MML_SVG\"></script><script type=\"text/javascript\">if (window.MathJax && window.MathJax.Hub && window.MathJax.Hub.Config) {window.MathJax.Hub.Config({SVG: {font: \"STIX-Web\"}});}</script>                <script type=\"text/javascript\">window.PlotlyConfig = {MathJaxConfig: 'local'};</script>\n",
              "        <script charset=\"utf-8\" src=\"https://cdn.plot.ly/plotly-2.35.2.min.js\"></script>                <div id=\"0d669881-a0f5-462d-af58-c50444b4ad09\" class=\"plotly-graph-div\" style=\"height:525px; width:100%;\"></div>            <script type=\"text/javascript\">                                    window.PLOTLYENV=window.PLOTLYENV || {};                                    if (document.getElementById(\"0d669881-a0f5-462d-af58-c50444b4ad09\")) {                    Plotly.newPlot(                        \"0d669881-a0f5-462d-af58-c50444b4ad09\",                        [{\"hovertemplate\":\"\\u003cb\\u003e%{hovertext}\\u003c\\u002fb\\u003e\\u003cbr\\u003e\\u003cbr\\u003eStudent=Vicky\\u003cbr\\u003eAge=%{x}\\u003cbr\\u003eMarks=%{marker.size}\\u003cbr\\u003eHours_Studied=%{z}\\u003cextra\\u003e\\u003c\\u002fextra\\u003e\",\"hovertext\":[\"Vicky\"],\"legendgroup\":\"Vicky\",\"marker\":{\"color\":\"#636efa\",\"size\":[85],\"sizemode\":\"area\",\"sizeref\":0.2375,\"symbol\":\"circle\"},\"mode\":\"markers\",\"name\":\"Vicky\",\"scene\":\"scene\",\"showlegend\":true,\"x\":[23],\"y\":[85],\"z\":[5],\"type\":\"scatter3d\"},{\"hovertemplate\":\"\\u003cb\\u003e%{hovertext}\\u003c\\u002fb\\u003e\\u003cbr\\u003e\\u003cbr\\u003eStudent=Riya\\u003cbr\\u003eAge=%{x}\\u003cbr\\u003eMarks=%{marker.size}\\u003cbr\\u003eHours_Studied=%{z}\\u003cextra\\u003e\\u003c\\u002fextra\\u003e\",\"hovertext\":[\"Riya\"],\"legendgroup\":\"Riya\",\"marker\":{\"color\":\"#EF553B\",\"size\":[90],\"sizemode\":\"area\",\"sizeref\":0.2375,\"symbol\":\"circle\"},\"mode\":\"markers\",\"name\":\"Riya\",\"scene\":\"scene\",\"showlegend\":true,\"x\":[21],\"y\":[90],\"z\":[6],\"type\":\"scatter3d\"},{\"hovertemplate\":\"\\u003cb\\u003e%{hovertext}\\u003c\\u002fb\\u003e\\u003cbr\\u003e\\u003cbr\\u003eStudent=Aman\\u003cbr\\u003eAge=%{x}\\u003cbr\\u003eMarks=%{marker.size}\\u003cbr\\u003eHours_Studied=%{z}\\u003cextra\\u003e\\u003c\\u002fextra\\u003e\",\"hovertext\":[\"Aman\"],\"legendgroup\":\"Aman\",\"marker\":{\"color\":\"#00cc96\",\"size\":[88],\"sizemode\":\"area\",\"sizeref\":0.2375,\"symbol\":\"circle\"},\"mode\":\"markers\",\"name\":\"Aman\",\"scene\":\"scene\",\"showlegend\":true,\"x\":[25],\"y\":[88],\"z\":[7],\"type\":\"scatter3d\"},{\"hovertemplate\":\"\\u003cb\\u003e%{hovertext}\\u003c\\u002fb\\u003e\\u003cbr\\u003e\\u003cbr\\u003eStudent=Priya\\u003cbr\\u003eAge=%{x}\\u003cbr\\u003eMarks=%{marker.size}\\u003cbr\\u003eHours_Studied=%{z}\\u003cextra\\u003e\\u003c\\u002fextra\\u003e\",\"hovertext\":[\"Priya\"],\"legendgroup\":\"Priya\",\"marker\":{\"color\":\"#ab63fa\",\"size\":[92],\"sizemode\":\"area\",\"sizeref\":0.2375,\"symbol\":\"circle\"},\"mode\":\"markers\",\"name\":\"Priya\",\"scene\":\"scene\",\"showlegend\":true,\"x\":[22],\"y\":[92],\"z\":[6],\"type\":\"scatter3d\"},{\"hovertemplate\":\"\\u003cb\\u003e%{hovertext}\\u003c\\u002fb\\u003e\\u003cbr\\u003e\\u003cbr\\u003eStudent=Kiran\\u003cbr\\u003eAge=%{x}\\u003cbr\\u003eMarks=%{marker.size}\\u003cbr\\u003eHours_Studied=%{z}\\u003cextra\\u003e\\u003c\\u002fextra\\u003e\",\"hovertext\":[\"Kiran\"],\"legendgroup\":\"Kiran\",\"marker\":{\"color\":\"#FFA15A\",\"size\":[80],\"sizemode\":\"area\",\"sizeref\":0.2375,\"symbol\":\"circle\"},\"mode\":\"markers\",\"name\":\"Kiran\",\"scene\":\"scene\",\"showlegend\":true,\"x\":[24],\"y\":[80],\"z\":[4],\"type\":\"scatter3d\"},{\"hovertemplate\":\"\\u003cb\\u003e%{hovertext}\\u003c\\u002fb\\u003e\\u003cbr\\u003e\\u003cbr\\u003eStudent=Neha\\u003cbr\\u003eAge=%{x}\\u003cbr\\u003eMarks=%{marker.size}\\u003cbr\\u003eHours_Studied=%{z}\\u003cextra\\u003e\\u003c\\u002fextra\\u003e\",\"hovertext\":[\"Neha\"],\"legendgroup\":\"Neha\",\"marker\":{\"color\":\"#19d3f3\",\"size\":[95],\"sizemode\":\"area\",\"sizeref\":0.2375,\"symbol\":\"circle\"},\"mode\":\"markers\",\"name\":\"Neha\",\"scene\":\"scene\",\"showlegend\":true,\"x\":[26],\"y\":[95],\"z\":[8],\"type\":\"scatter3d\"},{\"hovertemplate\":\"\\u003cb\\u003e%{hovertext}\\u003c\\u002fb\\u003e\\u003cbr\\u003e\\u003cbr\\u003eStudent=Rahul\\u003cbr\\u003eAge=%{x}\\u003cbr\\u003eMarks=%{marker.size}\\u003cbr\\u003eHours_Studied=%{z}\\u003cextra\\u003e\\u003c\\u002fextra\\u003e\",\"hovertext\":[\"Rahul\"],\"legendgroup\":\"Rahul\",\"marker\":{\"color\":\"#FF6692\",\"size\":[89],\"sizemode\":\"area\",\"sizeref\":0.2375,\"symbol\":\"circle\"},\"mode\":\"markers\",\"name\":\"Rahul\",\"scene\":\"scene\",\"showlegend\":true,\"x\":[23],\"y\":[89],\"z\":[7],\"type\":\"scatter3d\"},{\"hovertemplate\":\"\\u003cb\\u003e%{hovertext}\\u003c\\u002fb\\u003e\\u003cbr\\u003e\\u003cbr\\u003eStudent=Ankit\\u003cbr\\u003eAge=%{x}\\u003cbr\\u003eMarks=%{marker.size}\\u003cbr\\u003eHours_Studied=%{z}\\u003cextra\\u003e\\u003c\\u002fextra\\u003e\",\"hovertext\":[\"Ankit\"],\"legendgroup\":\"Ankit\",\"marker\":{\"color\":\"#B6E880\",\"size\":[87],\"sizemode\":\"area\",\"sizeref\":0.2375,\"symbol\":\"circle\"},\"mode\":\"markers\",\"name\":\"Ankit\",\"scene\":\"scene\",\"showlegend\":true,\"x\":[22],\"y\":[87],\"z\":[5],\"type\":\"scatter3d\"}],                        {\"template\":{\"data\":{\"histogram2dcontour\":[{\"type\":\"histogram2dcontour\",\"colorbar\":{\"outlinewidth\":0,\"ticks\":\"\"},\"colorscale\":[[0.0,\"#0d0887\"],[0.1111111111111111,\"#46039f\"],[0.2222222222222222,\"#7201a8\"],[0.3333333333333333,\"#9c179e\"],[0.4444444444444444,\"#bd3786\"],[0.5555555555555556,\"#d8576b\"],[0.6666666666666666,\"#ed7953\"],[0.7777777777777778,\"#fb9f3a\"],[0.8888888888888888,\"#fdca26\"],[1.0,\"#f0f921\"]]}],\"choropleth\":[{\"type\":\"choropleth\",\"colorbar\":{\"outlinewidth\":0,\"ticks\":\"\"}}],\"histogram2d\":[{\"type\":\"histogram2d\",\"colorbar\":{\"outlinewidth\":0,\"ticks\":\"\"},\"colorscale\":[[0.0,\"#0d0887\"],[0.1111111111111111,\"#46039f\"],[0.2222222222222222,\"#7201a8\"],[0.3333333333333333,\"#9c179e\"],[0.4444444444444444,\"#bd3786\"],[0.5555555555555556,\"#d8576b\"],[0.6666666666666666,\"#ed7953\"],[0.7777777777777778,\"#fb9f3a\"],[0.8888888888888888,\"#fdca26\"],[1.0,\"#f0f921\"]]}],\"heatmap\":[{\"type\":\"heatmap\",\"colorbar\":{\"outlinewidth\":0,\"ticks\":\"\"},\"colorscale\":[[0.0,\"#0d0887\"],[0.1111111111111111,\"#46039f\"],[0.2222222222222222,\"#7201a8\"],[0.3333333333333333,\"#9c179e\"],[0.4444444444444444,\"#bd3786\"],[0.5555555555555556,\"#d8576b\"],[0.6666666666666666,\"#ed7953\"],[0.7777777777777778,\"#fb9f3a\"],[0.8888888888888888,\"#fdca26\"],[1.0,\"#f0f921\"]]}],\"heatmapgl\":[{\"type\":\"heatmapgl\",\"colorbar\":{\"outlinewidth\":0,\"ticks\":\"\"},\"colorscale\":[[0.0,\"#0d0887\"],[0.1111111111111111,\"#46039f\"],[0.2222222222222222,\"#7201a8\"],[0.3333333333333333,\"#9c179e\"],[0.4444444444444444,\"#bd3786\"],[0.5555555555555556,\"#d8576b\"],[0.6666666666666666,\"#ed7953\"],[0.7777777777777778,\"#fb9f3a\"],[0.8888888888888888,\"#fdca26\"],[1.0,\"#f0f921\"]]}],\"contourcarpet\":[{\"type\":\"contourcarpet\",\"colorbar\":{\"outlinewidth\":0,\"ticks\":\"\"}}],\"contour\":[{\"type\":\"contour\",\"colorbar\":{\"outlinewidth\":0,\"ticks\":\"\"},\"colorscale\":[[0.0,\"#0d0887\"],[0.1111111111111111,\"#46039f\"],[0.2222222222222222,\"#7201a8\"],[0.3333333333333333,\"#9c179e\"],[0.4444444444444444,\"#bd3786\"],[0.5555555555555556,\"#d8576b\"],[0.6666666666666666,\"#ed7953\"],[0.7777777777777778,\"#fb9f3a\"],[0.8888888888888888,\"#fdca26\"],[1.0,\"#f0f921\"]]}],\"surface\":[{\"type\":\"surface\",\"colorbar\":{\"outlinewidth\":0,\"ticks\":\"\"},\"colorscale\":[[0.0,\"#0d0887\"],[0.1111111111111111,\"#46039f\"],[0.2222222222222222,\"#7201a8\"],[0.3333333333333333,\"#9c179e\"],[0.4444444444444444,\"#bd3786\"],[0.5555555555555556,\"#d8576b\"],[0.6666666666666666,\"#ed7953\"],[0.7777777777777778,\"#fb9f3a\"],[0.8888888888888888,\"#fdca26\"],[1.0,\"#f0f921\"]]}],\"mesh3d\":[{\"type\":\"mesh3d\",\"colorbar\":{\"outlinewidth\":0,\"ticks\":\"\"}}],\"scatter\":[{\"fillpattern\":{\"fillmode\":\"overlay\",\"size\":10,\"solidity\":0.2},\"type\":\"scatter\"}],\"parcoords\":[{\"type\":\"parcoords\",\"line\":{\"colorbar\":{\"outlinewidth\":0,\"ticks\":\"\"}}}],\"scatterpolargl\":[{\"type\":\"scatterpolargl\",\"marker\":{\"colorbar\":{\"outlinewidth\":0,\"ticks\":\"\"}}}],\"bar\":[{\"error_x\":{\"color\":\"#2a3f5f\"},\"error_y\":{\"color\":\"#2a3f5f\"},\"marker\":{\"line\":{\"color\":\"#E5ECF6\",\"width\":0.5},\"pattern\":{\"fillmode\":\"overlay\",\"size\":10,\"solidity\":0.2}},\"type\":\"bar\"}],\"scattergeo\":[{\"type\":\"scattergeo\",\"marker\":{\"colorbar\":{\"outlinewidth\":0,\"ticks\":\"\"}}}],\"scatterpolar\":[{\"type\":\"scatterpolar\",\"marker\":{\"colorbar\":{\"outlinewidth\":0,\"ticks\":\"\"}}}],\"histogram\":[{\"marker\":{\"pattern\":{\"fillmode\":\"overlay\",\"size\":10,\"solidity\":0.2}},\"type\":\"histogram\"}],\"scattergl\":[{\"type\":\"scattergl\",\"marker\":{\"colorbar\":{\"outlinewidth\":0,\"ticks\":\"\"}}}],\"scatter3d\":[{\"type\":\"scatter3d\",\"line\":{\"colorbar\":{\"outlinewidth\":0,\"ticks\":\"\"}},\"marker\":{\"colorbar\":{\"outlinewidth\":0,\"ticks\":\"\"}}}],\"scattermapbox\":[{\"type\":\"scattermapbox\",\"marker\":{\"colorbar\":{\"outlinewidth\":0,\"ticks\":\"\"}}}],\"scatterternary\":[{\"type\":\"scatterternary\",\"marker\":{\"colorbar\":{\"outlinewidth\":0,\"ticks\":\"\"}}}],\"scattercarpet\":[{\"type\":\"scattercarpet\",\"marker\":{\"colorbar\":{\"outlinewidth\":0,\"ticks\":\"\"}}}],\"carpet\":[{\"aaxis\":{\"endlinecolor\":\"#2a3f5f\",\"gridcolor\":\"white\",\"linecolor\":\"white\",\"minorgridcolor\":\"white\",\"startlinecolor\":\"#2a3f5f\"},\"baxis\":{\"endlinecolor\":\"#2a3f5f\",\"gridcolor\":\"white\",\"linecolor\":\"white\",\"minorgridcolor\":\"white\",\"startlinecolor\":\"#2a3f5f\"},\"type\":\"carpet\"}],\"table\":[{\"cells\":{\"fill\":{\"color\":\"#EBF0F8\"},\"line\":{\"color\":\"white\"}},\"header\":{\"fill\":{\"color\":\"#C8D4E3\"},\"line\":{\"color\":\"white\"}},\"type\":\"table\"}],\"barpolar\":[{\"marker\":{\"line\":{\"color\":\"#E5ECF6\",\"width\":0.5},\"pattern\":{\"fillmode\":\"overlay\",\"size\":10,\"solidity\":0.2}},\"type\":\"barpolar\"}],\"pie\":[{\"automargin\":true,\"type\":\"pie\"}]},\"layout\":{\"autotypenumbers\":\"strict\",\"colorway\":[\"#636efa\",\"#EF553B\",\"#00cc96\",\"#ab63fa\",\"#FFA15A\",\"#19d3f3\",\"#FF6692\",\"#B6E880\",\"#FF97FF\",\"#FECB52\"],\"font\":{\"color\":\"#2a3f5f\"},\"hovermode\":\"closest\",\"hoverlabel\":{\"align\":\"left\"},\"paper_bgcolor\":\"white\",\"plot_bgcolor\":\"#E5ECF6\",\"polar\":{\"bgcolor\":\"#E5ECF6\",\"angularaxis\":{\"gridcolor\":\"white\",\"linecolor\":\"white\",\"ticks\":\"\"},\"radialaxis\":{\"gridcolor\":\"white\",\"linecolor\":\"white\",\"ticks\":\"\"}},\"ternary\":{\"bgcolor\":\"#E5ECF6\",\"aaxis\":{\"gridcolor\":\"white\",\"linecolor\":\"white\",\"ticks\":\"\"},\"baxis\":{\"gridcolor\":\"white\",\"linecolor\":\"white\",\"ticks\":\"\"},\"caxis\":{\"gridcolor\":\"white\",\"linecolor\":\"white\",\"ticks\":\"\"}},\"coloraxis\":{\"colorbar\":{\"outlinewidth\":0,\"ticks\":\"\"}},\"colorscale\":{\"sequential\":[[0.0,\"#0d0887\"],[0.1111111111111111,\"#46039f\"],[0.2222222222222222,\"#7201a8\"],[0.3333333333333333,\"#9c179e\"],[0.4444444444444444,\"#bd3786\"],[0.5555555555555556,\"#d8576b\"],[0.6666666666666666,\"#ed7953\"],[0.7777777777777778,\"#fb9f3a\"],[0.8888888888888888,\"#fdca26\"],[1.0,\"#f0f921\"]],\"sequentialminus\":[[0.0,\"#0d0887\"],[0.1111111111111111,\"#46039f\"],[0.2222222222222222,\"#7201a8\"],[0.3333333333333333,\"#9c179e\"],[0.4444444444444444,\"#bd3786\"],[0.5555555555555556,\"#d8576b\"],[0.6666666666666666,\"#ed7953\"],[0.7777777777777778,\"#fb9f3a\"],[0.8888888888888888,\"#fdca26\"],[1.0,\"#f0f921\"]],\"diverging\":[[0,\"#8e0152\"],[0.1,\"#c51b7d\"],[0.2,\"#de77ae\"],[0.3,\"#f1b6da\"],[0.4,\"#fde0ef\"],[0.5,\"#f7f7f7\"],[0.6,\"#e6f5d0\"],[0.7,\"#b8e186\"],[0.8,\"#7fbc41\"],[0.9,\"#4d9221\"],[1,\"#276419\"]]},\"xaxis\":{\"gridcolor\":\"white\",\"linecolor\":\"white\",\"ticks\":\"\",\"title\":{\"standoff\":15},\"zerolinecolor\":\"white\",\"automargin\":true,\"zerolinewidth\":2},\"yaxis\":{\"gridcolor\":\"white\",\"linecolor\":\"white\",\"ticks\":\"\",\"title\":{\"standoff\":15},\"zerolinecolor\":\"white\",\"automargin\":true,\"zerolinewidth\":2},\"scene\":{\"xaxis\":{\"backgroundcolor\":\"#E5ECF6\",\"gridcolor\":\"white\",\"linecolor\":\"white\",\"showbackground\":true,\"ticks\":\"\",\"zerolinecolor\":\"white\",\"gridwidth\":2},\"yaxis\":{\"backgroundcolor\":\"#E5ECF6\",\"gridcolor\":\"white\",\"linecolor\":\"white\",\"showbackground\":true,\"ticks\":\"\",\"zerolinecolor\":\"white\",\"gridwidth\":2},\"zaxis\":{\"backgroundcolor\":\"#E5ECF6\",\"gridcolor\":\"white\",\"linecolor\":\"white\",\"showbackground\":true,\"ticks\":\"\",\"zerolinecolor\":\"white\",\"gridwidth\":2}},\"shapedefaults\":{\"line\":{\"color\":\"#2a3f5f\"}},\"annotationdefaults\":{\"arrowcolor\":\"#2a3f5f\",\"arrowhead\":0,\"arrowwidth\":1},\"geo\":{\"bgcolor\":\"white\",\"landcolor\":\"#E5ECF6\",\"subunitcolor\":\"white\",\"showland\":true,\"showlakes\":true,\"lakecolor\":\"white\"},\"title\":{\"x\":0.05},\"mapbox\":{\"style\":\"light\"}}},\"scene\":{\"domain\":{\"x\":[0.0,1.0],\"y\":[0.0,1.0]},\"xaxis\":{\"title\":{\"text\":\"Age\"},\"showgrid\":true,\"gridcolor\":\"black\",\"gridwidth\":3},\"yaxis\":{\"title\":{\"text\":\"Marks\"},\"showgrid\":true,\"gridcolor\":\"black\",\"gridwidth\":3},\"zaxis\":{\"title\":{\"text\":\"Hours_Studied\"},\"showgrid\":true,\"gridcolor\":\"black\",\"gridwidth\":3}},\"legend\":{\"title\":{\"text\":\"Student\"},\"tracegroupgap\":0,\"itemsizing\":\"constant\"},\"title\":{\"text\":\"3D Scatter Plot: Age vs Marks vs Hours Studied\"}},                        {\"responsive\": true}                    ).then(function(){\n",
              "                            \n",
              "var gd = document.getElementById('0d669881-a0f5-462d-af58-c50444b4ad09');\n",
              "var x = new MutationObserver(function (mutations, observer) {{\n",
              "        var display = window.getComputedStyle(gd).display;\n",
              "        if (!display || display === 'none') {{\n",
              "            console.log([gd, 'removed!']);\n",
              "            Plotly.purge(gd);\n",
              "            observer.disconnect();\n",
              "        }}\n",
              "}});\n",
              "\n",
              "// Listen for the removal of the full notebook cells\n",
              "var notebookContainer = gd.closest('#notebook-container');\n",
              "if (notebookContainer) {{\n",
              "    x.observe(notebookContainer, {childList: true});\n",
              "}}\n",
              "\n",
              "// Listen for the clearing of the current output cell\n",
              "var outputEl = gd.closest('.output');\n",
              "if (outputEl) {{\n",
              "    x.observe(outputEl, {childList: true});\n",
              "}}\n",
              "\n",
              "                        })                };                            </script>        </div>\n",
              "</body>\n",
              "</html>"
            ]
          },
          "metadata": {}
        }
      ]
    }
  ]
}