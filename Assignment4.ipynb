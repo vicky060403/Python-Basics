{
  "nbformat": 4,
  "nbformat_minor": 0,
  "metadata": {
    "colab": {
      "provenance": []
    },
    "kernelspec": {
      "name": "python3",
      "display_name": "Python 3"
    },
    "language_info": {
      "name": "python"
    }
  },
  "cells": [
    {
      "cell_type": "markdown",
      "source": [
        "1. What is Object-Oriented Programming (OOP)?\n",
        "- Object-Oriented Programming (OOP) is a programming paradigm that organizes code into objects instead of just functions and logic.\n",
        "- A class is a blueprint or template used to create objects.\n",
        "- An object is an instance of a class that binds data (attributes) and methods (functions) together.\n",
        "- OOP is widely used to solve real-world problems by breaking entities into classes and objects for better organization, reusability, and modularity.\n",
        "- Example:\n",
        "\n",
        "      class Animal:\n",
        "        def speak(self):\n",
        "          print('Animal speaks')\n",
        "\n",
        "      class Dog(Animal):\n",
        "        def speak(self):\n",
        "          print('Dog Barks!')\n",
        "\n",
        "      # Creating objects\n",
        "      d1 = Dog()\n",
        "      print(d1.speak())  # output: Dog Barks"
      ],
      "metadata": {
        "id": "qA3bbkztoRjD"
      }
    },
    {
      "cell_type": "markdown",
      "source": [
        "2.  What is a class in OOP?\n",
        "- A class in object oriented programming are the blueprint or template for creating objects.\n",
        "- It defines the attributes(data) and methods(function) so that the objects created from it, and it will have all these methods and data.\n",
        "- A class does not hold actual data itself but describes how its objects will be structured and behave.\n",
        "- Example:\n",
        "\n",
        "      class Student:\n",
        "          def __init__(self, name)\n",
        "             self.name = name\n",
        "          \n",
        "      std = Student('vicky')\n",
        "      print(std.name) # output: vicky"
      ],
      "metadata": {
        "id": "NYbWZ1AdrlCN"
      }
    },
    {
      "cell_type": "markdown",
      "source": [
        "3. What is an object in OOP?\n",
        "- An object is a real world entity or an instance of a class that contains data(attributes) and behavior(method).\n",
        "- Objects make programs modular, reusable and easier to maintain.\n",
        "- Each object has its own data even if created from the same class.\n",
        "- Objects interact with each other through methods.\n",
        "- Example:\n",
        "\n",
        "      class Vehicle:\n",
        "        def __init__(self, type, company, model, price)\n",
        "          self.type = type\n",
        "          self.company = company\n",
        "          self.model = model\n",
        "          self.price = price\n",
        "\n",
        "        def info(self):\n",
        "          return f\"Vehical Type: {self.type}\\nCompany: {self.company}\\nModel: {self.model}\\nPrice: {self.price}\"\n",
        "        \n",
        "      obj1 = Vehicle('Car','BMW','Supercar', 4000000)\n",
        "      obj2 = Vehicle('Truck','Volvo','Hydrolic', 40000000)\n",
        "      print(obj1.info())\n",
        "      print(obj2.info())\n"
      ],
      "metadata": {
        "id": "KzAVTxu6rmXg"
      }
    },
    {
      "cell_type": "markdown",
      "source": [
        "4. What is the difference between abstraction and encapsulation?\n",
        "- Abstraction:\n",
        "  - It means hiding complex details and showing only essential features to the users.\n",
        "  - It purpose is to focus on what an object does, rather than how it does it.\n",
        "  - It is achieved by abstract class , interfaces or functions.\n",
        "  - Example:\n",
        "\n",
        "        from abc import ABC, abstractmethod\n",
        "\n",
        "        class Vehicle(ABC):\n",
        "          @abstractmethod\n",
        "          def start_engine(self):\n",
        "            pass\n",
        "          \n",
        "        class Car(Vehicle):\n",
        "          def start_engine(self):\n",
        "            print('Car engine started')\n",
        "\n",
        "        v = Car()\n",
        "        v.start_engine() # output: Car engine started\n",
        "\n",
        "- Encapsulation:\n",
        "  - It is wrapping data(attributes) and method(functions) that work on that data into a single unit called class.\n",
        "  - It also restricts direct access to some components, by using access modifiers like private, protected, public.\n",
        "  - It purpose is to protect the data from being modified directly and to maintain control over how data is accessed or changed.\n",
        "  - Example:\n",
        "\n",
        "        class BankAccount:\n",
        "          def __init__(self, name, balance):\n",
        "            self.name = name\n",
        "            self.__balance = balance # private\n",
        "          \n",
        "          def deposit(self, amt):\n",
        "            self.__balance += amt\n",
        "\n",
        "          def get_balance(Self):\n",
        "            return self.__balance\n",
        "\n",
        "        acct = BankAccount('Vicky Pandey', 3500)\n",
        "        acct.deposit(2000)\n",
        "        print(acct.get_balance()) # output: 5500\n",
        "\n"
      ],
      "metadata": {
        "id": "OVBFEfNtrmUB"
      }
    },
    {
      "cell_type": "markdown",
      "source": [
        "5. What are dunder methods in Python?\n",
        "- Dunder Method:\n",
        "  - Dunder/special/magic methods are the methods defined by the built-in classes in python.\n",
        "  - It is built in methods in python that have double underscore before and after their names like __init__, __add__, __str__ etc.\n",
        "  - Classes defines this types of methods for creating custom objects.\n",
        "  - It implementing operator overloading in python.\n",
        "  - They are automatically invoked by Python when you perform certain operations on objects — you don’t call them directly most of the time.\n",
        "  - Example:\n",
        "\n",
        "        class Book:\n",
        "          def __init__(self, title, pages):\n",
        "              self.title = title\n",
        "              self.pages = pages\n",
        "\n",
        "          def __str__(self):\n",
        "              return f\"{self.title} ({self.pages} pages)\"\n",
        "\n",
        "          def __len__(self):\n",
        "              return self.pages\n",
        "\n",
        "          def __add__(self, other):\n",
        "              return self.pages + other.pages\n",
        "\n",
        "        b1 = Book(\"Python Basics\", 200)\n",
        "        b2 = Book(\"OOP Concepts\", 150)\n",
        "\n",
        "        print(b1)          # __str__ -> Python Basics (200 pages)\n",
        "        print(len(b1))     # __len__ -> 200\n",
        "        print(b1 + b2)     # __add__ -> 350\n"
      ],
      "metadata": {
        "id": "QDfBxXBirmRE"
      }
    },
    {
      "cell_type": "markdown",
      "source": [
        "6. Explain the concept of inheritance in OOP?\n",
        "- Inheritance is an OOP concept that allow one class(called the child class or sub class) to inherits the properties and behaviors of another class(called the parent class or super class).\n",
        "- It permotes code reusability, modularity and hierarchical relationship between classes.\n",
        "- Types of inheritance:\n",
        "  - single inheritance: One child inherits from one parent.\n",
        "  - multiple inheritance: one child inherits from multiple parents.\n",
        "  - multi-level inheritance: inheritance chain like A -> B -> C\n",
        "  - hierarchical inheritance: multiple children inherits from same parents\n",
        "  - Hybrid inheritance: Combination of multiple inheritance type.\n",
        "\n",
        "- Example:\n",
        "\n",
        "      class Animal:\n",
        "        def speak(self):\n",
        "          print('Animal speaks!')\n",
        "\n",
        "      class Dog(Animal): # Dog class inherits from Animal class\n",
        "        def speak(self):\n",
        "          print('Dog Barks')\n",
        "        \n",
        "      d = Dog()\n",
        "      print(d.speak()) # output: Dog barks\n"
      ],
      "metadata": {
        "id": "VjACT3IHrmOE"
      }
    },
    {
      "cell_type": "markdown",
      "source": [
        "7. What is polymorphism in OOP?\n",
        "- Polymorphism in OOP means many forms(refers to an object taking several forms depending on the methods or data.)\n",
        "- It allows the same function, method or operator to behaves differently based on the object or data type it is acting upon.\n",
        "- Polymorphism in OOP takes place in two ways:\n",
        "  - method overriding\n",
        "  - method overloading(python doesn't support true method oveloading)\n",
        "- Example:\n",
        "\n",
        "      def add(a, b):\n",
        "        return a + b\n",
        "      # polymorphism in function\n",
        "      print(f\"ADD two nos. : {add(2, 5)}\") # 7\n",
        "      print(f'Combing two string: {add(hello, world)}') # output: helloworld\n",
        "      # Here add() function behave differntly based on input data you gives\n",
        "\n",
        "      # Polymorphism in classes\n",
        "      class Animal:\n",
        "          def sound(self):\n",
        "              return \"Some generic sound\"\n",
        "\n",
        "      class Dog(Animal):\n",
        "          def sound(self):\n",
        "              return \"Bark\"\n",
        "\n",
        "      class Cat(Animal):\n",
        "          def sound(self):\n",
        "              return \"Meow\"\n",
        "\n",
        "      animals = [Animal(), Dog(), Cat()]\n",
        "      for a in animals:\n",
        "          print(a.sound())\n",
        "      # output: Some generic sound\\nBark\\nMeow\n"
      ],
      "metadata": {
        "id": "DKoBoBW6rmLO"
      }
    },
    {
      "cell_type": "markdown",
      "source": [
        "8. How is encapsulation achieved in Python?\n",
        "- Encapsulation is implemented using access modifiers (like private, public, protected) which defines how class attributes and methods can be accessed.\n",
        "- It helps in data hiding and protects the internal state of an object from accidental or unauthorized modification.\n",
        "- Public member: It is accessible from anywhere(inside or outside the class).And it is defined normally(no underscore)\n",
        "- Protected member: It is defined with single underscore(_name like this). Should not be accessed directly (by convention), but can be accessed if needed. Intended to be used only within the class and its subclasses.\n",
        "- Private member: Defined with double underscore(__balance like this). Cannot be accessed directly from outside the class. Only accessible through methods inside the class.\n",
        "\n",
        "- Example:\n",
        "\n",
        "      class Bank:\n",
        "        def __init__(self, name, acoount_no, balance):\n",
        "            self.name = name # public member\n",
        "            self._account_no = account_no  # protected member\n",
        "            self.__balance = balance # private member\n",
        "        \n",
        "        def deposit(self, amt):\n",
        "          self.__balance += amt\n",
        "        \n",
        "        def info(self):\n",
        "           return f\"Account Holder: {self.name}\\nAccount No. : {self._account_no}\\nAvailble Balance: {self.__balance}\"\n",
        "      \n",
        "      A = Bank('vicky', 102, 30000)\n",
        "      print(A.info())"
      ],
      "metadata": {
        "id": "nNWEWUfOrmIf"
      }
    },
    {
      "cell_type": "markdown",
      "source": [
        "9. What is a constructor in Python?\n",
        "- A constructor in Python is a special method that automatically runs when an object is created from a class.\n",
        "- It’s mainly used to initialize the object’s attributes (i.e., set up initial values of class variables).\n",
        "- The constructor method is defined using the special __init__() dunder method.\n",
        "- Example:\n",
        "\n",
        "      class Student:\n",
        "        # Constructor\n",
        "        def __init__(self, name, roll):\n",
        "            self.name = name      # instance variable\n",
        "            self.roll = roll\n",
        "\n",
        "        def show(self):\n",
        "            print(f\"Name: {self.name}, Roll: {self.roll}\")\n",
        "\n",
        "      # Creating an object (constructor is called automatically)\n",
        "      s1 = Student(\"Vicky\", 101)\n",
        "      s1.show()\n"
      ],
      "metadata": {
        "id": "eRM5JjN_rl-A"
      }
    },
    {
      "cell_type": "markdown",
      "source": [
        "10. What are class and static methods in Python?\n",
        "- class method:\n",
        "  - A class method is method that works on the class itself, not on specific instance(object)\n",
        "  - It can access and modify class variable not instance variables.\n",
        "  - The first parameter is always cls(represents the class itself).\n",
        "  - To make method class method then we need to use @classmethod decorator.\n",
        "  - Example:\n",
        "\n",
        "        class Student:\n",
        "          school_name = \"ABC School\"   # Class variable\n",
        "          def __init__(self, name):\n",
        "              self.name = name         # Instance variable\n",
        "          @classmethod\n",
        "          def change_school(cls, new_name):\n",
        "              cls.school_name = new_name\n",
        "\n",
        "        # Accessing and modifying class variable through class method\n",
        "        Student.change_school(\"XYZ School\")\n",
        "\n",
        "- static method:\n",
        "  - A static method is a method that does not depend on either the class (cls) or instance (self).\n",
        "  - It behaves like a normal function, but belongs to the class’s namespace.\n",
        "  - There is no cls or self as a first parameter\n",
        "  - To make method static method then we need to use @staticmethod decorator.\n",
        "  - Example:\n",
        "\n",
        "        class Maths:\n",
        "          @staticmethod\n",
        "          def add(a, b):\n",
        "            return a + b\n",
        "          @staticmethod\n",
        "          def multiply(a, b):\n",
        "            return a * b\n",
        "          \n",
        "        Maths.add(2, 3) # output: 5\n",
        "        Maths.multiply(2, 4)  # output: 8\n",
        "        \n"
      ],
      "metadata": {
        "id": "zzhIu-zRrlxY"
      }
    },
    {
      "cell_type": "markdown",
      "source": [
        "11. What is method overloading in Python?\n",
        "- Method Overloading means defining multiple methods with the same name but different parameters (like different number or type of arguments) within same class.\n",
        "- Pyhton does not support true method overloading.\n",
        "- Method overloading is achieved by using default parameter and using variable length arguments(*args).\n",
        "- If you define multiple methods with the same name in a class, the last one defined will overwrite the previous ones.\n",
        "- Example:\n",
        "\n",
        "      class Example:\n",
        "        def greet(self, name=None):\n",
        "            if name is not None:\n",
        "                print(f\"Hello, {name}!\")\n",
        "            else:\n",
        "                print(\"Hello!\")\n",
        "\n",
        "      obj = Example()\n",
        "      obj.greet()          # Output: Hello!\n",
        "      obj.greet(\"Vicky\")   # Output: Hello, Vicky!\n",
        "\n",
        "      class Maths:\n",
        "        def add(self, *args):\n",
        "          return sum(args)\n",
        "      \n",
        "      obj = Maths()\n",
        "      print(obj.add(2, 3, 4)) # 9\n",
        "      print(obj.add(1, 4, 5, 7)) # 17\n"
      ],
      "metadata": {
        "id": "NBOs3Wngl43Y"
      }
    },
    {
      "cell_type": "markdown",
      "source": [
        "12. What is method overriding in OOP?\n",
        "- Method Overriding is when a subclass redefines a method from its parent class with the same name and parameters, to change or extend its behavior.\n",
        "- The method call depends on the object type at runtime-This is called runtime polymorphism.\n",
        "- Example:\n",
        "\n",
        "      class Payment:\n",
        "          def process(self):\n",
        "              print(\"Processing generic payment\")\n",
        "\n",
        "      class CreditCardPayment(Payment):\n",
        "          def process(self):\n",
        "              print(\"Processing credit card payment\")\n",
        "\n",
        "      class SBIPayment(Payment):\n",
        "          def process(self):\n",
        "              print(\"Processing SBI payment\")\n",
        "\n",
        "      for payment in [CreditCardPayment(), SBIPayment()]:\n",
        "          payment.process()\n"
      ],
      "metadata": {
        "id": "_rAuyu6hrREA"
      }
    },
    {
      "cell_type": "markdown",
      "source": [
        "13. What is a property decorator in Python?\n",
        "- Property decorator in python let you allow to use class method as attribute.\n",
        "- It’s mainly used for encapsulation — hiding and protecting data inside a class.\n",
        "- There are three types of property decorators:\n",
        "  - @property (getter method): Used to get (read) the value of a private or protected variable.\n",
        "  - @<property_name>.setter : Used to set or modify the value of that property safely.\n",
        "  - @<property_name>.deleter: Used to delete an attribute safely.\n",
        "\n",
        "- Example:\n",
        "\n",
        "      class Student:\n",
        "        def __init__(self, name, balance):\n",
        "          self.name = name\n",
        "          self._balance = balance\n",
        "\n",
        "        @property # getter\n",
        "        def info(self):\n",
        "          return f'Name: {self.name}\\nBalance: {self._balance}'\n",
        "\n",
        "        @info.setter\n",
        "        def info(self, amount):\n",
        "          self._balance += amount\n",
        "\n",
        "        @info.deleter\n",
        "        def info(self):\n",
        "          print('deleting info...')\n",
        "          del self._balance\n",
        "        \n",
        "      s = Student('vicky', 30000)\n",
        "      print(s.info) # Name: vicky Balance: 30000\n",
        "      s.info = 10000\n",
        "      print(s.info) # Name: vicky Balance: 40000\n"
      ],
      "metadata": {
        "id": "xZy5ezsHvL0z"
      }
    },
    {
      "cell_type": "markdown",
      "source": [
        "14. Why is polymorphism important in OOP?\n",
        "- Polymorphism is important in object oriented programming(OOP) because it make code more flexible, reusable and easier to maintain.\n",
        "- It allows subclasses to override parent methods (method overriding). So, each subclass can have its own version of a behavior.\n",
        "- You can use the same function name for different types of objects.\n",
        "No need to write separate code for each class."
      ],
      "metadata": {
        "id": "IwwRQy6AzD87"
      }
    },
    {
      "cell_type": "markdown",
      "source": [
        "15. What is an abstract class in Python?\n",
        "- An abstract class is a class that cannot be instantiated directly. It is used to define a common structure for its subclasses — but leaves some methods to be implemented by those subclasses.\n",
        "- Python provides the abc (Abstract Base Class) module from which we can import abstractmethod.\n",
        "- Example:\n",
        "\n",
        "      from abc import ABC, abstractmethod\n",
        "      \n",
        "      class Animal(ABC):      # Abstract class\n",
        "          @abstractmethod\n",
        "          def sound(self):\n",
        "              pass             # No implementation here\n",
        "\n",
        "      class Dog(Animal):      # Subclass\n",
        "          def sound(self):\n",
        "              print(\"Woof!\")\n",
        "\n",
        "      class Cat(Animal):      # Subclass\n",
        "          def sound(self):\n",
        "              print(\"Meow!\")\n"
      ],
      "metadata": {
        "id": "hv_hG8ty0gyc"
      }
    },
    {
      "cell_type": "markdown",
      "source": [
        "16. What are the advantages of OOP?\n",
        "- Advantages of OOP:\n",
        "  - Modularity: Complex systems are broken down into smaller, self-contained objects and modules, making them easier to develop, test, and troubleshoot.\n",
        "  - Code Reusability: Inheritance allows new classes to reuse code from existing ones, reducing redundancy and development time.\n",
        "  - Flexibility: Polymorphism enables a single function to adapt to different objects, providing adaptable solutions and making code more flexible.\n",
        "  - Maintainability: Modular design and encapsulation make it easier to update and maintain individual parts of a system without affecting unrelated components.\n",
        "  - Scalability: OOP's modular structure makes it easier to scale programs to handle increasing data or workload.\n",
        "  - Encapsulation: Keeps data safe from direct modification by using private variables and getter/setter methods. Helps to maintain data integrity.\n",
        "  - Abstraction: Hides complex components and shows only the necessary details to the user. Makes the program easier to understand and maintain.\n",
        "  "
      ],
      "metadata": {
        "id": "M4cOpycBC5xs"
      }
    },
    {
      "cell_type": "markdown",
      "source": [
        "17. What is the difference between a class variable and an instance variable?\n",
        "- Class Variable:\n",
        "  - A class variable is defined inside the class but outside any methods.\n",
        "  - A class variables is shared by all objects of the class.\n",
        "  - Changing it affects all instances of the class.\n",
        "\n",
        "- Instance Variable:\n",
        "  - An instance variable belongs to specific object.\n",
        "  - It is defined inside the constructor __init__ using self.\n",
        "  - Each object cab have different values.\n",
        "\n",
        "- Example:\n",
        "\n",
        "      class Student:\n",
        "        school_name = \"ABC School\"   # class variable\n",
        "          \n",
        "        def __init__(self, name):\n",
        "            self.name = name         # instance variable\n",
        "\n",
        "      s1 = Student(\"Vicky\")\n",
        "      s2 = Student(\"Ravi\")\n",
        "      \n",
        "      print(s1.school_name)   # ABC School\n",
        "      print(s2.school_name)   # ABC School\n",
        "      \n",
        "      Student.school_name = \"XYZ School\"  # change class variable\n",
        "      print(s1.school_name)   # XYZ School\n",
        "      print(s2.school_name)   # XYZ School"
      ],
      "metadata": {
        "id": "3We2HIEuE05v"
      }
    },
    {
      "cell_type": "markdown",
      "source": [
        "18.  What is multiple inheritance in Python?\n",
        "- Multiple inheritance means a class can inherits attributes and behaviors from more than one parent class at the same time.\n",
        "- If both parent classes have the same method name, Python follows the Method Resolution Order (MRO) — that means it calls the method from the first parent listed in the child class.\n",
        "- Example:\n",
        "\n",
        "      class Father:\n",
        "          def skills(self):\n",
        "              print(\"Cooking and Driving\")\n",
        "\n",
        "      class Mother:\n",
        "          def hobbies(self):\n",
        "              print(\"Singing and Dancing\")\n",
        "\n",
        "      class Child(Father, Mother):\n",
        "          def talents(self):\n",
        "              print(\"Coding and Painting\")\n",
        "\n",
        "      # Create object of Child\n",
        "      obj = Child()\n",
        "      obj.skills()    # From Father\n",
        "      obj.hobbies()   # From Mother\n",
        "      obj.talents()   # From Child\n"
      ],
      "metadata": {
        "id": "98I68pxtIn5l"
      }
    },
    {
      "cell_type": "markdown",
      "source": [
        "19. Explain the purpose of ‘__str__’ and ‘__repr__’ methods in Python?\n",
        "- __str__(self):\n",
        "  - Purpose: Provides a user-friendly, informal, and readable string representation of an object. This representation is intended for the end-user of the program.\n",
        "  - When it's called: Implicitly when you use functions like print(), str(), or when an object is included in an f-string.\n",
        "\n",
        "- __repr__(self):\n",
        "  - Purpose: Provides a more formal, unambiguous, and information-rich string representation of an object. This representation is primarily intended for developers for debugging and introspection.\n",
        "  - When it's called: Implicitly when an object is evaluated in the Python REPL (interactive shell), or explicitly when you use the repr() function. If __str__ is not defined for a class, __repr__ will be used as a fallback for user-facing string conversions.\n",
        "\n",
        "- Example:\n",
        "\n",
        "      class Student:\n",
        "        def __init__(self, name, age):\n",
        "            self.name = name\n",
        "            self.age = age\n",
        "\n",
        "        def __str__(self):\n",
        "            return f\"{self.name}, Age: {self.age}\"\n",
        "\n",
        "        def __repr__(self):\n",
        "            return f\"Student('{self.name}', {self.age})\"\n",
        "\n",
        "      s = Student(\"Vicky\", 21)\n",
        "      print(s)      # Calls __str__ : Vicky, Age: 21\n",
        "      s             # Calls __repr__ in interactive shell : Student('Vicky', 21)\n"
      ],
      "metadata": {
        "id": "PYvBKYxKKcxR"
      }
    },
    {
      "cell_type": "markdown",
      "source": [
        "20. What is the significance of the ‘super()’ function in Python?\n",
        "- The super() function is used to call methods from a parent class inside a child(sub class) class.\n",
        "- It is mainly used in inheritance to\n",
        "  - Access parent class method or attributes\n",
        "  - Avoid explicitly naming the parent class (makes code cleaner)\n",
        "  - Support multiple inheritance safely\n",
        "- super() follows Method Resolution Order (MRO), so it works correctly even with multiple inheritance.\n",
        "- Example:\n",
        "\n",
        "      class Animal:\n",
        "          def speak(self):\n",
        "              print(\"Animal makes a sound\")\n",
        "      \n",
        "      class Dog(Animal):\n",
        "          def speak(self):\n",
        "              super().speak()  # Call parent method\n",
        "              print(\"Dog barks\")\n",
        "      \n",
        "      d = Dog()\n",
        "      d.speak()\n",
        "\n"
      ],
      "metadata": {
        "id": "-MxETmwsNjrq"
      }
    },
    {
      "cell_type": "markdown",
      "source": [
        "21. What is the significance of the __del__ method in Python?\n",
        "- Significance of the __del__ method:\n",
        "  - It is a destructer in python.\n",
        "  - It is automatically called when an object is about to be deleted or destroyed — usually when it goes out of scope or the program ends.\n",
        "  - Purpose: It is used to clean-up resources(likes closing files, database connection or releasing memory). It works opposites to __init__.\n",
        "  - Example:\n",
        "\n",
        "        class Student:\n",
        "          def __init__(self, name):\n",
        "              self.name = name\n",
        "              print(f\"{self.name} created\")\n",
        "\n",
        "          def __del__(self):\n",
        "              print(f\"{self.name} destroyed\")\n",
        "\n",
        "        s = Student(\"Vicky\")\n",
        "        del s   # manually delete the object\n"
      ],
      "metadata": {
        "id": "cnwbDSmnNjdJ"
      }
    },
    {
      "cell_type": "markdown",
      "source": [
        "22. What is the difference between @staticmethod and @classmethod in Python?\n",
        "- @staticmethod:\n",
        "  - A @staticmethod is a method that does not depend on either the class (cls) or the instance (self).\n",
        "  - It behaves like a regular function, but it belongs to the class’s namespace for better organization.\n",
        "  - It does not take cls or self as the first parameter.\n",
        "  - The @staticmethod decorator is used to define a static method inside a class.\n",
        "\n",
        "- @classmethod:\n",
        "  - A @classmethod is a method that works on the class itself, not on a specific instance (object).\n",
        "  - It can access and modify class variables, but cannot access instance variables.\n",
        "  - The first parameter is always cls, which represents the class itself.\n",
        "  - The @classmethod decorator is used to define a class method inside a class.\n",
        "\n",
        "- Example:\n",
        "\n",
        "      class Student:\n",
        "          school_name = 'Kendriya Vidyalaya Danapur Cantt'\n",
        "          def __init__(self, name, marks):\n",
        "              self.name = name\n",
        "              self.marks = marks\n",
        "          \n",
        "          @classmethod\n",
        "          def change_school(cls, new_school):\n",
        "              cls.school_name = new_school\n",
        "              \n",
        "          @staticmethod\n",
        "          def is_passed(marks):\n",
        "              if marks > 30:\n",
        "                  return 'Passed'\n",
        "              else:\n",
        "                  return 'Failed'\n",
        "          \n",
        "          def info(self):\n",
        "              return f'Name: {self.name}\\nMarks: {self.marks}\\nSchool: {self.school_name}'\n",
        "                  \n",
        "      s1 = Student('vicky', 90)\n",
        "      s2 = Student('utkarsh', 35)\n",
        "      s3 = Student('himanshu', 25)\n",
        "      print(s1.info())\n",
        "      print(s1.info())\n",
        "      print(s1.info())\n",
        "      print(s2.change_school('Delhi Public School Kanpur'))\n",
        "\n",
        "\n"
      ],
      "metadata": {
        "id": "CDfjKG5VbWrC"
      }
    },
    {
      "cell_type": "markdown",
      "source": [
        "23. How does polymorphism work in Python with inheritance?\n",
        "- Polymorphism with inheritance allows child classes to override parent methods with the same name, so that the same function call can behave differently for different objects.\n",
        "- How it works in Python:\n",
        "  - A base class defines a method.\n",
        "  - A derived (child) class defines the same method name, but with a different implementation.\n",
        "  - When you call that method on an object, Python automatically decides which version (parent’s or child’s) to run — based on the object type.\n",
        "\n",
        "- Example:\n",
        "\n",
        "      class Animal: # parent class\n",
        "          def sound(self):\n",
        "              return \"Some generic sound\"\n",
        "\n",
        "      class Dog(Animal):  # Dog inherits Animal\n",
        "          def sound(self):\n",
        "              return \"Bark\"\n",
        "\n",
        "      class Cat(Animal):  # Cat inherits Animal\n",
        "          def sound(self):\n",
        "              return \"Meow\"\n",
        "\n",
        "      # Polymorphism in action\n",
        "      animals = [Dog(), Cat(), Animal()]\n",
        "\n",
        "      for a in animals:\n",
        "          print(f\"Make a sound: {a.sound()}\")\n"
      ],
      "metadata": {
        "id": "QPdcqR7rFXgl"
      }
    },
    {
      "cell_type": "markdown",
      "source": [
        "24. What is method chaining in Python OOP?\n",
        "- Method Chaining means calling multiple methods on the same object in a single line — one after another.\n",
        "- Each method returns the same object (usually self), allowing the next method to be called immediately.\n",
        "- Example:\n",
        "\n",
        "      class Student:\n",
        "          def __init__(self, name):\n",
        "              self.name = name\n",
        "              self.marks = 0\n",
        "      \n",
        "          def add_marks(self, marks):\n",
        "              self.marks += marks\n",
        "              return self     # return self for chaining\n",
        "      \n",
        "          def show(self):\n",
        "              print(f\"Name: {self.name}, Marks: {self.marks}\")\n",
        "              return self     # optional, for further chaining\n",
        "      \n",
        "      # Method chaining\n",
        "      s1 = Student(\"Vicky\")\n",
        "      s1.add_marks(10).add_marks(20).show()\n"
      ],
      "metadata": {
        "id": "PgxXY7jxHJrg"
      }
    },
    {
      "cell_type": "markdown",
      "source": [
        "25. What is the purpose of the __call__ method in Python?\n",
        "- The __call__ method allows an object to be called like a function.\n",
        "- When you define __call__() inside a class, you can use the object itself as if it were a function.\n",
        "- Example:\n",
        "\n",
        "      class Counter:\n",
        "          def __init__(self):\n",
        "              self.count = 0\n",
        "          \n",
        "          def __call__(self):\n",
        "              self.count += 1\n",
        "              print(f\"Count: {self.count}\")\n",
        "              \n",
        "      c = Counter()\n",
        "      c()  # Count : 1\n",
        "      c()  # Count : 2\n",
        "      c()  # Count : 3"
      ],
      "metadata": {
        "id": "EaymB9GpLfzi"
      }
    },
    {
      "cell_type": "markdown",
      "source": [
        "# Practical Questions"
      ],
      "metadata": {
        "id": "I6ZgGSoIPtDm"
      }
    },
    {
      "cell_type": "code",
      "source": [
        "# 1. Create a parent class Animal with a method speak() that prints a generic message. Create a child class Dog that overrides the speak() method to print \"Bark!\".\n",
        "class Animal:\n",
        "  def speak(self):\n",
        "    print(\"Some generic sound\")\n",
        "\n",
        "class Dog(Animal):\n",
        "  def speak(self):\n",
        "    print('Bark!')\n",
        "\n",
        "d = Dog()\n",
        "d.speak()\n"
      ],
      "metadata": {
        "colab": {
          "base_uri": "https://localhost:8080/"
        },
        "id": "6lXMLUG5Prcr",
        "outputId": "8234e942-d5a0-420e-d061-6c24dcab7fae"
      },
      "execution_count": null,
      "outputs": [
        {
          "output_type": "stream",
          "name": "stdout",
          "text": [
            "Bark!\n"
          ]
        }
      ]
    },
    {
      "cell_type": "code",
      "source": [
        "# 2. Write a program to create an abstract class Shape with a method area(). Derive classes Circle and Rectangle from it and implement the area() method in both.\n",
        "from abc import ABC, abstractmethod\n",
        "\n",
        "class Shape(ABC):\n",
        "  @abstractmethod\n",
        "  def area(self):\n",
        "    pass\n",
        "\n",
        "class Circle(Shape):\n",
        "  def __init__(self, radius):\n",
        "    self.radius = radius\n",
        "\n",
        "  def area(self):\n",
        "    return 3.14 * self.radius ** 2\n",
        "\n",
        "class Rectangle(Shape):\n",
        "  def __init__(self, len, breth):\n",
        "    self.len = len\n",
        "    self.breth = breth\n",
        "\n",
        "  def area(self):\n",
        "    return self.len * self.breth\n",
        "\n",
        "c = Circle(10)\n",
        "r = Rectangle(4, 5)\n",
        "print('Area of circle: ', c.area())\n",
        "print(\"Area of Rectangle: \", r.area())"
      ],
      "metadata": {
        "colab": {
          "base_uri": "https://localhost:8080/"
        },
        "id": "XGEiA5dgEsAS",
        "outputId": "d01fbc12-c9d7-4068-f2eb-ea099a429ce5"
      },
      "execution_count": null,
      "outputs": [
        {
          "output_type": "stream",
          "name": "stdout",
          "text": [
            "Area of circle:  314.0\n",
            "Area of Rectangle:  20\n"
          ]
        }
      ]
    },
    {
      "cell_type": "code",
      "source": [
        "# 3. Implement a multi-level inheritance scenario where a class Vehicle has an attribute type. Derive a class Car and further derive a class ElectricCar that adds a battery attribute.\n",
        "\n",
        "class Vehicle:\n",
        "  def __init__(self, type):\n",
        "    self.type = type\n",
        "\n",
        "  def info(self):\n",
        "    print(f'Vehicle Type: {self.type}')\n",
        "\n",
        "class Car(Vehicle):\n",
        "  def __init__(self, type, model):\n",
        "    super().__init__(type)\n",
        "    self.model = model\n",
        "\n",
        "  def car_info(self):\n",
        "    print(f\"Vehicle Type: {self.type}\\nVehicle Model: {self.model}\")\n",
        "\n",
        "class ElectricCar(Car):\n",
        "  def __init__(self, type, model, battery):\n",
        "    super().__init__(type, model)\n",
        "    self.battery = battery\n",
        "\n",
        "  def elc_info(self):\n",
        "    print(f\"Vehicle Type:{self.type}\\nModel: {self.model}\\nBatery Capacity: {self.battery}\")\n",
        "\n",
        "c = Car('Car', 'Toyota')\n",
        "c.car_info()\n",
        "\n",
        "e = ElectricCar('Electric', 'Tesla', '100 kWh')\n",
        "e.elc_info()\n",
        "\n"
      ],
      "metadata": {
        "colab": {
          "base_uri": "https://localhost:8080/"
        },
        "id": "UDi-BbEUG3EM",
        "outputId": "2be1becb-4dc8-4ba5-ba4d-2913164da4c4"
      },
      "execution_count": null,
      "outputs": [
        {
          "output_type": "stream",
          "name": "stdout",
          "text": [
            "Vehicle Type: Car\n",
            "Vehicle Model: Toyota\n",
            "Vehicle Type:Electric\n",
            "Model: Tesla\n",
            "Batery Capacity: 100 kWh\n"
          ]
        }
      ]
    },
    {
      "cell_type": "code",
      "source": [
        "# 4. Demonstrate polymorphism by creating a base class Bird with a method fly(). Create two derived classes Sparrow and Penguin that override the fly() method.\n",
        "\n",
        "class Bird:\n",
        "  def fly(self):\n",
        "    print('Birds can fly')\n",
        "\n",
        "class Sparrow(Bird):\n",
        "  def fly(self):\n",
        "    print('Sparrows can fly')\n",
        "\n",
        "class Penguin(Bird):\n",
        "  def fly(self):\n",
        "    print('Penguins cannot fly')\n",
        "\n",
        "s = Sparrow()\n",
        "p = Penguin()\n",
        "s.fly()\n",
        "p.fly()"
      ],
      "metadata": {
        "colab": {
          "base_uri": "https://localhost:8080/"
        },
        "id": "OFk_H76nJVPz",
        "outputId": "5e810535-008a-4c53-9393-5875b3a755e9"
      },
      "execution_count": null,
      "outputs": [
        {
          "output_type": "stream",
          "name": "stdout",
          "text": [
            "Sparrows can fly\n",
            "Penguins cannot fly\n"
          ]
        }
      ]
    },
    {
      "cell_type": "code",
      "source": [
        "# 5. Write a program to demonstrate encapsulation by creating a class BankAccount with private attributes balance and methods to deposit, withdraw, and check balance.\n",
        "\n",
        "class BankAccount:\n",
        "  def __init__(self, name, balance):\n",
        "    self.name = name\n",
        "    self.__balance = balance\n",
        "\n",
        "  def deposit(self, amt):\n",
        "    self.__balance += amt\n",
        "\n",
        "  def withdraw(self, amt):\n",
        "    if amt <= self.__balance:\n",
        "      self.__balance -= amt\n",
        "      print(f'{amt} is deducted from your Account.')\n",
        "    else:\n",
        "      print('Insufficent Balance!')\n",
        "\n",
        "  def check_balance(self):\n",
        "    print(f\"Availble Balance: {self.__balance}\")\n",
        "\n",
        "abc = BankAccount('Vicky', 10000)\n",
        "abc.deposit(5000)\n",
        "abc.withdraw(2000)\n",
        "abc.check_balance()"
      ],
      "metadata": {
        "colab": {
          "base_uri": "https://localhost:8080/"
        },
        "id": "uoosBLLOLC1N",
        "outputId": "75807f0c-943b-4eb3-f112-e7d06094b747"
      },
      "execution_count": null,
      "outputs": [
        {
          "output_type": "stream",
          "name": "stdout",
          "text": [
            "2000 is deducted from your Account.\n",
            "Availble Balance: 13000\n"
          ]
        }
      ]
    },
    {
      "cell_type": "code",
      "source": [
        "# 6. Demonstrate runtime polymorphism using a method play() in a base class Instrument. Derive classes Guitar and Piano that implement their own version of play().\n",
        "\n",
        "class Instrument:\n",
        "  def play(self):\n",
        "    print('Playing An Instrument...')\n",
        "\n",
        "class Guitar(Instrument):\n",
        "  def play(self):\n",
        "    print('Playing the Guitar')\n",
        "\n",
        "class Piano(Instrument):\n",
        "  def play(self):\n",
        "    print('Playing the Piano')\n",
        "\n",
        "instruments = [Guitar(), Piano(), Instrument()]\n",
        "\n",
        "for inst in instruments:\n",
        "  inst.play()"
      ],
      "metadata": {
        "colab": {
          "base_uri": "https://localhost:8080/"
        },
        "id": "0BCErGywMtH1",
        "outputId": "6194114c-08d1-4878-fa11-6caaed8787f5"
      },
      "execution_count": null,
      "outputs": [
        {
          "output_type": "stream",
          "name": "stdout",
          "text": [
            "Playing the Guitar\n",
            "Playing the Piano\n",
            "Playing An Instrument...\n"
          ]
        }
      ]
    },
    {
      "cell_type": "code",
      "source": [
        "# 7. Create a class MathOperations with a class method add_numbers() to add two numbers and a static method subtract_numbers() to subtract two numbers.\n",
        "\n",
        "class MathOperations:\n",
        "  @classmethod\n",
        "  def add_numbers(cls, a, b):\n",
        "    return a + b\n",
        "\n",
        "  @staticmethod\n",
        "  def subtract_numbers(a, b):\n",
        "    return a - b\n",
        "\n",
        "math = MathOperations()\n",
        "print(f\"Add Two Numbers: {math.add_numbers(10, 25)}\")\n",
        "print(f\"Subtract Two Numbers: {math.subtract_numbers(120, 25)}\")\n"
      ],
      "metadata": {
        "colab": {
          "base_uri": "https://localhost:8080/"
        },
        "id": "LgykKqgeQAgN",
        "outputId": "8bff1b6c-4a57-460e-c0d5-203992af74ca"
      },
      "execution_count": null,
      "outputs": [
        {
          "output_type": "stream",
          "name": "stdout",
          "text": [
            "Add Two Numbers: 35\n",
            "Subtract Two Numbers: 95\n"
          ]
        }
      ]
    },
    {
      "cell_type": "code",
      "source": [
        "# 8. Implement a class Person with a class method to count the total number of persons created.\n",
        "\n",
        "class Person:\n",
        "  count = 0\n",
        "\n",
        "  def __init__(self, name):\n",
        "    self.name = name\n",
        "    Person.count += 1\n",
        "\n",
        "  @classmethod\n",
        "  def show_info(cls):\n",
        "    return cls.count\n",
        "\n",
        "p1 = Person('Vicky')\n",
        "p2 = Person('Utkarsh')\n",
        "p3 = Person('Himanshu')\n",
        "p4 = Person('Ashutosh')\n",
        "print(f\"Total Persons: {Person.show_info()}\")\n"
      ],
      "metadata": {
        "colab": {
          "base_uri": "https://localhost:8080/"
        },
        "id": "lOFR5Pk6RQHE",
        "outputId": "544e8a77-9411-4d6b-c226-16d1ca9bd68a"
      },
      "execution_count": null,
      "outputs": [
        {
          "output_type": "stream",
          "name": "stdout",
          "text": [
            "Total Persons: 4\n"
          ]
        }
      ]
    },
    {
      "cell_type": "code",
      "source": [
        "# 9. Write a class Fraction with attributes numerator and denominator. Override the str method to display the fraction as \"numerator/denominator\".\n",
        "\n",
        "class Fraction:\n",
        "  def __init__(self, numerator, denominator):\n",
        "    self.numerator = numerator\n",
        "    self.denominator = denominator\n",
        "\n",
        "  def __str__(self):\n",
        "    return f\"Fraction: {self.numerator}/{self.denominator}\"\n",
        "\n",
        "f = Fraction(14, 5)\n",
        "print(f)"
      ],
      "metadata": {
        "colab": {
          "base_uri": "https://localhost:8080/"
        },
        "id": "ZKmDTeQYRQDn",
        "outputId": "456d1bcc-d312-4169-ccac-a39a6d3244ae"
      },
      "execution_count": null,
      "outputs": [
        {
          "output_type": "stream",
          "name": "stdout",
          "text": [
            "Fraction: 14/5\n"
          ]
        }
      ]
    },
    {
      "cell_type": "code",
      "source": [
        "# 10. Demonstrate operator overloading by creating a class Vector and overriding the add method to add two vectors\n",
        "\n",
        "class Vector:\n",
        "  def __init__(self, x, y):\n",
        "    self.x = x\n",
        "    self.y = y\n",
        "\n",
        "  def __add__(self, other):\n",
        "    return Vector(self.x + other.x, self.y + other.y)\n",
        "\n",
        "  def __str__(self):\n",
        "    return f\"Vector({self.x}, {self.y})\"\n",
        "\n",
        "x = Vector(2, 3)\n",
        "y = Vector(-3, 1)\n",
        "result = x + y\n",
        "print(result)"
      ],
      "metadata": {
        "colab": {
          "base_uri": "https://localhost:8080/"
        },
        "id": "PTITdztPRP_2",
        "outputId": "5e625cc1-1a06-480c-e483-7f0502882ba9"
      },
      "execution_count": null,
      "outputs": [
        {
          "output_type": "stream",
          "name": "stdout",
          "text": [
            "Vector(-1, 4)\n"
          ]
        }
      ]
    },
    {
      "cell_type": "code",
      "source": [
        "# 11. Create a class Person with attributes name and age. Add a method greet() that prints \"Hello, my name is {name} and I am {age} years old.\"\n",
        "\n",
        "class Person:\n",
        "  def __init__(self, name, age):\n",
        "    self.name = name\n",
        "    self.age = age\n",
        "\n",
        "  def greet(self):\n",
        "    print(f\"Hello, my name is {self.name} and I am {self.age} years old.\")\n",
        "\n",
        "p = Person('vicky', 22)\n",
        "p.greet()"
      ],
      "metadata": {
        "colab": {
          "base_uri": "https://localhost:8080/"
        },
        "id": "V3t5zAu1l73O",
        "outputId": "40b59189-9273-4fbd-b576-19cf080d1083"
      },
      "execution_count": 1,
      "outputs": [
        {
          "output_type": "stream",
          "name": "stdout",
          "text": [
            "Hello, my name is vicky and I am 22 years old.\n"
          ]
        }
      ]
    },
    {
      "cell_type": "code",
      "source": [
        "# 12. Implement a class Student with attributes name and grades. Create a method average_grade() to compute the average of the grades.\n",
        "\n",
        "class Student:\n",
        "  def __init__(self, name, grades):\n",
        "    self.name = name\n",
        "    self.grades = grades\n",
        "\n",
        "  def average_grades(self):\n",
        "    return f\"Average Grades: {sum(self.grades)/len(self.grades)}\"\n",
        "\n",
        "s = Student('vicky', [90, 88, 79, 88, 80])\n",
        "print(s.average_grades())"
      ],
      "metadata": {
        "colab": {
          "base_uri": "https://localhost:8080/"
        },
        "id": "bQ1ueFHUl7z1",
        "outputId": "a0ba4eb1-174e-436a-9ee4-903d7e06ed9d"
      },
      "execution_count": 2,
      "outputs": [
        {
          "output_type": "stream",
          "name": "stdout",
          "text": [
            "Average Grades: 85.0\n"
          ]
        }
      ]
    },
    {
      "cell_type": "code",
      "source": [
        "# 13. Create a class Rectangle with methods set_dimensions() to set the dimensions and area() to calculate the area.\n",
        "\n",
        "class Rectangle:\n",
        "  def __init__(self, len, width):\n",
        "    self.len = len\n",
        "    self.width = width\n",
        "\n",
        "  def set_dimensions(self, new_len, new_width):\n",
        "    self.len = new_len\n",
        "    self.width = new_width\n",
        "\n",
        "  def area(self):\n",
        "    return self.len * self.width\n",
        "\n",
        "r = Rectangle(4, 8)\n",
        "print(f\"Area: {r.area()}\")\n",
        "r.set_dimensions(10, 20)\n",
        "print(f\"New Area: {r.area()}\")"
      ],
      "metadata": {
        "colab": {
          "base_uri": "https://localhost:8080/"
        },
        "id": "OEM7da7bl7wx",
        "outputId": "2ce1ca0f-47d2-4929-ca8e-cf50b0c689b5"
      },
      "execution_count": 3,
      "outputs": [
        {
          "output_type": "stream",
          "name": "stdout",
          "text": [
            "Area: 32\n",
            "New Area: 200\n"
          ]
        }
      ]
    },
    {
      "cell_type": "code",
      "source": [
        "# 14. Create a class Employee with a method calculate_salary() that computes the salary based on hours worked and hourly rate. Create a derived class Manager that adds a bonus to the salary.\n",
        "\n",
        "class Employee:\n",
        "  def __init__(self, name, hour, rate):\n",
        "    self.name = name\n",
        "    self.hour = hour\n",
        "    self.rate = rate\n",
        "\n",
        "  def calculate_salary(self):\n",
        "    return self.hour * self.rate\n",
        "\n",
        "class Manager(Employee):\n",
        "  def __init__(self, name, hour, rate, bonus):\n",
        "    super().__init__(name, hour, rate)\n",
        "    self.bonus = bonus\n",
        "\n",
        "  def calculate_salary(self):\n",
        "    return super().calculate_salary() + self.bonus\n",
        "\n",
        "m = Manager('Vicky', 240, 1000, 40000) # working hours in month= 240 hours, salary per hours = 1000\n",
        "print(f\"Salary of {m.name} : {m.calculate_salary()}\") # Salary of Vicky : 280000"
      ],
      "metadata": {
        "colab": {
          "base_uri": "https://localhost:8080/"
        },
        "id": "I-l5dF8dl7tz",
        "outputId": "4d0edd44-dbb2-4b9a-eb30-8dd7c705d046"
      },
      "execution_count": 9,
      "outputs": [
        {
          "output_type": "stream",
          "name": "stdout",
          "text": [
            "Salary of Vicky : 280000\n"
          ]
        }
      ]
    },
    {
      "cell_type": "code",
      "source": [
        "# 15. Create a class Product with attributes name, price, and quantity. Implement a method total_price() that calculates the total price of the product.\n",
        "\n",
        "class Product:\n",
        "  def __init__(self, name, price, quantity):\n",
        "    self.name = name\n",
        "    self.price = price\n",
        "    self.quantity = quantity\n",
        "\n",
        "  def total_price(self):\n",
        "    return f\"Total Price: {self.price * self.quantity}\"\n",
        "\n",
        "p = Product('Mobile', 20000, 50)\n",
        "print(p.total_price())"
      ],
      "metadata": {
        "colab": {
          "base_uri": "https://localhost:8080/"
        },
        "id": "oxu-gMr0l7q7",
        "outputId": "0dcb6d0e-434a-4e82-ef54-d9bba1c624e4"
      },
      "execution_count": 10,
      "outputs": [
        {
          "output_type": "stream",
          "name": "stdout",
          "text": [
            "Total Price: 1000000\n"
          ]
        }
      ]
    },
    {
      "cell_type": "code",
      "source": [
        "# 16. Create a class Animal with an abstract method sound(). Create two derived classes Cow and Sheep that implement the sound() method.\n",
        "\n",
        "from abc import ABC, abstractmethod\n",
        "\n",
        "class Animal(ABC):\n",
        "  @abstractmethod\n",
        "  def sound(self):\n",
        "    pass\n",
        "\n",
        "class Cow(Animal):\n",
        "  def sound(self):\n",
        "    print('Cow Make Sound : Moo!')\n",
        "\n",
        "class Sheep(Animal):\n",
        "  def sound(self):\n",
        "    print(\"Sheep Make Sound : Baah!\")\n",
        "\n",
        "c = Cow()\n",
        "s = Sheep()\n",
        "c.sound()\n",
        "s.sound()\n"
      ],
      "metadata": {
        "colab": {
          "base_uri": "https://localhost:8080/"
        },
        "id": "JKc1wpqql7oF",
        "outputId": "cbe48843-be9a-4319-f465-3a792947782b"
      },
      "execution_count": 12,
      "outputs": [
        {
          "output_type": "stream",
          "name": "stdout",
          "text": [
            "Cow Make Sound : Moo!\n",
            "Sheep Make Sound : Baah!\n"
          ]
        }
      ]
    },
    {
      "cell_type": "code",
      "source": [
        "# 17. Create a class Book with attributes title, author, and year_published. Add a method get_book_info() that returns a formatted string with the book's details.\n",
        "\n",
        "class Book:\n",
        "  def __init__(self, title, author, year_published):\n",
        "    self.title = title\n",
        "    self.author = author\n",
        "    self.year_published = year_published\n",
        "\n",
        "  def get_book_info(self):\n",
        "    return f\"Title: {self.title}\\nAuthor: {self.author}\\nPublished Year: {self.year_published}\"\n",
        "\n",
        "b = Book('The Alchemist', 'Paulo Coelho', 1988)\n",
        "print(b.get_book_info())\n"
      ],
      "metadata": {
        "colab": {
          "base_uri": "https://localhost:8080/"
        },
        "id": "Ac1Gv9upl7lI",
        "outputId": "860b0790-08b1-43cb-fba4-488cfe4ec7b7"
      },
      "execution_count": 13,
      "outputs": [
        {
          "output_type": "stream",
          "name": "stdout",
          "text": [
            "Title: The Alchemist\n",
            "Author: Paulo Coelho\n",
            "Published Year: 1988\n"
          ]
        }
      ]
    },
    {
      "cell_type": "code",
      "source": [
        "# 18. Create a class House with attributes address and price. Create a derived class Mansion that adds an attribute number_of_rooms.\n",
        "\n",
        "class House:\n",
        "  def __init__(self, address, price):\n",
        "    self.address = address\n",
        "    self.price = price\n",
        "\n",
        "  def info(self):\n",
        "    print(f\"Address: {self.address},\\nPrice: ₹{self.price},\")\n",
        "\n",
        "class Mansion(House):\n",
        "  def __init__(self, address, price, number_of_rooms):\n",
        "    super().__init__(address, price)\n",
        "    self.number_of_rooms = number_of_rooms\n",
        "\n",
        "  def info(self):\n",
        "    super().info()\n",
        "    print(f\"Number of Rooms: {self.number_of_rooms}\")\n",
        "\n",
        "m = Mansion('Danapur Cantt, Patna-801503', 6000000, 5)\n",
        "m.info()"
      ],
      "metadata": {
        "colab": {
          "base_uri": "https://localhost:8080/"
        },
        "id": "wmcExeLAl7iS",
        "outputId": "d0256594-19bf-48db-dd50-97db50084cb9"
      },
      "execution_count": 16,
      "outputs": [
        {
          "output_type": "stream",
          "name": "stdout",
          "text": [
            "Address: Danapur Cantt, Patna-801503,\n",
            "Price: ₹6000000,\n",
            "Number of Rooms: 5\n"
          ]
        }
      ]
    }
  ]
}