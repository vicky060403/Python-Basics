{
  "nbformat": 4,
  "nbformat_minor": 0,
  "metadata": {
    "colab": {
      "provenance": []
    },
    "kernelspec": {
      "name": "python3",
      "display_name": "Python 3"
    },
    "language_info": {
      "name": "python"
    }
  },
  "cells": [
    {
      "cell_type": "markdown",
      "source": [
        "1. What is Python, and why is it popular?\n",
        "\n",
        "  - Python is an interpreted, dynamically typed, high-level programming language that is widely used in many fields, including machine learning, artificial intelligence, and back-end development ets.\n",
        "  - Python's popularity stems from its vast collection of libraries—like NumPy, Pandas, and Scikit-learn and many more which make it useful in many fields. It is also one of the easiest languages to learn and understand."
      ],
      "metadata": {
        "id": "WUUuqE3okOAk"
      }
    },
    {
      "cell_type": "markdown",
      "source": [
        "2. What is an interpreter in Python ?\n",
        "\n",
        "  - An interpreter in python is a program that translates python script (.py) line by line and convert it into bytecodes that is low level and immediately executes it. If the interpreter finds an error, it stops and reports it instantly."
      ],
      "metadata": {
        "id": "1lApKcMlmvNA"
      }
    },
    {
      "cell_type": "markdown",
      "source": [
        "3.  What are pre-defined keywords in Python?\n",
        "\n",
        "  - In python keywords are reserved words that have special meaning and these words are not used as a varibles name. All the pre-defined keywors in python are as follow:\n",
        "\n",
        "  - False, None, True, and, or, as, assert, async, await, break, class, continue, def, del, elif, else, except, finally, for, from, global, if, import, in, is, lambda, nonlocal, not, pass, raise, return, try, while, with, yield."
      ],
      "metadata": {
        "id": "C_Kgz98hmvYd"
      }
    },
    {
      "cell_type": "markdown",
      "source": [
        "4. Can keywords be used as variable names?\n",
        "\n",
        "  - No , As keywords are reserved words and it has special meaning in python. So it is not recognised by interpreter as variable names"
      ],
      "metadata": {
        "id": "1UeWZz8MmvbG"
      }
    },
    {
      "cell_type": "markdown",
      "source": [
        "5. What is mutability in Python?\n",
        "\n",
        "  - Mutability is refered as the objects state or value can be changed after it has been created . For examples List , Dictionary, sets, etc are mutables objects"
      ],
      "metadata": {
        "id": "bmBKz2uUmveB"
      }
    },
    {
      "cell_type": "markdown",
      "source": [
        "6. Why are lists mutable, but tuples are immutable?\n",
        "\n",
        "  - Lists are mutable because they are designed as dynamic containers which can store , remove and update data. But tuples are designed as fixed sized container which can only store fixed data and we cannot change or update its values.\n",
        "  That's why tuples are faster and more memory efficient than lists"
      ],
      "metadata": {
        "id": "zUaaoOXymvhh"
      }
    },
    {
      "cell_type": "markdown",
      "source": [
        "7. What is the difference between “==” and “is” operators in Python?\n",
        "\n",
        "  - \"==\" is a comparison operator while \"is\" is a identity operator.\n",
        "  - \"==\" it compare two values and return True or False while \"is\" is used to compare the memory location of two objects.\n",
        "  - Both are used as conditional checks in if, elif, etc statements"
      ],
      "metadata": {
        "id": "wRN6G9ksv5EL"
      }
    },
    {
      "cell_type": "markdown",
      "source": [
        "8. What are logical operators in Python?\n",
        "\n",
        "  - Logical operators are used to combines the conditonal statements and used in if , elif, while, etc. , it returns the boolean value as True or False.\n",
        "  - Here is logical operators : and , or, not\n",
        "  - where 'and' return true if both conditons are True  if one of the condition is false then it return False.\n",
        "  - 'or' return True if any one condition is True.\n",
        "  - 'not' return negation of that condition."
      ],
      "metadata": {
        "id": "D3MV0FA3v5ZO"
      }
    },
    {
      "cell_type": "markdown",
      "source": [
        "9. What is type casting in Python?\n",
        "\n",
        "  - Type Casting is the process of converting one data type to another(eg. int  float, float -> str). It allow us to change the data type of input or output as needed.\n",
        "\n",
        "  - Ex. converting float value into integer ,converting integer value to string.\n",
        "\n",
        "        #code Ex.\n",
        "        a = 2.66\n",
        "        b = int(a)\n",
        "        print(b, type(b) # output: 2 <class int>"
      ],
      "metadata": {
        "id": "SVpi4UHvv5c0"
      }
    },
    {
      "cell_type": "markdown",
      "source": [
        "10. What is the difference between implicit and explicit type casting?\n",
        "\n",
        "  - Implicit type-casting: When Python automatically converts one data type into another during an operation (without manual type conversion from the programmer), it is called implicit type casting.\n",
        "\n",
        "  - Example:\n",
        "\n",
        "        a = 4\n",
        "        b = 3.55\n",
        "        sum = a + b # this is implicit type casting\n",
        "        print(sum) # 7.55\n",
        "\n",
        "  - Explicit type-casting: When the programmer manually converts one data type into another using built-in functions like int(), float(), str(), list(), etc., it is called explicit type casting.\n",
        "\n",
        "  - Example:\n",
        "\n",
        "        a = int(input(\"Enter your marks: )) # this is explicit type conversion\n",
        "        # as input() function gives input in string format\n",
        "        percent = (a/500) * 100\n",
        "        print('marks percent: ', percent)"
      ],
      "metadata": {
        "id": "Ni_IJqUBv5me"
      }
    },
    {
      "cell_type": "markdown",
      "source": [
        "11. What is the purpose of conditional statements in Python?\n",
        "\n",
        "  - The purpose of the conditional statements is to control the flow of program by making decisions. They allow execution of block of code only if the given condition is True.\n",
        "\n",
        "  - In python there is 3 keywords that are used for conditional statements  i.e. if , else, elif.\n",
        "\n",
        "  - syntax:\n",
        "\n",
        "    if(condition):\n",
        "\n",
        "        #your logic or code\n",
        "\n",
        "    elif(condition):\n",
        "\n",
        "          #it execute if the condition is False in 'if' statement\n",
        "\n",
        "    else:\n",
        "\n",
        "          #it execute only ,'if'or 'elif' conditions is False\n",
        "\n"
      ],
      "metadata": {
        "id": "w21c0bZpv5pU"
      }
    },
    {
      "cell_type": "markdown",
      "source": [
        "12. How does the elif statement work?\n",
        "\n",
        "  - The elif statement is used to check multiple conditions one by one.\n",
        "  - It works like \"else if\" in other programming languages.\n",
        "  - An elif block is executed only if the previous if (or another elif) condition is False."
      ],
      "metadata": {
        "id": "6KPPXgbuv5sH"
      }
    },
    {
      "cell_type": "markdown",
      "source": [
        "13. What is the difference between for and while loops?\n",
        "\n",
        "  - For loop is used when we know the number of iterations in advance or when we need to iterate over a sequence (like list, tuple, string, or range).\n",
        "\n",
        "  - Syntax:\n",
        "\n",
        "    for i in range(no of itrations):\n",
        "      #block of code\n",
        "\n",
        "\n",
        "  - While loop is used when we do not know the number of iterations in advance, and the loop continues until a certain condition becomes False.\n",
        "\n",
        "  - Syntax:\n",
        "\n",
        "    while(condition):\n",
        "       #block of code"
      ],
      "metadata": {
        "id": "qY-xEzx2v5u8"
      }
    },
    {
      "cell_type": "markdown",
      "source": [
        "14. Describe a scenario where a while loop is more suitable than a for loop?\n",
        "\n",
        "  - A while loop is more suitable when the number of iterations is not known in advance.\n",
        "\n",
        "  - For example, in an ATM PIN scenario, when a person inserts their card, the ATM keeps asking for the correct PIN until they enter it correctly (or until the maximum number of attempts runs out).\n",
        "\n",
        "  - Since we don’t know how many times the user will enter the wrong PIN, a while loop is the best choice rather than for loop.\n"
      ],
      "metadata": {
        "id": "xxfhEw8bv5xw"
      }
    },
    {
      "cell_type": "markdown",
      "source": [
        "## Practical Questions\n"
      ],
      "metadata": {
        "id": "ZhrkHVoUv50c"
      }
    },
    {
      "cell_type": "code",
      "source": [
        "# 1. Write a Python program to print \"Hello, World!\n",
        "print(\"Hello, World!\")"
      ],
      "metadata": {
        "colab": {
          "base_uri": "https://localhost:8080/"
        },
        "id": "pr3LOYRAwVM_",
        "outputId": "b043f6b3-be15-4b3f-b3e5-9e4fd13a2c65"
      },
      "execution_count": 1,
      "outputs": [
        {
          "output_type": "stream",
          "name": "stdout",
          "text": [
            "Hello, World!\n"
          ]
        }
      ]
    },
    {
      "cell_type": "code",
      "source": [
        "# 2. Write a Python program that displays your name and age\n",
        "name = 'Vicky Kumar'\n",
        "age = 22\n",
        "print(f\"Name: {name}\\nAge: {age}\")"
      ],
      "metadata": {
        "id": "Rov0GPPawiNx"
      },
      "execution_count": null,
      "outputs": []
    },
    {
      "cell_type": "code",
      "source": [
        "# 3. Write code to print all the pre-defined keywords in Python using the keywords library.\n",
        "\n",
        "import keyword\n",
        "print(f'All the pre-defined keywords in Python are: \\n{keyword.kwlist}')\n",
        "\n"
      ],
      "metadata": {
        "colab": {
          "base_uri": "https://localhost:8080/"
        },
        "id": "oKnNswWdw8vb",
        "outputId": "81bc94c5-029e-491a-b5c3-c33a5a611b4b"
      },
      "execution_count": 5,
      "outputs": [
        {
          "output_type": "stream",
          "name": "stdout",
          "text": [
            "All the pre-defined keywords in Python are: \n",
            "['False', 'None', 'True', 'and', 'as', 'assert', 'async', 'await', 'break', 'class', 'continue', 'def', 'del', 'elif', 'else', 'except', 'finally', 'for', 'from', 'global', 'if', 'import', 'in', 'is', 'lambda', 'nonlocal', 'not', 'or', 'pass', 'raise', 'return', 'try', 'while', 'with', 'yield']\n"
          ]
        }
      ]
    },
    {
      "cell_type": "code",
      "source": [
        "# 4. Write a program that checks if a given word is a Python keyword.\n",
        "import keyword\n",
        "\n",
        "valid_keyword = keyword.kwlist\n",
        "\n",
        "word = input(\"Enter a word: \")\n",
        "# Method 1 using for loop\n",
        "for key in valid_keyword:\n",
        "    if word == key:\n",
        "        print(f\"{word} is a python keyword\")\n",
        "        break\n",
        "else:\n",
        "    print(f\"{word} is not a python keyword\")\n",
        "\n",
        "# Method 2 using membership operator\n",
        "\n",
        "'''if word in valid_keyword:\n",
        "    print(f\"{word} is a python keyword\")\n",
        "else:\n",
        "    print(f\"{word} is not a python keyword\")\n",
        "'''"
      ],
      "metadata": {
        "colab": {
          "base_uri": "https://localhost:8080/",
          "height": 73
        },
        "id": "UwDNcvUcxdRh",
        "outputId": "d3371508-a503-4d90-a0d1-f651e4a7ac21"
      },
      "execution_count": 11,
      "outputs": [
        {
          "output_type": "stream",
          "name": "stdout",
          "text": [
            "Enter a word: #\n",
            "# is not a python keyword\n"
          ]
        },
        {
          "output_type": "execute_result",
          "data": {
            "text/plain": [
              "'if word in valid_keyword:\\n    print(f\"{word} is a python keyword\")\\nelse:\\n    print(f\"{word} is not a python keyword\")\\n'"
            ],
            "application/vnd.google.colaboratory.intrinsic+json": {
              "type": "string"
            }
          },
          "metadata": {},
          "execution_count": 11
        }
      ]
    },
    {
      "cell_type": "code",
      "source": [
        "# 5.  Create a list and tuple in Python, and demonstrate how attempting to change an element works differently for each.\n",
        "\n",
        "name = ('vicky', 'mohit', 'shivam', 'himanshu')\n",
        "marks = [98, 96, 88, 79]\n",
        "\n",
        "print('Name: ', name)\n",
        "print(\"MArks: \", marks)\n",
        "\n",
        "# Assigning new values\n",
        "marks[3] = 90\n",
        "name[3] = 'Hemraj' # TypeError: 'tuple' object does not support item assignment\n",
        "\n",
        "# As we know that list is mutable and tuple are immutable that why 'tuple' object does not support item assignment"
      ],
      "metadata": {
        "id": "DQAtognx6pjz"
      },
      "execution_count": null,
      "outputs": []
    },
    {
      "cell_type": "code",
      "source": [
        "# 6. Write a function to demonstrate the behavior of mutable and immutable arguments.\n",
        "\n",
        "x = 5 # immutable\n",
        "my_list = [1,2,3,4,5] # mutable\n",
        "print(f\"Before modifying the values\\nx = {x}\\nmylist = {my_list}\")\n",
        "\n",
        "def modify(a, arr):\n",
        "  a = 20\n",
        "  my_list.append(10)\n",
        "  print(f\"\\nInside function\\na = {a}\\narr = {arr}\")\n",
        "\n",
        "modify(x, my_list)\n",
        "\n",
        "print(f\"\\nAfter modifying the values\\nx = {x}\\nmylist = {my_list}\")\n",
        "# x is unchanged but my_list is changed\n"
      ],
      "metadata": {
        "colab": {
          "base_uri": "https://localhost:8080/"
        },
        "id": "wrafbEgk8v3Q",
        "outputId": "280a85c5-9267-48f5-8c1c-fcbebe61d71c"
      },
      "execution_count": 25,
      "outputs": [
        {
          "output_type": "stream",
          "name": "stdout",
          "text": [
            "Before modifying the values\n",
            "x = 5\n",
            "mylist = [1, 2, 3, 4, 5]\n",
            "\n",
            "Inside function\n",
            "a = 20\n",
            "arr = [1, 2, 3, 4, 5, 10]\n",
            "\n",
            "After modifying the values\n",
            "x = 5\n",
            "mylist = [1, 2, 3, 4, 5, 10]\n"
          ]
        }
      ]
    },
    {
      "cell_type": "code",
      "source": [
        "# 7. Write a program that performs basic arithmetic operations on two user-input numbers.\n",
        "num1 = int(input(\"Enter first number: \"))\n",
        "num2 = int(input(\"Enter second number: \"))\n",
        "\n",
        "add = num1 + num2\n",
        "sub = num1 - num2\n",
        "mul = num1 * num2\n",
        "div = num1 / num2\n",
        "\n",
        "print(f\"Addition: {add}\\nSubtraction: {sub}\\nMultiplication: {mul}\\nDivision: {div}\")"
      ],
      "metadata": {
        "colab": {
          "base_uri": "https://localhost:8080/"
        },
        "id": "ORkpU4wzBG_M",
        "outputId": "603bb9ac-f45f-4ee1-c0db-7c98e9fca2c1"
      },
      "execution_count": 28,
      "outputs": [
        {
          "output_type": "stream",
          "name": "stdout",
          "text": [
            "Enter first number: 15\n",
            "Enter second number: 15\n",
            "Addition: 30\n",
            "Subtraction: 0\n",
            "Multiplication: 225\n",
            "Division: 1.0\n"
          ]
        }
      ]
    },
    {
      "cell_type": "code",
      "source": [
        "# 8. Write a program to demonstrate the use of logical operators.\n",
        "a = 0\n",
        "b = 1\n",
        "\n",
        "print(\"a and b: \", a and b) # a= 0 , b=1 0 and 1 return False (a is false and b is true values ==> return 0 )\n",
        "print(\"a or b: \", a or b)   # a= 0 , b=1 0 or 1 return True (a is false or b is true values ==> return 1)\n",
        "print(\"not a: \", not a)     # a= 0  not 0 return True (a -> False then negation of a is True)\n",
        "print(\"not b: \", not b)     # b = 1 not 1 return False (b -> True then negation of b is False)\n"
      ],
      "metadata": {
        "colab": {
          "base_uri": "https://localhost:8080/"
        },
        "id": "ugbYWhk2Bjtx",
        "outputId": "2279f4d6-2a45-44e7-8739-2c8e68f4348c"
      },
      "execution_count": 32,
      "outputs": [
        {
          "output_type": "stream",
          "name": "stdout",
          "text": [
            "a and b:  0\n",
            "a or b:  1\n",
            "not a:  True\n",
            "not b:  False\n"
          ]
        }
      ]
    },
    {
      "cell_type": "code",
      "source": [
        "# 9. Write a Python program to convert user input from string to integer, float, and boolean types.\n",
        "marks = input(\"Enter your marks: \")\n",
        "\n",
        "mark_int = int(marks)\n",
        "mark_float = float(marks)\n",
        "mark_bool = bool(marks)\n",
        "\n",
        "print(f\"Marks as integer: {mark_int}\\nMarks as float: {mark_float}\\nMarks as boolean: {mark_bool}\")"
      ],
      "metadata": {
        "colab": {
          "base_uri": "https://localhost:8080/"
        },
        "id": "pPoxjilNDiIJ",
        "outputId": "a2ee8393-ac7c-4252-925b-1d914aca6c48"
      },
      "execution_count": 34,
      "outputs": [
        {
          "output_type": "stream",
          "name": "stdout",
          "text": [
            "Enter your marks: 89\n",
            "Marks as integer: 89\n",
            "Marks as float: 89.0\n",
            "Marks as boolean: True\n"
          ]
        }
      ]
    },
    {
      "cell_type": "code",
      "source": [
        "# 10. Write code to demonstrate type casting with list elements.\n",
        "\n",
        "arr = [\"1000\", 22, 98.55, True]\n",
        "\n",
        "print(f\"Before type casting\\narr : {arr}\")\n",
        "\n",
        "for i in range(len(arr)):\n",
        "  if type(arr[i]) == str:\n",
        "    arr[i] = int(arr[i])\n",
        "  elif type(arr[i]) == bool:\n",
        "    arr[i] = int(arr[i])\n",
        "  else:\n",
        "    arr[i] = int(arr[i])\n",
        "\n",
        "# After type casting\n",
        "print(f\"After type casting\\narr : {arr}\")  # [1000, 22, 98, 1]"
      ],
      "metadata": {
        "colab": {
          "base_uri": "https://localhost:8080/"
        },
        "id": "jn68IDgyD9Pn",
        "outputId": "d81cbed6-c953-4092-800b-2eafc883e61d"
      },
      "execution_count": 38,
      "outputs": [
        {
          "output_type": "stream",
          "name": "stdout",
          "text": [
            "Before type casting\n",
            "arr : ['1000', 22, 98.55, True]\n",
            "After type casting\n",
            "arr : [1000, 22, 98, 1]\n"
          ]
        }
      ]
    },
    {
      "cell_type": "code",
      "source": [
        "# 11. Write a program that checks if a number is positive, negative, or zero\n",
        "num = int(input(\"Enter a number: \"))\n",
        "\n",
        "if num > 0:\n",
        "  print(\"Number is positive\")\n",
        "elif num < 0:\n",
        "  print(\"Number is negative\")\n",
        "else:\n",
        "  print(\"Number is zero\")"
      ],
      "metadata": {
        "colab": {
          "base_uri": "https://localhost:8080/"
        },
        "id": "iPCqsyURF-vJ",
        "outputId": "1d6a6427-b347-437c-f777-f20b1cfde2d6"
      },
      "execution_count": 40,
      "outputs": [
        {
          "output_type": "stream",
          "name": "stdout",
          "text": [
            "Enter a number: 0\n",
            "Number is zero\n"
          ]
        }
      ]
    },
    {
      "cell_type": "code",
      "source": [
        "# 12. Write a for loop to print numbers from 1 to 10.\n",
        "\n",
        "for i in range(1, 11):\n",
        "  print(i)"
      ],
      "metadata": {
        "colab": {
          "base_uri": "https://localhost:8080/"
        },
        "id": "OnyeHFdwGKnC",
        "outputId": "7e568dbd-395e-4baa-f54f-afef48fc5d60"
      },
      "execution_count": 42,
      "outputs": [
        {
          "output_type": "stream",
          "name": "stdout",
          "text": [
            "1\n",
            "2\n",
            "3\n",
            "4\n",
            "5\n",
            "6\n",
            "7\n",
            "8\n",
            "9\n",
            "10\n"
          ]
        }
      ]
    },
    {
      "cell_type": "code",
      "source": [
        "# 13. Write a Python program to find the sum of all even numbers between 1 and 50.\n",
        "\n",
        "sum = 0\n",
        "\n",
        "for i in range(1, 51):\n",
        "  if i%2 == 0:\n",
        "    sum += i\n",
        "\n",
        "print(\"Sum of all even no b/w 1 to 50: \", sum)"
      ],
      "metadata": {
        "colab": {
          "base_uri": "https://localhost:8080/"
        },
        "id": "d7Kqx12AGgwu",
        "outputId": "eef769d8-ec88-4866-c4f0-cd02608a50c4"
      },
      "execution_count": 44,
      "outputs": [
        {
          "output_type": "stream",
          "name": "stdout",
          "text": [
            "Sum of all even no b/w 1 to 50:  650\n"
          ]
        }
      ]
    },
    {
      "cell_type": "code",
      "source": [
        "# 14. Write a program to reverse a string using a while loop\n",
        "name = 'pwskills'\n",
        "i = len(name) - 1\n",
        "name1 = ''\n",
        "while i >= 0:\n",
        "  name1 += name[i]\n",
        "  i -= 1\n",
        "\n",
        "print(name1)"
      ],
      "metadata": {
        "colab": {
          "base_uri": "https://localhost:8080/"
        },
        "id": "u9aNwHrZG_OJ",
        "outputId": "49453cd5-26c2-4adf-d0dd-7f842bb0b566"
      },
      "execution_count": 3,
      "outputs": [
        {
          "output_type": "stream",
          "name": "stdout",
          "text": [
            "sllikswp\n"
          ]
        }
      ]
    },
    {
      "cell_type": "code",
      "source": [
        "# 15. Write a Python program to calculate the factorial of a number provided by the user using a while loop\n",
        "\n",
        "n = int(input(\"Enter a no : \"))\n",
        "\n",
        "def factorial(n):\n",
        "  if n == 0:\n",
        "    return 1\n",
        "  fact = 1\n",
        "  for i in range(1, n+1):\n",
        "    fact *= i\n",
        "\n",
        "  return fact\n",
        "\n",
        "print(f\"Factorail of {n}: {factorial(n)}\")"
      ],
      "metadata": {
        "colab": {
          "base_uri": "https://localhost:8080/"
        },
        "id": "SRFHYLn8pQEw",
        "outputId": "e764f722-3f5b-41ca-f79f-4f99c46e7f4b"
      },
      "execution_count": 5,
      "outputs": [
        {
          "output_type": "stream",
          "name": "stdout",
          "text": [
            "Enter a no : 5\n",
            "Factorail of 5: 120\n"
          ]
        }
      ]
    }
  ]
}